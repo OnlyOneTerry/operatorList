{
 "cells": [
  {
   "cell_type": "code",
   "execution_count": 5,
   "metadata": {},
   "outputs": [
    {
     "name": "stdout",
     "output_type": "stream",
     "text": [
      "(800, 1260, 3)\n"
     ]
    },
    {
     "data": {
      "text/plain": [
       "-1"
      ]
     },
     "execution_count": 5,
     "metadata": {},
     "output_type": "execute_result"
    }
   ],
   "source": [
    "import cv2\n",
    "img = cv2.imread(\"D:/images/girl.jpg\",1)\n",
    "cv2.imshow(\"src\",img)\n",
    "imgInfo = img.shape\n",
    "print(imgInfo)\n",
    "height =imgInfo[0]\n",
    "width  =imgInfo[1]\n",
    "mode = imgInfo[2]\n",
    "#1 放大 缩小 2 等比例 非\n",
    "dstHeight = int(height*0.5)\n",
    "dstWidth = int(width*0.5)\n",
    "\n",
    "#最近邻域插值 双线性插值 \n",
    "dst = cv2.resize(img,(dstWidth,dstHeight))\n",
    "cv2.imshow(\"image\",dst)\n",
    "cv2.waitKey(0)"
   ]
  },
  {
   "cell_type": "code",
   "execution_count": null,
   "metadata": {},
   "outputs": [],
   "source": [
    "#最近邻域插值 双线性插值 原理\n",
    "# src 10*20  dst 5*10\n",
    "# dst<-src\n",
    "#(1,2)<-(2,4)\n",
    "#dst x 1 --> src x 2 newX\n"
   ]
  }
 ],
 "metadata": {
  "kernelspec": {
   "display_name": "Python 3",
   "language": "python",
   "name": "python3"
  },
  "language_info": {
   "codemirror_mode": {
    "name": "ipython",
    "version": 3
   },
   "file_extension": ".py",
   "mimetype": "text/x-python",
   "name": "python",
   "nbconvert_exporter": "python",
   "pygments_lexer": "ipython3",
   "version": "3.6.6"
  }
 },
 "nbformat": 4,
 "nbformat_minor": 2
}
