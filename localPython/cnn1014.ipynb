{
 "cells": [
  {
   "cell_type": "code",
   "execution_count": 5,
   "metadata": {},
   "outputs": [
    {
     "name": "stdout",
     "output_type": "stream",
     "text": [
      "Extracting ./mnistdata\\train-images-idx3-ubyte.gz\n",
      "Extracting ./mnistdata\\train-labels-idx1-ubyte.gz\n",
      "Extracting ./mnistdata\\t10k-images-idx3-ubyte.gz\n",
      "Extracting ./mnistdata\\t10k-labels-idx1-ubyte.gz\n"
     ]
    }
   ],
   "source": [
    "# 加载下载好的mnistdata\n",
    "import numpy as np\n",
    "import tensorflow as tf\n",
    "import matplotlib.pyplot as plt\n",
    "from tensorflow.examples.tutorials.mnist import input_data\n",
    "mnist_data_folder=\"./mnistdata\"\n",
    "mnist=input_data.read_data_sets(mnist_data_folder,one_hot=True)\n"
   ]
  },
  {
   "cell_type": "code",
   "execution_count": 37,
   "metadata": {},
   "outputs": [
    {
     "name": "stdout",
     "output_type": "stream",
     "text": [
      "NETWORK READY\n"
     ]
    }
   ],
   "source": [
    "n_hidden_1 =  256\n",
    "n_hidden_2 = 128\n",
    "n_input = 784\n",
    "n_classes = 10\n",
    "\n",
    "x = tf.placeholder(\"float\",[None,n_input])\n",
    "y = tf.placeholder(\"float\",[None,n_classes])\n",
    "\n",
    "stddev = 0.1\n",
    "weights = {#高斯初始化\n",
    "     'w1': tf.Variable(tf.random_normal([n_input,n_hidden_1],stddev=stddev)),\n",
    "     'w2':tf.Variable(tf.random_normal([n_hidden_1,n_hidden_2],stddev=stddev)),\n",
    "     'out':tf.Variable(tf.random_normal([n_hidden_2,n_classes],stddev=stddev))\n",
    "}\n",
    "\n",
    "biases = {\n",
    "    'b1': tf.Variable(tf.random_normal([n_hidden_1])),\n",
    "    'b2': tf.Variable(tf.random_normal([n_hidden_2])),\n",
    "    'out':tf.Variable(tf.random_normal([n_classes]))\n",
    "}\n",
    "print(\"NETWORK READY\")\n",
    "\n",
    "def multilayer_perception(_X,_weights,_biases):\n",
    "    layer_1 =  tf.nn.sigmoid(tf.add(tf.matmul(_X,_weights['w1']),_biases['b1']))\n",
    "    layer_2 =  tf.nn.sigmoid(tf.add(tf.matmul(layer_1,_weights['w2']),_biases['b2']))\n",
    "    return (tf.matmul(layer_2,_weights['out']) + _biases['out'])\n",
    "\n",
    "# prediction\n",
    "\n",
    "pred = multilayer_perception(x,weights,biases)\n",
    "\n",
    "# loss and optimzier\n",
    "cost = tf.reduce_mean(tf.nn.softmax_cross_entropy_with_logits(labels=pred,logits=y))\n",
    "# optm = tf.train.GradientDescentOptimizer(0.001).minimize(cost)\n",
    "# corr = tf.equal(tf.argmax(pred,1),tf.argmax(y,1))\n",
    "# accr = tf.reduce_mean(tf.cast(corr,\"float\"))\n",
    "\n",
    "# initializer\n",
    "# init = tf.global_variables_initializer()\n",
    "# print(\"functions ready\")"
   ]
  },
  {
   "cell_type": "code",
   "execution_count": null,
   "metadata": {},
   "outputs": [],
   "source": []
  },
  {
   "cell_type": "code",
   "execution_count": null,
   "metadata": {},
   "outputs": [],
   "source": []
  }
 ],
 "metadata": {
  "kernelspec": {
   "display_name": "Python 3",
   "language": "python",
   "name": "python3"
  },
  "language_info": {
   "codemirror_mode": {
    "name": "ipython",
    "version": 3
   },
   "file_extension": ".py",
   "mimetype": "text/x-python",
   "name": "python",
   "nbconvert_exporter": "python",
   "pygments_lexer": "ipython3",
   "version": "3.6.6"
  }
 },
 "nbformat": 4,
 "nbformat_minor": 2
}
