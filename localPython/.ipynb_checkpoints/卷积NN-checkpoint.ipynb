{
 "cells": [
  {
   "cell_type": "code",
   "execution_count": 2,
   "metadata": {},
   "outputs": [
    {
     "name": "stdout",
     "output_type": "stream",
     "text": [
      "Extracting ./mnistdata\\train-images-idx3-ubyte.gz\n",
      "Extracting ./mnistdata\\train-labels-idx1-ubyte.gz\n",
      "Extracting ./mnistdata\\t10k-images-idx3-ubyte.gz\n",
      "Extracting ./mnistdata\\t10k-labels-idx1-ubyte.gz\n",
      "mnist loaded\n"
     ]
    }
   ],
   "source": [
    "# 加载下载好的mnistdata\n",
    "import numpy as np\n",
    "import tensorflow as tf\n",
    "import matplotlib.pyplot as plt\n",
    "from tensorflow.examples.tutorials.mnist import input_data\n",
    "mnist_data_folder=\"./mnistdata\"\n",
    "mnist=input_data.read_data_sets(mnist_data_folder,one_hot=True)\n",
    "trainimg = mnist.train.images\n",
    "trainlabel = mnist.train.labels\n",
    "testimg = mnist.test.images\n",
    "testlabel = mnist.test.labels\n",
    "print(\"mnist loaded\")"
   ]
  },
  {
   "cell_type": "code",
   "execution_count": null,
   "metadata": {},
   "outputs": [],
   "source": [
    "n_input = 784\n",
    "n_output = 10\n",
    "weights  ={\n",
    "    'wc1':tf.Variable(tf.random_normal([3,3,1,64],stddev=0.1)),\n",
    "    'wc2':tf.Variable(tf.random_normal([3,3,64,128],stddev=0.1)),\n",
    "    'wd1':tf.Variable(tf.random_normal([7*7*128,1024],stddev=0.1)),\n",
    "    'wd2':tf.Variable(tf.random_normal([1024,n_output],stddev=0.1)\n",
    "}\n",
    "biases ={\n",
    "    'bc1':tf.Variable(tf.random_normal([64],stddev=0.1)),\n",
    "    'bc2':tf.Variable(tf.random_normal([128],stddev=0.1)),\n",
    "    'bd1':tf.Variable(tf.random_normal([1204],stddev=0.1)),\n",
    "    'bd2':tf.Variable(tf.random_normal([n_output],stddev=0.1))\n",
    "}                      \n"
   ]
  }
 ],
 "metadata": {
  "kernelspec": {
   "display_name": "Python 3",
   "language": "python",
   "name": "python3"
  },
  "language_info": {
   "codemirror_mode": {
    "name": "ipython",
    "version": 3
   },
   "file_extension": ".py",
   "mimetype": "text/x-python",
   "name": "python",
   "nbconvert_exporter": "python",
   "pygments_lexer": "ipython3",
   "version": "3.6.6"
  }
 },
 "nbformat": 4,
 "nbformat_minor": 2
}
