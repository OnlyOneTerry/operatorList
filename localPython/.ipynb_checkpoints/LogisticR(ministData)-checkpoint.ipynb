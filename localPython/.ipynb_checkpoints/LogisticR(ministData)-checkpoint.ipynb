{
 "cells": [
  {
   "cell_type": "code",
   "execution_count": 25,
   "metadata": {},
   "outputs": [
    {
     "name": "stdout",
     "output_type": "stream",
     "text": [
      "Extracting ./mnistdata\\train-images-idx3-ubyte.gz\n",
      "Extracting ./mnistdata\\train-labels-idx1-ubyte.gz\n",
      "Extracting ./mnistdata\\t10k-images-idx3-ubyte.gz\n",
      "Extracting ./mnistdata\\t10k-labels-idx1-ubyte.gz\n"
     ]
    }
   ],
   "source": [
    "import numpy as np\n",
    "import matplotlib.pyplot as plt\n",
    "import tensorflow as tf\n",
    "from tensorflow.examples.tutorials.mnist import  input_data\n",
    "mnist = input_data.read_data_sets(\"./mnistdata\",one_hot=True)"
   ]
  },
  {
   "cell_type": "code",
   "execution_count": 26,
   "metadata": {},
   "outputs": [
    {
     "name": "stdout",
     "output_type": "stream",
     "text": [
      "MNIST loaded\n"
     ]
    }
   ],
   "source": [
    "trainimg = mnist.train.images\n",
    "trainlabel  = mnist.train.labels\n",
    "testimg  = mnist.train.images\n",
    "testlabel = mnist.test.labels\n",
    "print(\"MNIST loaded\")"
   ]
  },
  {
   "cell_type": "code",
   "execution_count": 27,
   "metadata": {},
   "outputs": [
    {
     "name": "stdout",
     "output_type": "stream",
     "text": [
      "(55000, 784)\n",
      "(55000, 10)\n",
      "(55000, 784)\n",
      "(10000, 10)\n",
      "[0. 0. 0. 0. 0. 0. 0. 1. 0. 0.]\n"
     ]
    }
   ],
   "source": [
    "print(trainimg.shape)\n",
    "print(trainlabel.shape)\n",
    "print(testimg.shape)\n",
    "print(testlabel.shape)\n",
    "print(trainlabel[0])"
   ]
  },
  {
   "cell_type": "code",
   "execution_count": 28,
   "metadata": {},
   "outputs": [],
   "source": [
    "x = tf.placeholder(\"float\",[None,784])\n",
    "y = tf.placeholder(\"float\",[None,10])\n",
    "W = tf.Variable(tf.zeros([784,10]))\n",
    "b = tf.Variable(tf.zeros([10]))\n",
    "actv = tf.nn.softmax(tf.matmul(x,W)+b)\n",
    "# cost function\n",
    "cost = tf.reduce_mean(-tf.reduce_sum(y*tf.log(actv),reduction_indices=1))\n",
    "# optimizer\n",
    "learning_rate = 0.01\n",
    "optm  = tf.train.GradientDescentOptimizer(learning_rate).minimize(cost)"
   ]
  },
  {
   "cell_type": "code",
   "execution_count": 29,
   "metadata": {},
   "outputs": [],
   "source": [
    "# Prediction\n",
    "predict =  tf.equal(tf.argmax(actv,1),tf.argmax(y,1))\n",
    "# accuracy\n",
    "accr = tf.reduce_mean(tf.cast(predict,\"float\"))\n",
    "# nitializer\n",
    "init = tf.global_variables_initializer()"
   ]
  },
  {
   "cell_type": "code",
   "execution_count": 30,
   "metadata": {},
   "outputs": [
    {
     "name": "stderr",
     "output_type": "stream",
     "text": [
      "C:\\Users\\Administrator\\Anaconda3\\envs\\tensorFlow\\lib\\site-packages\\tensorflow\\python\\client\\session.py:1645: UserWarning: An interactive session is already active. This can cause out-of-memory errors in some cases. You must explicitly call `InteractiveSession.close()` to release resources held by the other session(s).\n",
      "  warnings.warn('An interactive session is already active. This can '\n"
     ]
    }
   ],
   "source": [
    "sess = tf.InteractiveSession()"
   ]
  },
  {
   "cell_type": "code",
   "execution_count": 31,
   "metadata": {},
   "outputs": [],
   "source": [
    "arr = np.array([[31,23,4,24,27,34],\n",
    "                [18,3,25,0,6,35],\n",
    "                [28,14,33,22,20,8],\n",
    "                [13,30,21,19,7,9],\n",
    "                [16,1,26,32,2,29],\n",
    "                [17,12,5,11,10,15]])"
   ]
  },
  {
   "cell_type": "code",
   "execution_count": 32,
   "metadata": {},
   "outputs": [
    {
     "data": {
      "text/plain": [
       "array([5, 5, 2, 1, 3, 0], dtype=int64)"
      ]
     },
     "execution_count": 32,
     "metadata": {},
     "output_type": "execute_result"
    }
   ],
   "source": [
    "tf.rank(arr).eval()# TensorFlow 打印添加.eval()\n",
    "tf.shape(arr).eval()\n",
    "tf.argmax(arr,0).eval()#返回列中最大值对应的索引 0表示列 1 表示行\n",
    "tf.argmax(arr,1).eval()#返回列中最大值对应的索引 0表示列 1 表示行"
   ]
  },
  {
   "cell_type": "code",
   "execution_count": 36,
   "metadata": {},
   "outputs": [],
   "source": [
    "training_epochs = 50 #样本迭代次数\n",
    "batch_size = 100 #每次迭代选择样本的个数\n",
    "display_step = 5 \n",
    "# SESSION\n",
    "sess = tf.Session()\n",
    "sess.run(init)\n",
    "# mini-batch learning\n",
    "for epoch in range(training_epochs):\n",
    "    avg_cost = 0\n",
    "    num_batch = int(mnist.train.num_examples/batch_size)\n",
    "    for i in range(num_batch):\n",
    "        batch_xs,batch_ys = mnist.train.next_batch(batch_size)\n",
    "        sess.run(optm,feed_dict={x:batch_xs,y:batch_ys})\n",
    "        feeds = {x:batch_xs,y:batch_ys}\n",
    "        avg_cost += sess.run(cost,feed_dict=feeds)/num_batch\n",
    "#     display\n",
    "    if epoch % display_step == 0:\n",
    "        feeds_train = {x:batch_xs, y:batch_ys}\n",
    "        feeds_test  = {x:mnist.train.images,y:mnist.train.labels }\n",
    "        train_acc = sess.run(accr,feed_dict=feeds_train)\n",
    "        test_acc = sess.run(accr,feed_dict=feeds_test)"
   ]
  },
  {
   "cell_type": "code",
   "execution_count": null,
   "metadata": {},
   "outputs": [],
   "source": []
  }
 ],
 "metadata": {
  "kernelspec": {
   "display_name": "Python 3",
   "language": "python",
   "name": "python3"
  },
  "language_info": {
   "codemirror_mode": {
    "name": "ipython",
    "version": 3
   },
   "file_extension": ".py",
   "mimetype": "text/x-python",
   "name": "python",
   "nbconvert_exporter": "python",
   "pygments_lexer": "ipython3",
   "version": "3.6.6"
  }
 },
 "nbformat": 4,
 "nbformat_minor": 2
}
