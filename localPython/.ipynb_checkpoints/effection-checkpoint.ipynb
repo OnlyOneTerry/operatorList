{
 "cells": [
  {
   "cell_type": "code",
   "execution_count": 7,
   "metadata": {},
   "outputs": [
    {
     "data": {
      "text/plain": [
       "-1"
      ]
     },
     "execution_count": 7,
     "metadata": {},
     "output_type": "execute_result"
    }
   ],
   "source": [
    "import cv2\n",
    "import numpy as np\n",
    "img = cv2.imread(\"D:/images/clock.jpg\",1)\n",
    "cv2.imshow('src',img)\n",
    "imgInfo = img.shape\n",
    "height  = imgInfo[0]\n",
    "width = imgInfo[1]\n",
    "# RGB R=G=B =gray\n",
    "dst  = np.zeros((height,width,3),np.uint8)\n",
    "for i in range(0,height):\n",
    "    for j in range(0,width):\n",
    "         (b,g,r) = img[i,j]\n",
    "         gray = (int(b)+int(g)+int(r))/3\n",
    "         dst[i,j] = np.uint8(gray)\n",
    "cv2.imshow('dst',dst)\n",
    "cv2.waitKey(0)"
   ]
  },
  {
   "cell_type": "code",
   "execution_count": 8,
   "metadata": {},
   "outputs": [
    {
     "data": {
      "text/plain": [
       "-1"
      ]
     },
     "execution_count": 8,
     "metadata": {},
     "output_type": "execute_result"
    }
   ],
   "source": [
    "import cv2\n",
    "import numpy as np\n",
    "img = cv2.imread(\"D:/images/clock.jpg\",1)\n",
    "cv2.imshow('src',img)\n",
    "imgInfo = img.shape\n",
    "height  = imgInfo[0]\n",
    "width = imgInfo[1]\n",
    "# RGB R=G=B =gray\n",
    "dst  = np.zeros((height,width,3),np.uint8)\n",
    "for i in range(0,height):\n",
    "    for j in range(0,width):\n",
    "        (b,g,r) = img[i,j]\n",
    "        dst[i,j] = (255-b,255-g,255-r)\n",
    "cv2.imshow('dst',dst)\n",
    "cv2.waitKey(0)"
   ]
  },
  {
   "cell_type": "code",
   "execution_count": 10,
   "metadata": {},
   "outputs": [
    {
     "data": {
      "text/plain": [
       "-1"
      ]
     },
     "execution_count": 10,
     "metadata": {},
     "output_type": "execute_result"
    }
   ],
   "source": [
    "import cv2\n",
    "import numpy as np\n",
    "img = cv2.imread(\"D:/images/clock.jpg\",1)\n",
    "cv2.imshow('src',img)\n",
    "imgInfo = img.shape\n",
    "height  = imgInfo[0]\n",
    "width = imgInfo[1]\n",
    "\n",
    "for m in range(100,300):\n",
    "    for n in range(100,200):\n",
    "        if m%10 == 0 and n%10 == 0:\n",
    "            for  i in range(0,10):\n",
    "                for j in range(0,10):\n",
    "                    (b,g,r) = img[m,n]\n",
    "                    img[i+m,j+n] = (b,g,r)\n",
    "cv2.imshow('dst',img)\n",
    "cv2.waitKey(0)\n"
   ]
  },
  {
   "cell_type": "code",
   "execution_count": null,
   "metadata": {},
   "outputs": [],
   "source": [
    "import cv2\n",
    "import numpy as np\n",
    "import matplotlib.pyplot as plt\n",
    "# 准备data\n",
    "rand1 = np.array([[155,48],[159,50],[164,53],[168,56],[172,60]])\n",
    "rand2 = np.array([[152,53],[156,55],[160,56],[172,64],[176,65]])\n",
    "# 2 label\n",
    "label = np.array([[0],[0],[0],[0][0],[1][1],[1][1],[1]])"
   ]
  }
 ],
 "metadata": {
  "kernelspec": {
   "display_name": "Python 3",
   "language": "python",
   "name": "python3"
  },
  "language_info": {
   "codemirror_mode": {
    "name": "ipython",
    "version": 3
   },
   "file_extension": ".py",
   "mimetype": "text/x-python",
   "name": "python",
   "nbconvert_exporter": "python",
   "pygments_lexer": "ipython3",
   "version": "3.6.6"
  }
 },
 "nbformat": 4,
 "nbformat_minor": 2
}
