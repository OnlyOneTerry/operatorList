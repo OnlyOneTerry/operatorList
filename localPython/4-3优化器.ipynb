{
 "cells": [
  {
   "cell_type": "code",
   "execution_count": 9,
   "metadata": {},
   "outputs": [
    {
     "name": "stdout",
     "output_type": "stream",
     "text": [
      "Extracting ./mnistdata\\train-images-idx3-ubyte.gz\n",
      "Extracting ./mnistdata\\train-labels-idx1-ubyte.gz\n",
      "Extracting ./mnistdata\\t10k-images-idx3-ubyte.gz\n",
      "Extracting ./mnistdata\\t10k-labels-idx1-ubyte.gz\n",
      "iter0,Testing Accuracy0.9214\n",
      "iter1,Testing Accuracy0.9255\n",
      "iter2,Testing Accuracy0.9242\n",
      "iter3,Testing Accuracy0.9248\n",
      "iter4,Testing Accuracy0.9227\n",
      "iter5,Testing Accuracy0.9276\n",
      "iter6,Testing Accuracy0.9294\n",
      "iter7,Testing Accuracy0.9292\n",
      "iter8,Testing Accuracy0.9276\n",
      "iter9,Testing Accuracy0.931\n",
      "iter10,Testing Accuracy0.9301\n",
      "iter11,Testing Accuracy0.9295\n",
      "iter12,Testing Accuracy0.9281\n",
      "iter13,Testing Accuracy0.9308\n",
      "iter14,Testing Accuracy0.9287\n",
      "iter15,Testing Accuracy0.9312\n",
      "iter16,Testing Accuracy0.9304\n",
      "iter17,Testing Accuracy0.9278\n",
      "iter18,Testing Accuracy0.9272\n",
      "iter19,Testing Accuracy0.9268\n",
      "iter20,Testing Accuracy0.9294\n"
     ]
    }
   ],
   "source": [
    "import tensorflow as tf\n",
    "from tensorflow.examples.tutorials.mnist import  input_data\n",
    "mnist = input_data.read_data_sets(\"./mnistdata\",one_hot=True)\n",
    "# 每个批次的大小\n",
    "batch_size = 100\n",
    "# 计算一共有多少个批次\n",
    "n_batch = mnist.train.num_examples//batch_size\n",
    "# 定义两个placeholder\n",
    "x = tf.placeholder(tf.float32,[None,784])\n",
    "y = tf.placeholder(tf.float32,[None,10])\n",
    "\n",
    "# 创建一个简单的神经网络\n",
    "W = tf.Variable(tf.zeros([784,10]))\n",
    "b = tf.Variable(tf.zeros([10]))\n",
    "prediction = tf.nn.softmax(tf.matmul(x,W)+b)\n",
    "# 损失函数\n",
    "loss = tf.reduce_mean(tf.square(y-prediction))\n",
    "# 使用梯度下降法\n",
    "# train_step = tf.train.GaridentDescentOptimizer(0.2).minimize(loss)\n",
    "train_step = tf.train.AdamOptimizer(1e-2).minimize(loss)\n",
    "# 初始化变量\n",
    "init = tf.global_variables_initializer()\n",
    "# 结果存放在一个布尔型列表中\n",
    "correct_prediction  = tf.equal(tf.argmax(y,1),tf.argmax(prediction,1))#argmax返回一维张量中最大值所在的位置\n",
    "# 求准确率\n",
    "accuracy = tf.reduce_mean(tf.cast(correct_prediction,tf.float32))\n",
    " \n",
    "with tf.Session() as sess:\n",
    "    sess.run(init)\n",
    "    for epoch in range(21):\n",
    "        sess.run(tf.assign(lr,0.001*(0.95**epoch)))\n",
    "        for batch in range(n_batch):\n",
    "            batch_xs,batch_ys = mnist.train.next_batch(batch_size)\n",
    "            sess.run(train_step,feed_dict = {x:batch_xs,y:batch_ys})\n",
    "        acc = sess.run(accuracy,feed_dict={x:mnist.test.images,y:mnist.test.labels})\n",
    "        print(\"iter\"+str(epoch)+\",Testing Accuracy\"+str(acc))"
   ]
  },
  {
   "cell_type": "code",
   "execution_count": null,
   "metadata": {},
   "outputs": [],
   "source": []
  }
 ],
 "metadata": {
  "kernelspec": {
   "display_name": "Python 3",
   "language": "python",
   "name": "python3"
  },
  "language_info": {
   "codemirror_mode": {
    "name": "ipython",
    "version": 3
   },
   "file_extension": ".py",
   "mimetype": "text/x-python",
   "name": "python",
   "nbconvert_exporter": "python",
   "pygments_lexer": "ipython3",
   "version": "3.6.6"
  }
 },
 "nbformat": 4,
 "nbformat_minor": 2
}
