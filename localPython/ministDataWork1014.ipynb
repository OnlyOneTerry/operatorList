{
 "cells": [
  {
   "cell_type": "code",
   "execution_count": 1,
   "metadata": {},
   "outputs": [
    {
     "name": "stdout",
     "output_type": "stream",
     "text": [
      "WARNING:tensorflow:From <ipython-input-1-f7803fd2edc9>:7: read_data_sets (from tensorflow.contrib.learn.python.learn.datasets.mnist) is deprecated and will be removed in a future version.\n",
      "Instructions for updating:\n",
      "Please use alternatives such as official/mnist/dataset.py from tensorflow/models.\n",
      "WARNING:tensorflow:From C:\\Users\\Administrator\\Anaconda3\\envs\\tensorFlow\\lib\\site-packages\\tensorflow\\contrib\\learn\\python\\learn\\datasets\\mnist.py:260: maybe_download (from tensorflow.contrib.learn.python.learn.datasets.base) is deprecated and will be removed in a future version.\n",
      "Instructions for updating:\n",
      "Please write your own downloading logic.\n",
      "WARNING:tensorflow:From C:\\Users\\Administrator\\Anaconda3\\envs\\tensorFlow\\lib\\site-packages\\tensorflow\\contrib\\learn\\python\\learn\\datasets\\mnist.py:262: extract_images (from tensorflow.contrib.learn.python.learn.datasets.mnist) is deprecated and will be removed in a future version.\n",
      "Instructions for updating:\n",
      "Please use tf.data to implement this functionality.\n",
      "Extracting ./mnistdata\\train-images-idx3-ubyte.gz\n",
      "WARNING:tensorflow:From C:\\Users\\Administrator\\Anaconda3\\envs\\tensorFlow\\lib\\site-packages\\tensorflow\\contrib\\learn\\python\\learn\\datasets\\mnist.py:267: extract_labels (from tensorflow.contrib.learn.python.learn.datasets.mnist) is deprecated and will be removed in a future version.\n",
      "Instructions for updating:\n",
      "Please use tf.data to implement this functionality.\n",
      "Extracting ./mnistdata\\train-labels-idx1-ubyte.gz\n",
      "WARNING:tensorflow:From C:\\Users\\Administrator\\Anaconda3\\envs\\tensorFlow\\lib\\site-packages\\tensorflow\\contrib\\learn\\python\\learn\\datasets\\mnist.py:110: dense_to_one_hot (from tensorflow.contrib.learn.python.learn.datasets.mnist) is deprecated and will be removed in a future version.\n",
      "Instructions for updating:\n",
      "Please use tf.one_hot on tensors.\n",
      "Extracting ./mnistdata\\t10k-images-idx3-ubyte.gz\n",
      "Extracting ./mnistdata\\t10k-labels-idx1-ubyte.gz\n",
      "WARNING:tensorflow:From C:\\Users\\Administrator\\Anaconda3\\envs\\tensorFlow\\lib\\site-packages\\tensorflow\\contrib\\learn\\python\\learn\\datasets\\mnist.py:290: DataSet.__init__ (from tensorflow.contrib.learn.python.learn.datasets.mnist) is deprecated and will be removed in a future version.\n",
      "Instructions for updating:\n",
      "Please use alternatives such as official/mnist/dataset.py from tensorflow/models.\n",
      "mnist loaded\n"
     ]
    }
   ],
   "source": [
    "# 加载下载好的mnistdata\n",
    "import numpy as np\n",
    "import tensorflow as tf\n",
    "import matplotlib.pyplot as plt\n",
    "from tensorflow.examples.tutorials.mnist import input_data\n",
    "mnist_data_folder=\"./mnistdata\"\n",
    "mnist=input_data.read_data_sets(mnist_data_folder,one_hot=True)\n",
    "trainimg = mnist.train.images\n",
    "trainlabel = mnist.train.labels\n",
    "testimg = mnist.test.images\n",
    "testlabel = mnist.test.labels\n",
    "print(\"mnist loaded\")"
   ]
  },
  {
   "cell_type": "code",
   "execution_count": 2,
   "metadata": {},
   "outputs": [
    {
     "name": "stdout",
     "output_type": "stream",
     "text": [
      "(55000, 784)\n",
      "(55000, 10)\n",
      "(10000, 784)\n",
      "(10000, 10)\n",
      "[0. 0. 0. 0. 0. 0. 0. 1. 0. 0.]\n"
     ]
    }
   ],
   "source": [
    "print(trainimg.shape)\n",
    "print(trainlabel.shape)\n",
    "print(testimg.shape)\n",
    "print(testlabel.shape)\n",
    "print(trainlabel[0])"
   ]
  },
  {
   "cell_type": "code",
   "execution_count": 3,
   "metadata": {},
   "outputs": [],
   "source": [
    "x = tf.placeholder(\"float\",[None,784])#矩阵None 表示未知行数  784表示列数\n",
    "y = tf.placeholder(\"float\",[None,10])#None is for infinite\n",
    "W = tf.Variable(tf.zeros([784,10]))\n",
    "b = tf.Variable(tf.zeros([10]))\n",
    "# 逻辑回归模型\n",
    "actv = tf.nn.softmax(tf.matmul(x,W)+b)#softmax 激活函数将逻辑回归用于解决10分类问题\n",
    "# cost function\n",
    "cost = tf.reduce_mean(-tf.reduce_sum(y*tf.log(actv),reduction_indices= 1))\n",
    "# optimizer\n",
    "learning_rate = 0.01\n",
    "optmizer = tf.train.GradientDescentOptimizer(learning_rate).minimize(cost)\n",
    "# prediction\n",
    "pred = tf.equal(tf.argmax(actv,1),tf.argmax(y,1))\n",
    "# Accuracy\n",
    "accr  = tf.reduce_mean(tf.cast(pred,\"float\"))\n"
   ]
  },
  {
   "cell_type": "code",
   "execution_count": 14,
   "metadata": {},
   "outputs": [
    {
     "name": "stdout",
     "output_type": "stream",
     "text": [
      "Epoch:000/050cost:1.176690634train_acc:0.870 test_acc:0.855\n",
      "Epoch:005/050cost:0.440978923train_acc:0.900 test_acc:0.895\n",
      "Epoch:010/050cost:0.383343663train_acc:0.940 test_acc:0.904\n",
      "Epoch:015/050cost:0.357273927train_acc:0.910 test_acc:0.908\n",
      "Epoch:020/050cost:0.341489275train_acc:0.950 test_acc:0.912\n",
      "Epoch:025/050cost:0.330554826train_acc:0.920 test_acc:0.914\n",
      "Epoch:030/050cost:0.322309244train_acc:0.920 test_acc:0.916\n",
      "Epoch:035/050cost:0.315974586train_acc:0.940 test_acc:0.917\n",
      "Epoch:040/050cost:0.310711519train_acc:0.890 test_acc:0.918\n",
      "Epoch:045/050cost:0.306412283train_acc:0.880 test_acc:0.919\n",
      "DONE\n"
     ]
    }
   ],
   "source": [
    "\n",
    "training_epochs = 50#迭代50次\n",
    "batch_size = 100 #每迭代一次所需样本\n",
    "display_step =5 # 每训练五次打印一次\n",
    "#Session\n",
    "# initializer\n",
    "init = tf.global_variables_initializer()\n",
    "sess = tf.Session()\n",
    "sess.run(init)\n",
    "\n",
    "for epoch in range(training_epochs):\n",
    "    avg_cost = 0\n",
    "    num_batch = int(mnist.train.num_examples/batch_size)\n",
    "    for i in range(num_batch):\n",
    "        batch_xs,batch_ys = mnist.train.next_batch(batch_size)\n",
    "        sess.run(optmizer,feed_dict = {x:batch_xs,y:batch_ys})\n",
    "        feeds = {x:batch_xs,y:batch_ys}\n",
    "        avg_cost +=sess.run(cost,feed_dict = feeds)/num_batch\n",
    "#     dipslay\n",
    "    if epoch % display_step == 0:\n",
    "        feeds_train = {x:batch_xs,y:batch_ys}\n",
    "        feeds_test = {x:mnist.test.images,y:mnist.test.labels}\n",
    "        train_acc =sess.run(accr,feed_dict=feeds_train)\n",
    "        test_acc = sess.run(accr,feed_dict=feeds_test)\n",
    "        print(\"Epoch:%03d/%03dcost:%.9ftrain_acc:%.3f test_acc:%.3f\"%(epoch,training_epochs,avg_cost,train_acc,test_acc))\n",
    "print(\"DONE\")\n",
    "\n"
   ]
  },
  {
   "cell_type": "code",
   "execution_count": null,
   "metadata": {},
   "outputs": [],
   "source": []
  }
 ],
 "metadata": {
  "kernelspec": {
   "display_name": "Python 3",
   "language": "python",
   "name": "python3"
  },
  "language_info": {
   "codemirror_mode": {
    "name": "ipython",
    "version": 3
   },
   "file_extension": ".py",
   "mimetype": "text/x-python",
   "name": "python",
   "nbconvert_exporter": "python",
   "pygments_lexer": "ipython3",
   "version": "3.6.6"
  }
 },
 "nbformat": 4,
 "nbformat_minor": 2
}
