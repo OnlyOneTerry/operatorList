{
 "cells": [
  {
   "cell_type": "code",
   "execution_count": 13,
   "metadata": {},
   "outputs": [
    {
     "name": "stdout",
     "output_type": "stream",
     "text": [
      "\n",
      "\n",
      "\n",
      "\n",
      "临近开学，奉劝各位男同学，一定要把菊花保卫战坚持到底！！我们宿舍四口人，已经齐聚一堂，一起到外面搓了一顿，谁知时至午夜，老三上吐下泻不止，几人合力把软成一团的老三扛到医院。由于情况比较严重，需要马上验血验大便，验大便取样时，护士取来一跟棒子，扒下老三裤子，“吧唧”一下插进他菊花里，老三即时发出销魂的叫喊声……待老三情况好转，那货交代，棒子入体是一阵快感由下而上，直冲脑门。我笑道：“恭喜老三，你是我们宿舍中唯一被爆菊的人！”“错了！”老二表示不同意，“在初中时，我去河里游泳，站\n",
      "…\n",
      "\n",
      "查看全文\n",
      "\n"
     ]
    }
   ],
   "source": [
    "import requests\n",
    "from bs4 import BeautifulSoup\n",
    "\n",
    "def get_html(url):\n",
    "    \"\"\"get the content of the url\"\"\"\n",
    "    response = requests.get(url)\n",
    "    return response.text\n",
    "\n",
    "def get_certain_joke(html):\n",
    "    \"\"\"get the joke of the html\"\"\"\n",
    "    soup = BeautifulSoup(html,'lxml')\n",
    "    joke_content = soup.select('div.content')[0].get_text()\n",
    "    \n",
    "    return joke_content\n",
    "\n",
    "url_joke = 'https://www.qiushibaike.com'\n",
    "html = get_html(url_joke)\n",
    "joke_content = get_certain_joke(html)\n",
    "print (joke_content)"
   ]
  },
  {
   "cell_type": "code",
   "execution_count": null,
   "metadata": {},
   "outputs": [],
   "source": [
    "import re\n",
    "import requests\n",
    "import random\n",
    "\n",
    "def spiderPic(html,keyword):\n",
    "    print(\"正在查找\"+keyword+'对应的图片，下载中，请稍后......')\n",
    "    for addr in re.findall('\"objURL\":\"(.*?)\"',html,re.S):\n",
    "        print(\"正在爬取URL地址：\"+str(addr)[0:30]+'...')\n",
    "        \n",
    "        try:\n",
    "            pics = requests.get(addr,timeout=10)\n",
    "        except requests.exceptions.ConnectionError:\n",
    "            print('您当前请求的URL地址出现错误')\n",
    "            continue         \n",
    "        fq = open(\"D:/spider/+\"+(keyword+'_'+str(random.randrange(0,1000,4))+'.jpg'),'wb')\n",
    "        fq.write(pics.content)\n",
    "        fq.close()\n",
    "\n",
    "if __name__ == '__main__':\n",
    "    word = input(\"请输入你要搜索的图片关键字：\")\n",
    "    result = requests.get('http://image.baidu.com/search/index?tn=baiduimage&ps=1&ct=201326592&lm=-1&cl=2&nc=1&ie=utf-8&word=' + word)\n",
    "\n",
    "    spiderPic(result.text,word)\n"
   ]
  },
  {
   "cell_type": "code",
   "execution_count": null,
   "metadata": {},
   "outputs": [],
   "source": []
  }
 ],
 "metadata": {
  "kernelspec": {
   "display_name": "Python 3",
   "language": "python",
   "name": "python3"
  },
  "language_info": {
   "codemirror_mode": {
    "name": "ipython",
    "version": 3
   },
   "file_extension": ".py",
   "mimetype": "text/x-python",
   "name": "python",
   "nbconvert_exporter": "python",
   "pygments_lexer": "ipython3",
   "version": "3.6.6"
  }
 },
 "nbformat": 4,
 "nbformat_minor": 2
}
