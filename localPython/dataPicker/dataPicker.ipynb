{
 "cells": [
  {
   "cell_type": "code",
   "execution_count": 1,
   "metadata": {},
   "outputs": [
    {
     "name": "stdout",
     "output_type": "stream",
     "text": [
      "\n",
      "\n",
      "\n",
      "\n",
      "我坐飞机旁边有个老哥一直在看股票，我俩聊了几句股票。他说今年行情不好，让我猜他亏了多少钱，我说：“也就十来万吧。”老哥一愣，问我：“你咋猜的呢？”我说虽然你穿着衬衫西裤，看着很商务，但是却背了个瑞士军刀牌双肩包，大老板有背这个的么？一看你就是个跑业务的，再看你戴了块阿玛尼这种杂牌子手表，三十多岁的人了，连个劳都没混上，说明收入很一般。你的衬衣是旧的，但是熨得很板正，领子也干净，这都是你老婆给你收拾的。你包上有个hello kitty小挂件，这应该是你女儿给你挂的。你自选股里都是一些5G，移动\n",
      "…\n",
      "\n",
      "查看全文\n",
      "\n"
     ]
    }
   ],
   "source": [
    "import requests\n",
    "from bs4 import BeautifulSoup\n",
    "\n",
    "def get_html(url):\n",
    "    \"\"\"get the content of the url\"\"\"\n",
    "    response = requests.get(url)\n",
    "    return response.text\n",
    "\n",
    "def get_certain_joke(html):\n",
    "    \"\"\"get the joke of the html\"\"\"\n",
    "    soup = BeautifulSoup(html,'lxml')\n",
    "    joke_content = soup.select('div.content')[0].get_text()\n",
    "    \n",
    "    return joke_content\n",
    "\n",
    "url_joke = 'https://www.qiushibaike.com'\n",
    "html = get_html(url_joke)\n",
    "joke_content = get_certain_joke(html)\n",
    "print (joke_content)"
   ]
  },
  {
   "cell_type": "code",
   "execution_count": 2,
   "metadata": {},
   "outputs": [
    {
     "name": "stdout",
     "output_type": "stream",
     "text": [
      "请输入你要搜索的图片关键字：小狮子\n",
      "正在查找小狮子对应的图片，下载中，请稍后......\n",
      "正在爬取URL地址：http://img5.duitang.com/upload...\n",
      "正在爬取URL地址：http://imgsrc.baidu.com/image/...\n",
      "正在爬取URL地址：http://imgsrc.baidu.com/imgad/...\n",
      "正在爬取URL地址：http://imgsrc.baidu.com/image/...\n",
      "正在爬取URL地址：http://imgsrc.baidu.com/image/...\n",
      "正在爬取URL地址：http://pic.qbaobei.com/Uploads...\n",
      "正在爬取URL地址：http://imgsrc.baidu.com/image/...\n",
      "正在爬取URL地址：http://imgsrc.baidu.com/image/...\n",
      "正在爬取URL地址：http://imgsrc.baidu.com/image/...\n",
      "正在爬取URL地址：http://imgsrc.baidu.com/image/...\n",
      "正在爬取URL地址：http://www.wallcoo.com/animal/...\n",
      "正在爬取URL地址：http://pic.qiantucdn.com/58pic...\n",
      "正在爬取URL地址：http://imgsrc.baidu.com/image/...\n",
      "正在爬取URL地址：http://i8.hexunimg.cn/2014-10-...\n",
      "正在爬取URL地址：http://imgsrc.baidu.com/image/...\n",
      "正在爬取URL地址：http://pic1.16pic.com/00/54/78...\n",
      "正在爬取URL地址：http://img1.gtimg.com/news/pic...\n",
      "正在爬取URL地址：http://imgsrc.baidu.com/image/...\n",
      "正在爬取URL地址：http://dimg04.c-ctrip.com/imag...\n",
      "正在爬取URL地址：http://imgsrc.baidu.com/image/...\n",
      "正在爬取URL地址：http://photocdn.sohu.com/20150...\n",
      "正在爬取URL地址：http://imgsrc.baidu.com/image/...\n",
      "正在爬取URL地址：http://pic.qbaobei.com/Uploads...\n",
      "正在爬取URL地址：http://file.tonghua5.com/allim...\n",
      "正在爬取URL地址：http://pic.qbaobei.com/Uploads...\n",
      "正在爬取URL地址：http://imgsrc.baidu.com/image/...\n",
      "正在爬取URL地址：http://imgsrc.baidu.com/image/...\n",
      "正在爬取URL地址：http://imgsrc.baidu.com/image/...\n",
      "正在爬取URL地址：http://imgsrc.baidu.com/image/...\n",
      "正在爬取URL地址：http://imgsrc.baidu.com/imgad/...\n"
     ]
    }
   ],
   "source": [
    "import re\n",
    "import requests\n",
    "import random\n",
    "\n",
    "def spiderPic(html,keyword):\n",
    "    print(\"正在查找\"+keyword+'对应的图片，下载中，请稍后......')\n",
    "    for addr in re.findall('\"objURL\":\"(.*?)\"',html,re.S):\n",
    "        print(\"正在爬取URL地址：\"+str(addr)[0:30]+'...')\n",
    "        \n",
    "        try:\n",
    "            pics = requests.get(addr,timeout=10)\n",
    "        except requests.exceptions.ConnectionError:\n",
    "            print('您当前请求的URL地址出现错误')\n",
    "            continue         \n",
    "        fq = open(\"D:/spider/\"+(keyword+'_'+str(random.randrange(0,1000,4))+'.jpg'),'wb')\n",
    "        fq.write(pics.content)\n",
    "        fq.close()\n",
    "\n",
    "if __name__ == '__main__':\n",
    "    word = input(\"请输入你要搜索的图片关键字：\")\n",
    "    result = requests.get('http://image.baidu.com/search/index?tn=baiduimage&ps=1&ct=201326592&lm=-1&cl=2&nc=1&ie=utf-8&word=' + word)\n",
    "\n",
    "    spiderPic(result.text,word)\n"
   ]
  },
  {
   "cell_type": "code",
   "execution_count": null,
   "metadata": {},
   "outputs": [],
   "source": [
    "import "
   ]
  }
 ],
 "metadata": {
  "kernelspec": {
   "display_name": "Python 3",
   "language": "python",
   "name": "python3"
  },
  "language_info": {
   "codemirror_mode": {
    "name": "ipython",
    "version": 3
   },
   "file_extension": ".py",
   "mimetype": "text/x-python",
   "name": "python",
   "nbconvert_exporter": "python",
   "pygments_lexer": "ipython3",
   "version": "3.6.6"
  }
 },
 "nbformat": 4,
 "nbformat_minor": 2
}
