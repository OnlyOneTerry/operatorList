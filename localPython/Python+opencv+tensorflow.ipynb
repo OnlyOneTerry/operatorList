{
 "cells": [
  {
   "cell_type": "code",
   "execution_count": 2,
   "metadata": {},
   "outputs": [
    {
     "name": "stdout",
     "output_type": "stream",
     "text": [
      "Extracting mnistdata\\train-images-idx3-ubyte.gz\n",
      "Extracting mnistdata\\train-labels-idx1-ubyte.gz\n",
      "Extracting mnistdata\\t10k-images-idx3-ubyte.gz\n",
      "Extracting mnistdata\\t10k-labels-idx1-ubyte.gz\n"
     ]
    }
   ],
   "source": [
    "import tensorflow as tf \n",
    "from tensorflow.examples.tutorials.mnist import input_data\n",
    "mnist=input_data.read_data_sets('mnistdata',one_hot=True)#下载mnist数据集\n"
   ]
  },
  {
   "cell_type": "code",
   "execution_count": null,
   "metadata": {},
   "outputs": [],
   "source": [
    "def compute_accuracy(v_xs,v_ys): \n",
    "    global prediction#定义全局变量 \n",
    "    y_pre=sess.run(prediction,feed_dict={xs:v_xs,keep_prob:1})# \n",
    "    correct_prediction=tf.equal(tf.argmax(y_pre,1),tf.argmax(v_ys,1))#将实际值和预测值进行比较，返回Bool数据类型 \n",
    "    accuracy=tf.reduce_mean(tf.cast(correct_prediction,tf.float32))#将上面的bool类型转为float，求得矩阵中所有元素的平均值 \n",
    "    result=sess.run(accuracy,feed_dict={xs:v_xs,ys:v_ys,keep_prob:1})#运行得到上面的平均值，这个值越大说明预测的越准确，因为都是0-1类型，所以平均值不超过1 return result\n",
    "    return result\n"
   ]
  }
 ],
 "metadata": {
  "kernelspec": {
   "display_name": "Python 3",
   "language": "python",
   "name": "python3"
  },
  "language_info": {
   "codemirror_mode": {
    "name": "ipython",
    "version": 3
   },
   "file_extension": ".py",
   "mimetype": "text/x-python",
   "name": "python",
   "nbconvert_exporter": "python",
   "pygments_lexer": "ipython3",
   "version": "3.6.6"
  }
 },
 "nbformat": 4,
 "nbformat_minor": 2
}
