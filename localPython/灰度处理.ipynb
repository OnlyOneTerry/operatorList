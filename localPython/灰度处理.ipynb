{
 "cells": [
  {
   "cell_type": "code",
   "execution_count": 1,
   "metadata": {},
   "outputs": [],
   "source": [
    "import cv2\n",
    "import numpy as np"
   ]
  },
  {
   "cell_type": "code",
   "execution_count": 13,
   "metadata": {},
   "outputs": [
    {
     "name": "stdout",
     "output_type": "stream",
     "text": [
      "failed to load image\n"
     ]
    },
    {
     "data": {
      "text/plain": [
       "-1"
      ]
     },
     "execution_count": 13,
     "metadata": {},
     "output_type": "execute_result"
    }
   ],
   "source": [
    "img = cv2.imread(\"D:/images/lena1.jpg\",1)\n",
    "if img is None:\n",
    "    print(\"failed to load image\")\n",
    "else:\n",
    "    imgInfo = img.shape\n",
    "    height = imgInfo[0]\n",
    "    width  = imgInfo[1]\n",
    "    # rgb r=g=b=gray (r+g+b)/3\n",
    "    # 生成空白魔伴，形状为高度，深度3，\n",
    "    dst = np.zeros((height,width,3),np.uint8)\n",
    "    for i in range(0,height):\n",
    "        for j in range(0,width):\n",
    "            (b,g,r)=img[i,j]#因为我们读取 出来的bgr是uint8的，计算可能溢出\n",
    "            gray = (int(b)+int(g)+int(r))/3\n",
    "      #目标图片的每个点，等于当前rgb的均值\n",
    "            dst[i,j]=np.uint8(gray)\n",
    "cv2.imshow('dst',dst)\n",
    "cv2.waitKey(0)\n",
    "    \n",
    "    \n",
    "    \n",
    "    \n",
    "    \n",
    "    \n",
    "    \n",
    "    \n",
    "    \n",
    "\n",
    "        "
   ]
  },
  {
   "cell_type": "code",
   "execution_count": 14,
   "metadata": {},
   "outputs": [
    {
     "name": "stdout",
     "output_type": "stream",
     "text": [
      "failed to load image....\n"
     ]
    },
    {
     "data": {
      "text/plain": [
       "-1"
      ]
     },
     "execution_count": 14,
     "metadata": {},
     "output_type": "execute_result"
    }
   ],
   "source": [
    "import cv2\n",
    "import numpy as np\n",
    "img = cv2.imread(\"D:/images/lena1.jpg\",1)\n",
    "if img is None:\n",
    "    print(\"failed to load image....\")\n",
    "else:\n",
    "    imgInfo = img.shape\n",
    "    height  = imgInfo[0]\n",
    "    width = imgInfo[1]\n",
    "    dst = np.zeros((height,width,3),np.uint8)\n",
    "    for i in range(0,height):\n",
    "        for j in range(0,width):\n",
    "            (b,g,r) = img[i,j]\n",
    "            b = int(b)\n",
    "            g = int(g)\n",
    "            r = int(r)\n",
    "            gray = r*0.299+g*0.587+b*0.114\n",
    "            dst[i,j]=np.uint8(gray)\n",
    "cv2.imshow('dst',dst)\n",
    "cv2.waitKey(0)"
   ]
  },
  {
   "cell_type": "code",
   "execution_count": null,
   "metadata": {},
   "outputs": [],
   "source": []
  }
 ],
 "metadata": {
  "kernelspec": {
   "display_name": "Python 3",
   "language": "python",
   "name": "python3"
  },
  "language_info": {
   "codemirror_mode": {
    "name": "ipython",
    "version": 3
   },
   "file_extension": ".py",
   "mimetype": "text/x-python",
   "name": "python",
   "nbconvert_exporter": "python",
   "pygments_lexer": "ipython3",
   "version": "3.6.6"
  }
 },
 "nbformat": 4,
 "nbformat_minor": 2
}
