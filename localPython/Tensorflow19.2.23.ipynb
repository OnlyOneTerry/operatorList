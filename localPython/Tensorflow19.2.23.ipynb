{
 "cells": [
  {
   "cell_type": "code",
   "execution_count": 1,
   "metadata": {},
   "outputs": [],
   "source": [
    "import tensorflow as tf"
   ]
  },
  {
   "cell_type": "code",
   "execution_count": 6,
   "metadata": {},
   "outputs": [
    {
     "name": "stdout",
     "output_type": "stream",
     "text": [
      "1\n",
      "2\n",
      "3\n"
     ]
    }
   ],
   "source": [
    "state = tf.Variable(0)\n",
    "new_value = tf.add(state,tf.constant(1))\n",
    "update = tf.assign(state,new_value)\n",
    "\n",
    "with tf.Session() as sess:\n",
    "    sess.run(tf.global_variables_initializer())\n",
    "#     print(sess.run(state))\n",
    "    for _ in range(3):\n",
    "        sess.run(update)\n",
    "        print(sess.run(state))"
   ]
  },
  {
   "cell_type": "code",
   "execution_count": 12,
   "metadata": {},
   "outputs": [
    {
     "name": "stdout",
     "output_type": "stream",
     "text": [
      "[[0. 0. 0.]\n",
      " [0. 0. 0.]\n",
      " [0. 0. 0.]]\n"
     ]
    }
   ],
   "source": [
    "import numpy as np\n",
    "a = np.zeros((3,3))\n",
    "ta = tf.convert_to_tensor(a)\n",
    "with tf.Session() as sess:\n",
    "    print(sess.run(ta))\n",
    "#     print(a)"
   ]
  },
  {
   "cell_type": "code",
   "execution_count": 14,
   "metadata": {},
   "outputs": [
    {
     "name": "stdout",
     "output_type": "stream",
     "text": [
      "[array([14.], dtype=float32)]\n"
     ]
    }
   ],
   "source": [
    "input1 = tf.placeholder(tf.float32)\n",
    "input2 = tf.placeholder(tf.float32)\n",
    "output = tf.multiply(input1,input2)\n",
    "with tf.Session() as sess:\n",
    "    print(sess.run([output],feed_dict={input1:[7.],input2:[2.]}))"
   ]
  },
  {
   "cell_type": "code",
   "execution_count": 18,
   "metadata": {},
   "outputs": [],
   "source": [
    "import numpy as np\n",
    "import tensorflow as tf\n",
    "import matplotlib.pyplot as plt"
   ]
  },
  {
   "cell_type": "code",
   "execution_count": 24,
   "metadata": {},
   "outputs": [
    {
     "data": {
      "image/png": "[encoded data removed]",
      "text/plain": [
       "<Figure size 432x288 with 1 Axes>"
      ]
     },
     "metadata": {},
     "output_type": "display_data"
    }
   ],
   "source": [
    "# 随机生成1000个点，围绕在y=0.1x+0.3\n",
    "num_points = 1000\n",
    "vectors_set = []\n",
    "for i in range(num_points):\n",
    "      x1 = np.random.normal(0.0,0.55)\n",
    "      y1 = x1*0.1 + 0.3 + np.random.normal(0.0,0.03)\n",
    "      vectors_set.append([x1,y1])\n",
    "# 生成一些样本\n",
    "x_data = [v[0] for v in vectors_set]\n",
    "y_data = [v[1] for v in vectors_set]\n",
    "\n",
    "plt.scatter(x_data,y_data,c='r')\n",
    "plt.show()"
   ]
  },
  {
   "cell_type": "code",
   "execution_count": 42,
   "metadata": {},
   "outputs": [
    {
     "name": "stdout",
     "output_type": "stream",
     "text": [
      "W= [0.35912204] b= [0.] loss= 0.11224071\n",
      "W = [0.2822172] b= [0.30401754] loss = 0.01028721\n",
      "W = [0.23108092] b= [0.3029645] loss = 0.005789443\n",
      "W = [0.19429678] b= [0.3022644] loss = 0.0034622436\n",
      "W = [0.16783743] b= [0.30176076] loss = 0.0022581196\n",
      "W = [0.14880484] b= [0.30139852] loss = 0.001635091\n",
      "W = [0.13511445] b= [0.30113792] loss = 0.0013127284\n",
      "W = [0.12526675] b= [0.3009505] loss = 0.0011459333\n",
      "W = [0.11818315] b= [0.30081567] loss = 0.0010596316\n",
      "W = [0.11308783] b= [0.3007187] loss = 0.001014978\n",
      "W = [0.10942268] b= [0.30064893] loss = 0.0009918737\n",
      "W = [0.1067863] b= [0.30059874] loss = 0.0009799192\n",
      "W = [0.10488991] b= [0.30056265] loss = 0.0009737338\n",
      "W = [0.10352581] b= [0.3005367] loss = 0.00097053347\n",
      "W = [0.10254459] b= [0.300518] loss = 0.0009688775\n",
      "W = [0.10183879] b= [0.30050457] loss = 0.00096802076\n",
      "W = [0.1013311] b= [0.3004949] loss = 0.0009675771\n",
      "W = [0.10096591] b= [0.30048797] loss = 0.0009673481\n",
      "W = [0.10070322] b= [0.30048296] loss = 0.0009672294\n",
      "W = [0.10051427] b= [0.30047935] loss = 0.0009671679\n",
      "W = [0.10037835] b= [0.30047676] loss = 0.0009671361\n"
     ]
    }
   ],
   "source": [
    "# 生成一维w矩阵，取值是[-1,1]之间的随机数\n",
    "W =tf.Variable(tf.random_uniform([1],-1.0,1.0),name=\"W\")\n",
    "# 生成一维b矩阵，初始化值是0\n",
    "b =tf.Variable(tf.zeros([1]),name=\"b\")\n",
    "# 经过计算得出预估值y\n",
    "y = W*x_data + b\n",
    "# 以预估计值y和实际值y_data 之间的均方误差作为损失\n",
    "loss  = tf.reduce_mean(tf.square(y - y_data),name=\"loss\")\n",
    "\n",
    "# 采用梯度下降法来优化参数\n",
    "optimizer = tf.train.GradientDescentOptimizer(0.5)\n",
    "\n",
    "train = optimizer.minimize(loss,name=\"train\")\n",
    "\n",
    "sess  = tf.Session()\n",
    "\n",
    "init = tf.global_variables_initializer()\n",
    "\n",
    "sess.run(init)\n",
    "# 初始化的W和b多少\n",
    "print(\"W=\",sess.run(W),\"b=\",sess.run(b),\"loss=\",sess.run(loss))\n",
    "\n",
    "# 执行20次训练\n",
    "for step in range(20):\n",
    "    sess.run(train)\n",
    "#     输出训练好的W和b\n",
    "    print(\"W =\",sess.run(W),\"b=\",sess.run(b),\"loss =\",sess.run(loss))"
   ]
  },
  {
   "cell_type": "code",
   "execution_count": null,
   "metadata": {},
   "outputs": [],
   "source": []
  },
  {
   "cell_type": "code",
   "execution_count": null,
   "metadata": {},
   "outputs": [],
   "source": []
  }
 ],
 "metadata": {
  "kernelspec": {
   "display_name": "Python 3",
   "language": "python",
   "name": "python3"
  },
  "language_info": {
   "codemirror_mode": {
    "name": "ipython",
    "version": 3
   },
   "file_extension": ".py",
   "mimetype": "text/x-python",
   "name": "python",
   "nbconvert_exporter": "python",
   "pygments_lexer": "ipython3",
   "version": "3.6.6"
  }
 },
 "nbformat": 4,
 "nbformat_minor": 2
}
