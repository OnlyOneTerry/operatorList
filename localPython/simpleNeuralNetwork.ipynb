{
 "cells": [
  {
   "cell_type": "code",
   "execution_count": 2,
   "metadata": {},
   "outputs": [
    {
     "name": "stdout",
     "output_type": "stream",
     "text": [
      "Extracting ./mnistdata\\train-images-idx3-ubyte.gz\n",
      "Extracting ./mnistdata\\train-labels-idx1-ubyte.gz\n",
      "Extracting ./mnistdata\\t10k-images-idx3-ubyte.gz\n",
      "Extracting ./mnistdata\\t10k-labels-idx1-ubyte.gz\n"
     ]
    }
   ],
   "source": [
    "import numpy as np\n",
    "import tensorflow as tf\n",
    "import matplotlib.pyplot as plt\n",
    "from tensorflow.examples.tutorials.mnist import  input_data\n",
    "mnist = input_data.read_data_sets(\"./mnistdata\",one_hot=True)"
   ]
  },
  {
   "cell_type": "code",
   "execution_count": 9,
   "metadata": {},
   "outputs": [
    {
     "name": "stdout",
     "output_type": "stream",
     "text": [
      "network ready\n"
     ]
    }
   ],
   "source": [
    "# network toplogies\n",
    "n_hidden_1  = 256\n",
    "n_hiden_2 = 128\n",
    "n_input = 784\n",
    "n_classes = 10\n",
    "# inputs and outputs\n",
    "x = tf.placeholder(\"float\",[None,n_input])\n",
    "y = tf.placeholder(\"float\",[None,n_classes])\n",
    "\n",
    "# network parameters\n",
    "stddev = 0.1\n",
    "weights ={\n",
    "    'w1': tf.Variable(tf.random_normal([n_input,n_hidden_1],stddev=stddev)),#高斯初始化\n",
    "    'w2':tf.Variable(tf.random_normal([n_hidden_1,n_hiden_2],stddev=stddev)),\n",
    "    'out':tf.Variable(tf.random_normal([n_hiden_2,n_classes],stddev=stddev))\n",
    "}\n",
    "biases = {\n",
    "    'b1':tf.Variable(tf.random_normal([n_hidden_1])),\n",
    "    'b2':tf.Variable(tf.random_normal([n_hiden_2])),\n",
    "    'out':tf.Variable(tf.random_normal([n_classes]))\n",
    "}\n",
    "print(\"network ready\")"
   ]
  },
  {
   "cell_type": "code",
   "execution_count": 10,
   "metadata": {},
   "outputs": [],
   "source": [
    "def  multilayer_perception(_X,_weights,_biases):\n",
    "    layer_1 = tf.nn.sigmoid(tf.add(tf.matmul(_X,_weights['w1']),_biases['b1']))\n",
    "    layer_2 = tf.nn.sigmoid(tf.add(tf.matmul(layer_1,_weights['w2']),_biases['b2']))\n",
    "    return (tf.matmul(layer_2,_weights['out'])+_biases['out'])"
   ]
  },
  {
   "cell_type": "code",
   "execution_count": 62,
   "metadata": {},
   "outputs": [],
   "source": [
    "# prediction\n",
    "pred = multilayer_perception(x,weights,biases)\n",
    "# loss and optimizer\n",
    "# cost = tf.reduce_mean(tf.nn.softmax_cross_entropy_with_logits(pred,y))#logits=y, labels=y_\n",
    "cost = tf.reduce_mean(tf.nn.softmax_cross_entropy_with_logits(logits = pred,labels = y))   \n",
    "learning_rate = 0.01\n",
    "optm = tf.train.GradientDescentOptimizer(learning_rate)\n",
    "train = optm.minimize(cost)\n",
    "corr = tf.equal(tf.argmax(pred,1),tf.argmax(y,1))\n",
    "accr = tf.reduce_mean(tf.cast(corr,\"float\"))\n",
    "\n",
    "# initializer\n",
    "init = tf.global_variables_initializer()"
   ]
  },
  {
   "cell_type": "code",
   "execution_count": 67,
   "metadata": {},
   "outputs": [
    {
     "name": "stdout",
     "output_type": "stream",
     "text": [
      "EPoch:003/020 cost:1.759539824\n",
      "test accuracy:0.630\n",
      "EPoch:007/020 cost:0.929756039\n",
      "test accuracy:0.810\n",
      "EPoch:011/020 cost:0.633518552\n",
      "test accuracy:0.880\n",
      "EPoch:015/020 cost:0.508564369\n",
      "test accuracy:0.870\n",
      "EPoch:019/020 cost:0.443002686\n",
      "test accuracy:0.850\n",
      "OPITMIZATIONI FINISHED\n"
     ]
    }
   ],
   "source": [
    "training_epoches = 20\n",
    "batch_size = 100\n",
    "display_step = 4\n",
    "# llaunch the graph\n",
    "sess = tf.Session()\n",
    "sess.run(init)\n",
    "# Optimize\n",
    "for epoch in range(training_epoches):\n",
    "    avg_cost = 0\n",
    "    total_batch = int(mnist.train.num_examples/batch_size)\n",
    "    for i in range(total_batch):\n",
    "        batch_xs,batch_ys = mnist.train.next_batch(batch_size)\n",
    "        sess.run(train,feed_dict={x:batch_xs,y:batch_ys})\n",
    "        avg_cost +=sess.run(cost,feed_dict={x:batch_xs,y:batch_ys})\n",
    "    avg_cost = avg_cost/total_batch\n",
    "    # display\n",
    "    if(epoch+1)%display_step == 0:\n",
    "        print(\"EPoch:%03d/%03d cost:%.9f\"%(epoch,training_epoches,avg_cost))\n",
    "        feeds = {x:batch_xs,y:batch_ys}\n",
    "        test_acc = sess.run(accr,feed_dict=feeds) \n",
    "        print(\"test accuracy:%.3f\"%(test_acc))\n",
    "print(\"OPITMIZATIONI FINISHED\")\n"
   ]
  },
  {
   "cell_type": "code",
   "execution_count": null,
   "metadata": {},
   "outputs": [],
   "source": []
  }
 ],
 "metadata": {
  "kernelspec": {
   "display_name": "Python 3",
   "language": "python",
   "name": "python3"
  },
  "language_info": {
   "codemirror_mode": {
    "name": "ipython",
    "version": 3
   },
   "file_extension": ".py",
   "mimetype": "text/x-python",
   "name": "python",
   "nbconvert_exporter": "python",
   "pygments_lexer": "ipython3",
   "version": "3.6.6"
  }
 },
 "nbformat": 4,
 "nbformat_minor": 2
}
