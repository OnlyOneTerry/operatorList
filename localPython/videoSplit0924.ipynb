{
 "cells": [
  {
   "cell_type": "code",
   "execution_count": 43,
   "metadata": {},
   "outputs": [
    {
     "name": "stdout",
     "output_type": "stream",
     "text": [
      "<built-in method isOpened of cv2.VideoCapture object at 0x0000000005218790>\n",
      "24.0\n",
      "1920\n",
      "800\n",
      "image1.jpg\n",
      "image2.jpg\n",
      "image3.jpg\n",
      "image4.jpg\n",
      "image5.jpg\n",
      "image6.jpg\n",
      "image7.jpg\n",
      "image8.jpg\n",
      "image9.jpg\n",
      "image10.jpg\n",
      "endl\n"
     ]
    }
   ],
   "source": [
    "import cv2\n",
    "\n",
    "cap  = cv2.VideoCapture(\"G:/xuLeiDownload/OperationRedSea.mp4\")#获取一个视频打开句柄\n",
    "isOPened = cap.isOpened #判断是否打开\n",
    "print(isOPened)\n",
    "fps = cap.get(cv2.CAP_PROP_FPS)#帧率\n",
    "width = int(cap.get(cv2.CAP_PROP_FRAME_WIDTH))# W H \n",
    "height = int(cap.get(cv2.CAP_PROP_FRAME_HEIGHT))\n",
    "print(fps)\n",
    "print(width)\n",
    "print(height)          \n",
    "i = 0\n",
    "while(isOPened):\n",
    "     if i == 10:\n",
    "          break;\n",
    "     else:\n",
    "        i = i+1\n",
    "        (flag,frame) = cap.read() #读取每一张flag  frame\n",
    "        fileName = 'image'+str(i)+'.jpg'\n",
    "        print(fileName)\n",
    "        if flag == True:\n",
    "            cv2.imwrite(fileName,frame,[cv2.IMWRITE_JPEG_QUALITY,100])\n",
    "print('endl')\n"
   ]
  },
  {
   "cell_type": "code",
   "execution_count": 52,
   "metadata": {},
   "outputs": [
    {
     "name": "stdout",
     "output_type": "stream",
     "text": [
      "(1920, 800)\n",
      "image1.jpg\n",
      "image2.jpg\n",
      "image3.jpg\n",
      "image4.jpg\n",
      "image5.jpg\n",
      "image6.jpg\n",
      "image7.jpg\n",
      "image8.jpg\n",
      "image9.jpg\n",
      "image10.jpg\n",
      "endl\n"
     ]
    }
   ],
   "source": [
    "import cv2\n",
    "img = cv2.imread('image1.jpg')\n",
    "imgInfo = img.shape\n",
    "size  = (imgInfo[1],imgInfo[0])\n",
    "print(size)\n",
    "videoWrite = cv2.VideoWriter('2.mp4',-1,5,size)#写入对象的创建 filename 编码器 帧率  视频大小\n",
    "for i in  range(1,11):\n",
    "    filename = 'image'+str(i)+'.jpg'\n",
    "    print(filename)\n",
    "    img = cv2.imread(filename)\n",
    "    videoWrite.write(img)#写入方法  jpg  data \n",
    "print('endl')"
   ]
  },
  {
   "cell_type": "code",
   "execution_count": null,
   "metadata": {},
   "outputs": [],
   "source": []
  },
  {
   "cell_type": "code",
   "execution_count": null,
   "metadata": {},
   "outputs": [],
   "source": []
  }
 ],
 "metadata": {
  "kernelspec": {
   "display_name": "Python 3",
   "language": "python",
   "name": "python3"
  },
  "language_info": {
   "codemirror_mode": {
    "name": "ipython",
    "version": 3
   },
   "file_extension": ".py",
   "mimetype": "text/x-python",
   "name": "python",
   "nbconvert_exporter": "python",
   "pygments_lexer": "ipython3",
   "version": "3.6.6"
  }
 },
 "nbformat": 4,
 "nbformat_minor": 2
}
