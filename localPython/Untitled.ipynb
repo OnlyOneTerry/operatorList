{
 "cells": [
  {
   "cell_type": "code",
   "execution_count": 14,
   "metadata": {},
   "outputs": [],
   "source": [
    "import tensorflow as tf"
   ]
  },
  {
   "cell_type": "code",
   "execution_count": 2,
   "metadata": {},
   "outputs": [],
   "source": [
    "import cv2"
   ]
  },
  {
   "cell_type": "code",
   "execution_count": 6,
   "metadata": {},
   "outputs": [
    {
     "data": {
      "text/plain": [
       "-1"
      ]
     },
     "execution_count": 6,
     "metadata": {},
     "output_type": "execute_result"
    }
   ],
   "source": [
    "img = cv2.imread(\"D:/images/girl.jpg\",1)\n",
    "cv2.imshow(\"imge\",img) \n",
    "cv2.imwrite(\"compactImage.png\",img,[int(cv2.IMWRITE_PNG_COMPRESSION), 9])\n",
    "cv2.waitKey(0)"
   ]
  },
  {
   "cell_type": "code",
   "execution_count": 11,
   "metadata": {},
   "outputs": [
    {
     "name": "stdout",
     "output_type": "stream",
     "text": [
      "6\n"
     ]
    }
   ],
   "source": [
    "data1 = tf.Variable(10,name='var')\n",
    "init = tf.global_variables_initializer()\n",
    "sess = tf.Session()\n",
    "sess.run(init)\n",
    "\n",
    "d1 = tf.constant(2)\n",
    "d2 = tf.constant(4)\n",
    "dadd = tf.add(d1,d2)\n",
    "dmulti= tf.multiply(d1,d2)\n",
    "with tf.Session() as sess:\n",
    "    print(sess.run(dadd))"
   ]
  },
  {
   "cell_type": "code",
   "execution_count": 12,
   "metadata": {},
   "outputs": [
    {
     "name": "stdout",
     "output_type": "stream",
     "text": [
      "8.0\n",
      "endl\n"
     ]
    }
   ],
   "source": [
    "da1= tf.placeholder(tf.float32)\n",
    "da2 = tf.placeholder(tf.float32)\n",
    "dadd = tf.add(da1,da2)\n",
    "with tf.Session() as sess:\n",
    "    print(sess.run(dadd,feed_dict = {da1:6,da2:2}))\n",
    "    print('endl')"
   ]
  },
  {
   "cell_type": "code",
   "execution_count": 25,
   "metadata": {},
   "outputs": [
    {
     "name": "stdout",
     "output_type": "stream",
     "text": [
      "(3, 2)\n",
      "[array([[24]]), array([[12, 12],\n",
      "       [12, 12]])]\n"
     ]
    }
   ],
   "source": [
    "import tensorflow as tf\n",
    "data1 = tf.constant([[6,6]])\n",
    "data2 = tf.constant([[2],\n",
    "                     [2]])\n",
    "data3 = tf.constant([[3,3]])\n",
    "data4 = tf.constant([[1,2],\n",
    "                     [3,4],\n",
    "                     [5,6]])\n",
    "print(data4.shape)\n",
    "matMul = tf.matmul(data1,data2)\n",
    "matMu2 = tf.multiply(data1,data2)\n",
    "matAdd = tf.add(data1,data3)\n",
    "with tf.Session() as sess:\n",
    "    print(sess.run(matMul))\n",
    "    print(sess.run(matMu2))\n",
    "    print(sess.run(matAdd))\n",
    "    print(sess.run([matMul,matMu2]))"
   ]
  },
  {
   "cell_type": "code",
   "execution_count": 33,
   "metadata": {},
   "outputs": [
    {
     "name": "stdout",
     "output_type": "stream",
     "text": [
      "[[0 0 0]\n",
      " [0 0 0]]\n",
      "[[0. 0. 0.]\n",
      " [0. 0. 0.]]\n",
      "[[1. 1.]\n",
      " [1. 1.]\n",
      " [1. 1.]]\n",
      "[0.        0.2       0.4       0.6       0.8       1.        1.2\n",
      " 1.4       1.6       1.8000001 2.       ]\n",
      "[[0. 0. 0.]\n",
      " [0. 0. 0.]]\n",
      "[[0.07321537 0.8617642 ]\n",
      " [0.81139743 0.9739672 ]\n",
      " [0.83370304 0.8699341 ]]\n"
     ]
    }
   ],
   "source": [
    "mat0 = tf.constant([[0,0,0],[0,0,0]])\n",
    "mat1 = tf.zeros([2,3])\n",
    "mat2 = tf.ones([3,2])\n",
    "mat3 = tf.linspace(0.0,2.0,11)\n",
    "mat4 = tf.zeros_like(mat1)\n",
    "mat5 = tf.random_uniform([3,2])\n",
    "with tf.Session() as sess:\n",
    "    print(sess.run(mat0))\n",
    "    print(sess.run(mat1))\n",
    "    print(sess.run(mat2))\n",
    "    print(sess.run(mat3))\n",
    "    print(sess.run(mat4))\n",
    "    print(sess.run(mat5))"
   ]
  },
  {
   "cell_type": "code",
   "execution_count": 36,
   "metadata": {},
   "outputs": [
    {
     "name": "stdout",
     "output_type": "stream",
     "text": [
      "[1 2 3 4 5]\n",
      "[[1 2]\n",
      " [3 4]]\n",
      "[[1 2]\n",
      " [5 4]]\n"
     ]
    }
   ],
   "source": [
    "import numpy as np\n",
    "data1 = np.array([1,2,3,4,5])\n",
    "print(data1)\n",
    "\n",
    "data2 = np.array([[1,2],\n",
    "                  [3,4]])\n",
    "print(data2)\n",
    "data2[1,0] = 5\n",
    "print(data2)"
   ]
  },
  {
   "cell_type": "code",
   "execution_count": 40,
   "metadata": {},
   "outputs": [
    {
     "data": {
      "image/png": "[encoded data removed]",
      "text/plain": [
       "<Figure size 432x288 with 1 Axes>"
      ]
     },
     "metadata": {},
     "output_type": "display_data"
    }
   ],
   "source": [
    "import numpy as np\n",
    "import matplotlib.pyplot as plt\n",
    "x = np.array([1,2,3,4,5,6,7,8])\n",
    "y = np.array([3,5,7,6,2,6,10,15])\n",
    "plt.plot(x,y,'r')#折线 \n",
    "plt.plot(x,y,'g',lw=10)\n",
    "x = np.array([1,2,3,4,5,6,7,8])\n",
    "y = np.array([13,25,17,36,21,16,10,15])\n",
    "plt.bar(x,y,0.5,alpha=1,color='b')\n",
    "plt.show()"
   ]
  },
  {
   "cell_type": "code",
   "execution_count": 2,
   "metadata": {},
   "outputs": [
    {
     "name": "stdout",
     "output_type": "stream",
     "text": [
      "[ 1.  2.  3.  4.  5.  6.  7.  8.  9. 10. 11. 12. 13. 14. 15.]\n"
     ]
    },
    {
     "data": {
      "image/png": "[encoded data removed]",
      "text/plain": [
       "<Figure size 432x288 with 1 Axes>"
      ]
     },
     "metadata": {},
     "output_type": "display_data"
    }
   ],
   "source": [
    "import tensorflow as tf\n",
    "import numpy as np\n",
    "import matplotlib.pyplot as plt\n",
    "date = np.linspace(1,15,15)\n",
    "endPrice = np.array([2169 ,2358 ,2464 ,2145 ,2827 ,2942 ,2391 ,2902 ,2716 ,2726 ,2538 ,2035 ,2322 ,2664 ,2859 ]);\n",
    "beginPrice = np.array([2334 ,2169 ,2478 ,2827 ,2942 ,2902 ,2447 ,2667 ,2035 ,2673 ,2547 ,2778 ,2240 ,2805 ,2629])\n",
    "print(date)\n",
    "plt.figure()\n",
    "for i in range(0,15):\n",
    "    dateOne = np.zeros([2])\n",
    "    dateOne[0] = i;\n",
    "    dateOne[1] = i;\n",
    "    priceOne = np.zeros([2])\n",
    "    priceOne[0] = beginPrice[i]\n",
    "    priceOne[1] = endPrice[i]\n",
    "    \n",
    "    if endPrice[i] > beginPrice[i]:\n",
    "        plt.plot(dateOne,priceOne,'r',lw=8)\n",
    "    else:\n",
    "        plt.plot(dateOne,priceOne,'g',lw=8)\n",
    "plt.show()"
   ]
  },
  {
   "cell_type": "code",
   "execution_count": null,
   "metadata": {},
   "outputs": [],
   "source": [
    "dateNormal = np.zeros([15,1])\n",
    "priceNormal = np.zeros([15,1])\n",
    "for i in range(0,15):\n",
    "    dateNormal[i,0] = i /14.0\n",
    "    priceNormal[i,0] = endPrice[i]/3000.0\n",
    "x = tf.placeholder(tf.float32,[None,1])\n",
    "y = tf.placeholder(tf.float32,[None,1])\n",
    "#B\n",
    "w1 = tf.Variable(tf.random_uniform([1,10],0,1))\n",
    "b1 = tf.Variable(tf.zeros([1,10]))\n",
    "wb1 = tf.matmul(x,w1) +b1\n",
    "layer1 = tf.nn.relu(wb1)#激励函数\n",
    "#C\n",
    "w2 = tf.Variable(tf.random_uniform([10,1],0,1))\n",
    "b2 = tf.Variable(tf.zeros([15,1]))\n",
    "wb2 = tf.matmul(layer1,w2)+b2\n",
    "layer2 = tf.nn.relu(wb2)\n",
    "loss = tf.reduce_mean(tf.square(y-layer2))#y 真实 layer2 计算\n",
    "train_step = tf.train.GradientDescentOptimizer(0.1).minimize(loss)\n",
    "with tf.Session() as sess:\n",
    "    sess.run(tf.global_variables_initializer())\n",
    "    for i in range(0,10000) :\n",
    "        sess.run(train_step,feed_dict = {x:dateNormal,y:priceNormal})\n",
    "        # w1w`b1b2 A +wb ----> layer2\n",
    "    pred = sess.run(layer2,feed_dict = {x:dateNormal})\n",
    "    predPrice = np.zeros([15,1])\n",
    "    for i in range(0,15):\n",
    "        predPrice[i,0] =(pred*3000)\n"
   ]
  },
  {
   "cell_type": "code",
   "execution_count": 5,
   "metadata": {},
   "outputs": [
    {
     "name": "stdout",
     "output_type": "stream",
     "text": [
      "(800, 1260, 3)\n"
     ]
    },
    {
     "data": {
      "text/plain": [
       "-1"
      ]
     },
     "execution_count": 5,
     "metadata": {},
     "output_type": "execute_result"
    }
   ],
   "source": [
    "# 1 load  2 info 3 resize 4 check\n",
    "import cv2\n",
    "img = cv2.imread(\"D:/images/girl.jpg\",1)\n",
    "imgInfo = img.shape\n",
    "print(imgInfo)\n",
    "height = imgInfo[0]\n",
    "width  = imgInfo[1]\n",
    "mode = imgInfo[2]\n",
    "# 1 放大 缩小 2 等比例 非\n",
    "dstHeight = int(height*0.5)\n",
    "dstWidth = int(width*0.5)\n",
    "\n",
    "dst = cv2.resize(img,(dstWidth,dstHeight))\n",
    "cv2.imshow('image',dst)\n",
    "cv2.waitKey(0)"
   ]
  },
  {
   "cell_type": "code",
   "execution_count": null,
   "metadata": {},
   "outputs": [],
   "source": [
    "#  最近领域插值\n",
    "# src 10*20   dst  5*10\n",
    "# dst <- src\n",
    "# (1,2) <- (2,4)\n",
    "# dst x 1 -> src x 2\n",
    "# newX = x*(src 行/目标 行) newX = 1*(10/5) = 2\n",
    "# newY = y*(src 列/目标 列) newY = 2*(20/10) = 4\n",
    "# 双线性插值\n"
   ]
  },
  {
   "cell_type": "code",
   "execution_count": 8,
   "metadata": {},
   "outputs": [
    {
     "data": {
      "text/plain": [
       "-1"
      ]
     },
     "execution_count": 8,
     "metadata": {},
     "output_type": "execute_result"
    }
   ],
   "source": [
    "import cv2\n",
    "import numpy as np\n",
    "img  = cv2.imread(\"D:/images/girl.jpg\",1)\n",
    "imgInfo = img.shape\n",
    "height = imgInfo[0]\n",
    "width = imgInfo[1]\n",
    "dstHeight = int(height/2)\n",
    "dstWidth = int(width/2)\n",
    "dstImage = np.zeros((dstHeight,dstWidth,3),np.uint8)#0-255\n",
    "for i in range(0,dstHeight):#行\n",
    "    for j in range(0,dstWidth):\n",
    "        iNew = int(i*(height*1.0/dstHeight))\n",
    "        jNew = int(j*(width*1.0/dstWidth))\n",
    "        dstImage[i,j]= img[iNew,jNew]\n",
    "cv2.imshow('dst',dstImage)\n",
    "cv2.waitKey(0)"
   ]
  },
  {
   "cell_type": "code",
   "execution_count": 2,
   "metadata": {},
   "outputs": [
    {
     "data": {
      "text/plain": [
       "-1"
      ]
     },
     "execution_count": 2,
     "metadata": {},
     "output_type": "execute_result"
    }
   ],
   "source": [
    "import cv2\n",
    "import numpy as np\n",
    "img = cv2.imread(\"D:/images/girl.jpg\",1)\n",
    "cv2.imshow('src',img)\n",
    "imgInfo = img.shape\n",
    "height = imgInfo[0]\n",
    "width = imgInfo[1]\n",
    "matShift = np.float32([[1,0,100],[0,1,200]])\n",
    "dst = cv2.warpAffine(img,matShift,(height,width))\n",
    "cv2.imshow('dst',dst)\n",
    "cv2.waitKey(0)"
   ]
  },
  {
   "cell_type": "code",
   "execution_count": 3,
   "metadata": {},
   "outputs": [
    {
     "data": {
      "text/plain": [
       "-1"
      ]
     },
     "execution_count": 3,
     "metadata": {},
     "output_type": "execute_result"
    }
   ],
   "source": [
    "import cv2\n",
    "import numpy as np\n",
    "img = cv2.imread(\"D:/images/girl.jpg\",1)\n",
    "cv2.imshow('src',img)\n",
    "imgInfo = img.shape\n",
    "dst = np.zeros(img.shape,np.uint8)\n",
    "height  = imgInfo[0]\n",
    "width = imgInfo[1]\n",
    "for i in range(0,height):\n",
    "    for j in range(0,width-100):\n",
    "        dst[i,j+100] = img[i,j]\n",
    "cv2.imshow('image',dst)\n",
    "cv2.waitKey(0)"
   ]
  },
  {
   "cell_type": "code",
   "execution_count": 5,
   "metadata": {},
   "outputs": [
    {
     "data": {
      "text/plain": [
       "-1"
      ]
     },
     "execution_count": 5,
     "metadata": {},
     "output_type": "execute_result"
    }
   ],
   "source": [
    "import cv2\n",
    "import numpy as np\n",
    "img = cv2.imread(\"D:/images/clock.jpg\",1)\n",
    "cv2.imshow('src',img)\n",
    "imgInfo = img.shape\n",
    "dst = np.zeros(img.shape,np.uint8)\n",
    "height  = imgInfo[0]\n",
    "width = imgInfo[1]\n",
    "deep = imgInfo[2]\n",
    "newImgInfo = (height*2,width,deep)\n",
    "dst = np.zeros(newImgInfo,np.uint8)#\n",
    "for i in range(0,height):\n",
    "    for j in range(0,width):\n",
    "        dst[i,j]=img[i,j]\n",
    "        dst[height*2-i-1,j]=img[i,j]\n",
    "for i in range(0,width):\n",
    "    dst[height,i]= (0,0,255)\n",
    "cv2.imshow('dst',dst)\n",
    "cv2.waitKey(0)"
   ]
  },
  {
   "cell_type": "code",
   "execution_count": 2,
   "metadata": {},
   "outputs": [
    {
     "data": {
      "text/plain": [
       "-1"
      ]
     },
     "execution_count": 2,
     "metadata": {},
     "output_type": "execute_result"
    }
   ],
   "source": [
    "import cv2\n",
    "import numpy as np\n",
    "img = cv2.imread(\"D:/images/clock.jpg\",1)\n",
    "cv2.imshow('src',img)\n",
    "imgInfo = img.shape\n",
    "height  = imgInfo[0]\n",
    "width = imgInfo[1]\n",
    "# src 左上角 左下角 右上角\n",
    "matSrc = np.float32([[0,0],[0,height-1],[width-1,9]])\n",
    "matDst = np.float32([[50,50],[300,height-100],[width-100,100]])\n",
    "# 组合\n",
    "matAffine =cv2.getAffineTransform(matSrc,matDst)\n",
    "dst = cv2.warpAffine(img,matAffine,(width,height))\n",
    "cv2.imshow('dst',dst)\n",
    "cv2.waitKey(0)\n"
   ]
  },
  {
   "cell_type": "code",
   "execution_count": null,
   "metadata": {},
   "outputs": [],
   "source": []
  }
 ],
 "metadata": {
  "kernelspec": {
   "display_name": "Python 3",
   "language": "python",
   "name": "python3"
  },
  "language_info": {
   "codemirror_mode": {
    "name": "ipython",
    "version": 3
   },
   "file_extension": ".py",
   "mimetype": "text/x-python",
   "name": "python",
   "nbconvert_exporter": "python",
   "pygments_lexer": "ipython3",
   "version": "3.6.6"
  }
 },
 "nbformat": 4,
 "nbformat_minor": 2
}
