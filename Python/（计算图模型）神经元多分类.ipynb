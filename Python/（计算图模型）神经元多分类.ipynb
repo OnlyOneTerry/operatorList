{
 "cells": [
  {
   "cell_type": "code",
   "execution_count": 1,
   "metadata": {},
   "outputs": [
    {
     "name": "stdout",
     "output_type": "stream",
     "text": [
      "['batches.meta', 'data_batch_1', 'data_batch_2', 'data_batch_3', 'data_batch_4', 'data_batch_5', 'readme.html', 'test_batch']\n"
     ]
    }
   ],
   "source": [
    "import tensorflow as tf\n",
    "import os\n",
    "import pickle \n",
    "import numpy as np\n",
    "\n",
    "CIFAR_DIR = \"./cifar-10-batches-py\"\n",
    "print(os.listdir(CIFAR_DIR))"
   ]
  },
  {
   "cell_type": "code",
   "execution_count": 2,
   "metadata": {},
   "outputs": [
    {
     "name": "stdout",
     "output_type": "stream",
     "text": [
      "(50000, 3072)\n",
      "(50000,)\n",
      "(10000, 3072)\n",
      "(10000,)\n"
     ]
    }
   ],
   "source": [
    "def load_data(filename):\n",
    "         with open(filename,'rb') as f:\n",
    "            data = pickle.load(f,encoding=\"bytes\")\n",
    "            return data[b'data'],data[b'labels']\n",
    "        \n",
    "class CifarData:\n",
    "    def __init__(self,filenames,need_shuffle):\n",
    "        all_data = []\n",
    "        all_labels =[]\n",
    "        for filename in filenames:\n",
    "            data,labels= load_data(filename)\n",
    "            all_data.append(data)#将所有类别（10种类别）数据都加进来\n",
    "            all_labels.append(labels)\n",
    "#             for item,label in zip(data,labels):# 打包为元组的列表 (data,label)\n",
    "#                 if label in [0,1]:\n",
    "#                     all_data.append(item)\n",
    "#                     all_labels.append(label)\n",
    "        self._data = np.vstack(all_data)\n",
    "        self._data = self._data/127.5-1 #图片像素【0，255】归一化到【-1，1】\n",
    "        self._labels = np.hstack(all_labels)\n",
    "        print(self._data.shape)\n",
    "        print(self._labels.shape)\n",
    "        self._num_examples = self._data.shape[0]\n",
    "        self._need_shuffle = need_shuffle\n",
    "        self._indicator = 0\n",
    "        if self._need_shuffle:\n",
    "              self._shuffle_data()\n",
    "                \n",
    "    def _shuffle_data(self):\n",
    "        #[0,1,2,3,4,5] ->[5,3,2,4,0,1]\n",
    "        p = np.random.permutation(self._num_examples)\n",
    "        self._data = self._data[p]\n",
    "        self._labels = self._labels[p]\n",
    "        \n",
    "    def next_batch(self,batch_size):\n",
    "        end_indicator = self._indicator + batch_size\n",
    "        if end_indicator > self._num_examples:\n",
    "            if self._need_shuffle:\n",
    "                self._shuffle_data()\n",
    "                self._indicator = 0\n",
    "                end_indicator = batch_size\n",
    "            else:\n",
    "                raise Exception(\"have no more examples\")\n",
    "        if end_indicator > self._num_examples:\n",
    "            raise Exception(\"batch size is larger than all examples\")\n",
    "        batch_data = self._data[self._indicator:end_indicator]\n",
    "        batch_labels = self._labels[self._indicator:end_indicator]\n",
    "        self._indicator = end_indicator\n",
    "        return batch_data,batch_labels\n",
    "train_filenames = [os.path.join(CIFAR_DIR,'data_batch_%d'%i)for i in range(1,6)]\n",
    "test_filenames  = [os.path.join(CIFAR_DIR,'test_batch')]\n",
    "\n",
    "train_data = CifarData(train_filenames,True)\n",
    "test_data = CifarData(test_filenames,False)\n",
    "# batch_data ,batch_labels  = train_data.next_batch(10)\n",
    "# print(batch_data)\n",
    "# print(batch_labels)"
   ]
  },
  {
   "cell_type": "code",
   "execution_count": 3,
   "metadata": {},
   "outputs": [],
   "source": [
    "x = tf.placeholder(tf.float32,[None,3072])\n",
    "y = tf.placeholder(tf.int64,[None])\n",
    "\n",
    "#(3072,,10)\n",
    "w = tf.get_variable('w',[x.get_shape()[-1],10],\n",
    "                     initializer = tf.random_normal_initializer(0,1))\n",
    "# (10,)\n",
    "b = tf.get_variable('b',[10],\n",
    "                     initializer = tf.constant_initializer(0.0))\n",
    "\n",
    "# [None,3072]*[3072,10]=[None,10]\n",
    "\n",
    "y_ = tf.matmul(x,w) + b\n",
    "\"\"\"\n",
    "#平方差损失函数\n",
    "#多分类\n",
    "# course: 1+e^x\n",
    "# api:e^x/sum(e^x)\n",
    "# [[0.01,0.9,.....0.03],[]] 得到的分布\n",
    "p_y = tf.nn.softmax(y_)\n",
    "#one-hot 编码 5->[0,0,0,0,1,0,0,0,0,0]\n",
    "y_one_hot = tf.one_hot(y,10,dtype=tf.float32)\n",
    "loss = tf.reduce_mean(tf.square(y_one_hot-p_y))\n",
    "\"\"\"\n",
    "# 交叉熵损失函数\n",
    "# 1,y_->sofmax ,2.y->one_hot 3.loss=ylogy_\n",
    "loss = tf.losses.sparse_softmax_cross_entropy(labels=y,logits=y_)\n",
    "\n",
    "#index\n",
    "predict = tf.argmax(y_,1)\n",
    "\"\"\"\n",
    "#[None,1]\n",
    "p_y_1 = tf.nn.sigmoid(y_)#用于二分类\n",
    "#[None ,1]\n",
    "y_reshaped  = tf.reshape(y,(-1,1))#转换成一列\n",
    "y_reshaped_float = tf.cast(y_reshaped,tf.float32)\n",
    "loss = tf.reduce_mean(tf.square(y_reshaped_float - p_y_1))\n",
    "\"\"\"\n",
    "#[1,0,0,1,1,1,0,0]\n",
    "correct_prediction = tf.equal(predict,y)\n",
    "accuracy = tf.reduce_mean(tf.cast(correct_prediction,tf.float64))\n",
    "\n",
    "with tf.name_scope(\"train_op\"):\n",
    "        train_op = tf.train.AdamOptimizer(1e-3).minimize(loss);"
   ]
  },
  {
   "cell_type": "code",
   "execution_count": null,
   "metadata": {},
   "outputs": [],
   "source": [
    "init  = tf.global_variables_initializer()\n",
    "batch_size = 20\n",
    "train_steps = 100000\n",
    "test_steps = 100\n",
    "\n",
    "with tf.Session() as sess:\n",
    "    sess.run(init)\n",
    "    for i in range(train_steps):\n",
    "        batch_data,batch_labels = train_data.next_batch(batch_size)\n",
    "        loss_val,acc_val,_=sess.run([loss,accuracy,train_op],feed_dict={x:batch_data ,y:batch_labels})\n",
    "        if i %500 == 0:\n",
    "             print('train step:%d,loss:%4.5f,acc:%4.5f'\\\n",
    "                   %(i,loss_val,acc_val))\n",
    "        if (i+1)%5000 == 0:\n",
    "            test_data = CifarData(test_filenames,False)\n",
    "            all_test_acc_val =[]\n",
    "            for j in range(test_steps):\n",
    "                 test_batch_data,test_batch_labels = test_data.next_batch(batch_size)\n",
    "                 test_acc_val = sess.run(\n",
    "                     [accuracy],\n",
    "                    feed_dict={\n",
    "                           x:test_batch_data,\n",
    "                           y:test_batch_labels\n",
    "                                })\n",
    "                 all_test_acc_val.append(test_acc_val)\n",
    "            test_acc = np.mean(all_test_acc_val)\n",
    "            print('[test]step:%d,acc:%4.5f'%(i+1,test_acc))"
   ]
  },
  {
   "cell_type": "code",
   "execution_count": null,
   "metadata": {},
   "outputs": [],
   "source": []
  }
 ],
 "metadata": {
  "kernelspec": {
   "display_name": "Python 3",
   "language": "python",
   "name": "python3"
  },
  "language_info": {
   "codemirror_mode": {
    "name": "ipython",
    "version": 3
   },
   "file_extension": ".py",
   "mimetype": "text/x-python",
   "name": "python",
   "nbconvert_exporter": "python",
   "pygments_lexer": "ipython3",
   "version": "3.6.6"
  }
 },
 "nbformat": 4,
 "nbformat_minor": 2
}
