{
 "cells": [
  {
   "cell_type": "code",
   "execution_count": 25,
   "metadata": {},
   "outputs": [],
   "source": [
    "from sklearn.feature_extraction import DictVectorizer\n",
    "from sklearn import  tree\n",
    "from sklearn import  preprocessing\n",
    "import csv"
   ]
  },
  {
   "cell_type": "code",
   "execution_count": 32,
   "metadata": {},
   "outputs": [
    {
     "name": "stdout",
     "output_type": "stream",
     "text": [
      "['RID，age，income，student，credit_rate，class_buys_computer']\n"
     ]
    }
   ],
   "source": [
    "Dtree = open(r'decision.csv','r')\n",
    "reader = csv.reader(Dtree)\n",
    "\n",
    "headers = reader.__next__()\n",
    "print(headers)"
   ]
  },
  {
   "cell_type": "code",
   "execution_count": 34,
   "metadata": {},
   "outputs": [
    {
     "name": "stdout",
     "output_type": "stream",
     "text": [
      "1\n"
     ]
    }
   ],
   "source": [
    "# 定义两个列表\n",
    "featureList=[]\n",
    "labelList=[]\n",
    "print(reader.line_num)\n",
    "# for row in reader :\n",
    "#     labelList.append(row[-1])\n",
    "#     rowDict  = {}\n",
    "#     for i in range(1,len(row)-1):\n",
    "#         rowDict[headers[i]]=row[i]\n",
    "#     featureList.append(rowDict)\n",
    "# print(featureList)"
   ]
  },
  {
   "cell_type": "code",
   "execution_count": null,
   "metadata": {},
   "outputs": [],
   "source": []
  },
  {
   "cell_type": "code",
   "execution_count": null,
   "metadata": {},
   "outputs": [],
   "source": []
  },
  {
   "cell_type": "code",
   "execution_count": null,
   "metadata": {},
   "outputs": [],
   "source": []
  }
 ],
 "metadata": {
  "kernelspec": {
   "display_name": "Python 3",
   "language": "python",
   "name": "python3"
  },
  "language_info": {
   "codemirror_mode": {
    "name": "ipython",
    "version": 3
   },
   "file_extension": ".py",
   "mimetype": "text/x-python",
   "name": "python",
   "nbconvert_exporter": "python",
   "pygments_lexer": "ipython3",
   "version": "3.6.6"
  }
 },
 "nbformat": 4,
 "nbformat_minor": 2
}
