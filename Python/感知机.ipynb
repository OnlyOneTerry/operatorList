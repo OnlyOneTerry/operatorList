{
 "cells": [
  {
   "cell_type": "code",
   "execution_count": 6,
   "metadata": {},
   "outputs": [],
   "source": [
    "import numpy as np"
   ]
  },
  {
   "cell_type": "code",
   "execution_count": 50,
   "metadata": {},
   "outputs": [],
   "source": [
    "class Perception:\n",
    "    \"\"\"通过Python语言实现感知器。用来进行二分类。\"\"\"\n",
    "    def __init__(self,eta,epoch):\n",
    "        \"\"\"初始化方法\n",
    "        Parameter：\n",
    "        -------\n",
    "        eta:float\n",
    "            学习率\n",
    "        epoch:int\n",
    "            对训练集训练的轮数。\n",
    "        \"\"\"\n",
    "        self.eta = eta\n",
    "        self.epoch = epoch\n",
    "    def step(self,x):\n",
    "        \"\"\"\n",
    "        阶跃函数。对净输入进行转换。\n",
    "        Parameter:\n",
    "        ----------\n",
    "        z:标量或数组类型\n",
    "          净输入。\n",
    "        Return:\n",
    "        -------\n",
    "        t:变量或数组类型\n",
    "          分类的结果。0 或者 1。当z >= 0时，返回1，否则返回0\n",
    "        \"\"\"\n",
    "#         return 1 if z >=0 else 0\n",
    "        return np.where( x>=0,1,0)\n",
    "    \n",
    "    def fit(self,X,y):\n",
    "        \"\"\"训练方法。\n",
    "        Parameter:\n",
    "        X:类数组类型。形状为【样本数量,特征数量】\n",
    "          提供的训练集。\n",
    "        y:类数组类型。形状为【样本数量,】\n",
    "          数据集对应的标签（分类）\n",
    "        \"\"\"\n",
    "        #对类型进行转换，不管是什么二维类型，统一转换成二维的ndarray数组类型。\n",
    "        X = np.asarray(X) #若x已经是二维数组，则不创建直接返回，若是np.array则无论什么情况都会创建一个二维数组返回\n",
    "        y = np.asarray(y)\n",
    "        #注意，权重的数量要比特征的数量多1，多出来的一个就是偏置\n",
    "        self.w_ =  np.zeros(X.shape[1]+1)\n",
    "        #定义模型损失列表用来存放每个epoch迭代之后，分类错误的数量\n",
    "        self.loss_= []\n",
    "        #迭代epoch指定的轮数\n",
    "        for i in range(self.epoch):\n",
    "                 loss = 0 #记录单次epoch分类错误的损失值（分类错误的数量）\n",
    "                 for x,target in zip(X,y):\n",
    "                    #计算净输入\n",
    "                       z= np.dot(x,self.w_[1:])+ self.w_[0] # z = x1*w1+x2*w2+x3*w3+....+xn*wn + w0*x0\n",
    "                       #根据净输入，计算分类\n",
    "                       y_hat = self.step(z)\n",
    "                       loss +=target!=y_hat\n",
    "                        #调整权值\n",
    "                       self.w_[1:]+= self.eta *(target-y_hat)*x\n",
    "                        #调整偏置b\n",
    "                       self.w_[0] +=self.eta*(target-y_hat)*1 # x0=1\n",
    "                        #将损失值加入到损失列表当中\n",
    "                 self.loss_.append(loss)\n",
    "    def predict(self,X,y):\n",
    "        \"\"\"预测方法。根据提供的数据集X，返回每一个样本对应的标签（分类）。\n",
    "        Parameter:\n",
    "        ---------\n",
    "        X：类数组类型，形状为【样本数量，特征数量】\n",
    "           提供预测集。\n",
    "        Return:\n",
    "        ---------\n",
    "        label:类数组类型。形状为：【样本数量，】\n",
    "             预测的每一个便签分类\n",
    "        \"\"\"\n",
    "        X = X.asarray(X)\n",
    "        #计算净输入,矢量化计算，没有使用循环分别对每一个样本求净输出\n",
    "        z = np.dot(X,slef.w_[1:])+self.w_[0] \n",
    "        result = self.step(z)\n",
    "        #获取最终的分类结果，（一维数组类型）\n",
    "        return result"
   ]
  },
  {
   "cell_type": "code",
   "execution_count": 52,
   "metadata": {},
   "outputs": [
    {
     "name": "stdout",
     "output_type": "stream",
     "text": [
      "[-0.1 -0.1  0.1  0.1]\n",
      "[2, 1, 0, 0, 0, 0, 0]\n"
     ]
    }
   ],
   "source": [
    "# 感知器类进行测试\n",
    "X = np.array([[1,0,0],\n",
    "               [1,0,1],\n",
    "               [1,1,0],\n",
    "               [1,1,1]])\n",
    "y  = np.array([0,0,0,1])\n",
    "\n",
    "p = Perception(0.1,7)\n",
    "p.fit(X,y)\n",
    "print(p.w_)\n",
    "print(p.loss_)"
   ]
  },
  {
   "cell_type": "code",
   "execution_count": null,
   "metadata": {},
   "outputs": [],
   "source": []
  }
 ],
 "metadata": {
  "kernelspec": {
   "display_name": "Python 3",
   "language": "python",
   "name": "python3"
  },
  "language_info": {
   "codemirror_mode": {
    "name": "ipython",
    "version": 3
   },
   "file_extension": ".py",
   "mimetype": "text/x-python",
   "name": "python",
   "nbconvert_exporter": "python",
   "pygments_lexer": "ipython3",
   "version": "3.6.6"
  }
 },
 "nbformat": 4,
 "nbformat_minor": 2
}
