{
 "cells": [
  {
   "cell_type": "code",
   "execution_count": 2,
   "metadata": {},
   "outputs": [
    {
     "name": "stdout",
     "output_type": "stream",
     "text": [
      "Extracting MNIST_data/train-images-idx3-ubyte.gz\n",
      "Extracting MNIST_data/train-labels-idx1-ubyte.gz\n",
      "Extracting MNIST_data/t10k-images-idx3-ubyte.gz\n",
      "Extracting MNIST_data/t10k-labels-idx1-ubyte.gz\n"
     ]
    }
   ],
   "source": [
    "import tensorflow as tf\n",
    "import tensorflow.examples.tutorials.mnist.input_data as input_data\n",
    "mnist = input_data.read_data_sets(\"MNIST_data/\", one_hot=True)"
   ]
  },
  {
   "cell_type": "code",
   "execution_count": 24,
   "metadata": {},
   "outputs": [
    {
     "name": "stdout",
     "output_type": "stream",
     "text": [
      "Iter 0,Testing Accuracy 0.9507,Trainning Accuracy0.96043634\n",
      "Iter 1,Testing Accuracy 0.9609,Trainning Accuracy0.9761091\n",
      "Iter 2,Testing Accuracy 0.9657,Trainning Accuracy0.98309094\n",
      "Iter 3,Testing Accuracy 0.9672,Trainning Accuracy0.9864909\n",
      "Iter 4,Testing Accuracy 0.9685,Trainning Accuracy0.98876363\n",
      "Iter 5,Testing Accuracy 0.9698,Trainning Accuracy0.98987275\n",
      "Iter 6,Testing Accuracy 0.9709,Trainning Accuracy0.9908364\n",
      "Iter 7,Testing Accuracy 0.9721,Trainning Accuracy0.99167275\n",
      "Iter 8,Testing Accuracy 0.9724,Trainning Accuracy0.9923091\n",
      "Iter 9,Testing Accuracy 0.9724,Trainning Accuracy0.99276364\n",
      "Iter 10,Testing Accuracy 0.9724,Trainning Accuracy0.993\n",
      "Iter 11,Testing Accuracy 0.9732,Trainning Accuracy0.9931091\n",
      "Iter 12,Testing Accuracy 0.9731,Trainning Accuracy0.99347275\n",
      "Iter 13,Testing Accuracy 0.9732,Trainning Accuracy0.9936727\n",
      "Iter 14,Testing Accuracy 0.974,Trainning Accuracy0.9938\n",
      "Iter 15,Testing Accuracy 0.9731,Trainning Accuracy0.99398184\n",
      "Iter 16,Testing Accuracy 0.9734,Trainning Accuracy0.9940909\n",
      "Iter 17,Testing Accuracy 0.9739,Trainning Accuracy0.9942182\n",
      "Iter 18,Testing Accuracy 0.9738,Trainning Accuracy0.9943454\n",
      "Iter 19,Testing Accuracy 0.9739,Trainning Accuracy0.9944909\n",
      "Iter 20,Testing Accuracy 0.9741,Trainning Accuracy0.9946182\n",
      "Iter 21,Testing Accuracy 0.9744,Trainning Accuracy0.9947091\n",
      "Iter 22,Testing Accuracy 0.9743,Trainning Accuracy0.9947818\n",
      "Iter 23,Testing Accuracy 0.9743,Trainning Accuracy0.9948909\n",
      "Iter 24,Testing Accuracy 0.9746,Trainning Accuracy0.995\n",
      "Iter 25,Testing Accuracy 0.9744,Trainning Accuracy0.99503636\n",
      "Iter 26,Testing Accuracy 0.9745,Trainning Accuracy0.99512726\n",
      "Iter 27,Testing Accuracy 0.9747,Trainning Accuracy0.99514544\n",
      "Iter 28,Testing Accuracy 0.9747,Trainning Accuracy0.99529094\n",
      "Iter 29,Testing Accuracy 0.9751,Trainning Accuracy0.9953273\n",
      "Iter 30,Testing Accuracy 0.9754,Trainning Accuracy0.99538183\n"
     ]
    }
   ],
   "source": [
    "#每个批次的大小\n",
    "batch_size = 100\n",
    "#计算一共有多少个批次\n",
    "n_batch = mnist.train.num_examples // batch_size\n",
    "\n",
    "#定义两个placeholder\n",
    "x = tf.placeholder(tf.float32,[None,784])#28*28大小的图片，展开一行784像素大小数组，行数不确定\n",
    "y = tf.placeholder(tf.float32,[None,10])#one-hot ,得到的结果是one-hot格式，大小为10的数组，行数不确定\n",
    "\n",
    "keep_prob = tf.placeholder(tf.float32)\n",
    "\n",
    "#创建一个简单的神经网络\n",
    "\n",
    "W1 = tf.Variable(tf.truncated_normal([784,2000],stddev=0.1))\n",
    "b1 = tf.Variable(tf.zeros([2000])+0.1)\n",
    "L1 = tf.nn.tanh(tf.matmul(x,W1)+b1)        \n",
    "L1_drop = tf.nn.dropout(L1,keep_prob)\n",
    "\n",
    "W2 = tf.Variable(tf.truncated_normal([2000,2000],stddev=0.1))\n",
    "b2 = tf.Variable(tf.zeros([2000])+0.1)\n",
    "L2 = tf.nn.tanh(tf.matmul(L1_drop,W2)+b2)        \n",
    "L2_drop = tf.nn.dropout(L2,keep_prob)\n",
    "                 \n",
    "W3 = tf.Variable(tf.truncated_normal([2000,1000],stddev=0.1))\n",
    "b3 = tf.Variable(tf.zeros([1000])+0.1)\n",
    "L3 = tf.nn.tanh(tf.matmul(L2_drop,W3)+b3)        \n",
    "L3_drop = tf.nn.dropout(L3,keep_prob)    \n",
    "                 \n",
    "W4 = tf.Variable(tf.truncated_normal([1000,10],stddev=0.1))\n",
    "b4 = tf.Variable(tf.zeros([10])+0.1) \n",
    "                 \n",
    "prediction = tf.nn.softmax(tf.matmul(L3_drop,W4)+b4)\n",
    "# 二次代价函数\n",
    "# loss = tf.reduce_mean(tf.square(y-prediction))\n",
    "loss = tf.reduce_mean(tf.nn.softmax_cross_entropy_with_logits(labels=y,logits=prediction));\n",
    "#使用梯度下降法\n",
    "train_step = tf.train.GradientDescentOptimizer(0.2).minimize(loss)\n",
    "#初始化变量\n",
    "init = tf.global_variables_initializer()\n",
    "\n",
    "# #结果存放在一个布尔型列表中\n",
    "correct_prediction = tf.equal(tf.argmax(y,1),tf.argmax(prediction,1))#argmax返回一维张量中最大的值所在的位置\n",
    "# #求准确率\n",
    "accuracy = tf.reduce_mean(tf.cast(correct_prediction,tf.float32))\n",
    "\n",
    "with tf.Session() as sess:\n",
    "    sess.run(init)\n",
    "    for epoch in range(31):\n",
    "        for batch in range(n_batch):\n",
    "            batch_xs,batch_ys =  mnist.train.next_batch(batch_size)\n",
    "            sess.run(train_step,feed_dict={x:batch_xs,y:batch_ys,keep_prob:0.7})\n",
    "        \n",
    "        test_acc = sess.run(accuracy,feed_dict={x:mnist.test.images,y:mnist.test.labels,keep_prob:1.0})\n",
    "        train_acc = sess.run(accuracy,feed_dict={x:mnist.train.images,y:mnist.train.labels,keep_prob:1.0})\n",
    "        print(\"Iter \" + str(epoch) + \",Testing Accuracy \" + str(test_acc)+\",Trainning Accuracy\"+str(train_acc))\n",
    "\n",
    "\n",
    "\n"
   ]
  },
  {
   "cell_type": "code",
   "execution_count": null,
   "metadata": {},
   "outputs": [],
   "source": []
  }
 ],
 "metadata": {
  "kernelspec": {
   "display_name": "Python 3",
   "language": "python",
   "name": "python3"
  },
  "language_info": {
   "codemirror_mode": {
    "name": "ipython",
    "version": 3
   },
   "file_extension": ".py",
   "mimetype": "text/x-python",
   "name": "python",
   "nbconvert_exporter": "python",
   "pygments_lexer": "ipython3",
   "version": "3.6.6"
  }
 },
 "nbformat": 4,
 "nbformat_minor": 2
}
