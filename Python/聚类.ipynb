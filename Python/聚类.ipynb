{
 "cells": [
  {
   "cell_type": "code",
   "execution_count": 123,
   "metadata": {},
   "outputs": [],
   "source": [
    "import numpy as np\n",
    "import matplotlib.pyplot as plt"
   ]
  },
  {
   "cell_type": "code",
   "execution_count": 124,
   "metadata": {},
   "outputs": [
    {
     "data": {
      "image/png": "[encoded data removed]",
      "text/plain": [
       "<Figure size 432x288 with 1 Axes>"
      ]
     },
     "metadata": {},
     "output_type": "display_data"
    }
   ],
   "source": [
    "data = np.genfromtxt(\"KMeans.txt\",delimiter=\" \")\n",
    "\n",
    "plt.scatter(data[:,0],data[:,1])\n",
    "plt.show()"
   ]
  },
  {
   "cell_type": "code",
   "execution_count": 125,
   "metadata": {},
   "outputs": [
    {
     "data": {
      "text/plain": [
       "(47, 2)"
      ]
     },
     "execution_count": 125,
     "metadata": {},
     "output_type": "execute_result"
    }
   ],
   "source": [
    "data.shape"
   ]
  },
  {
   "cell_type": "markdown",
   "metadata": {},
   "source": [
    "#### 训练模型"
   ]
  },
  {
   "cell_type": "code",
   "execution_count": 126,
   "metadata": {},
   "outputs": [],
   "source": [
    "# 计算距离\n",
    "def CalcuDistance(vector1,vector2):\n",
    "    return np.sqrt(sum((vector1-vector2)**2))\n",
    "\n",
    "def initCentroids(data,k):\n",
    "# 初始化质心\n",
    "    numSamples,dim = data.shape\n",
    "#     k个质心，列数跟样本的列数一样\n",
    "    centroids = np.zeros((k,dim))\n",
    "#     随机选出k个质心\n",
    "    for i in range(k):\n",
    "#         随机选取一个样本的索引\n",
    "        index = int(np.random.uniform(0,numSamples))\n",
    "#     作为初始化的质心\n",
    "        centroids[i,:] = data[index,:]\n",
    "    return centroids"
   ]
  },
  {
   "cell_type": "code",
   "execution_count": 127,
   "metadata": {},
   "outputs": [],
   "source": [
    "def Kmeans(data,k):\n",
    "#     计算样本个数\n",
    "     numSamples = data.shape[0]\n",
    "#     样本的属性，第一列保存该样本属于哪个簇，第二列保存该样本跟它所属簇的误差\n",
    "     clusterData = np.array(np.zeros((numSamples,2)))\n",
    "#    决定质心是否要改变的变量\n",
    "     clusterChanged = True\n",
    "# 初始化质心\n",
    "     centroids = initCentroids(data,k)\n",
    "\n",
    "     while clusterChanged:\n",
    "            clusterChanged = False\n",
    "#         循环每一个样本\n",
    "            for i in range(numSamples):\n",
    "#         最小距离\n",
    "                minDist = 100000.0\n",
    "#     定义样本所属的簇\n",
    "                minIndex = 0\n",
    "                for j in range(k):\n",
    "#                循环每一个质心和样本，计算距离\n",
    "                     distance = CalcuDistance(centroids[j,:],data[i,:])\n",
    "#     如果计算的距离小于最小距离，则更新最小距离\n",
    "                     if distance < minDist:\n",
    "                        minDist = distance\n",
    "#             更新最小距离\n",
    "                        clusterData[i,1] = minDist\n",
    "#     更新样本所属的簇\n",
    "                        minIndex = j\n",
    "#     如果样本的所属的簇发生变化\n",
    "            if clusterData[i,0] != minIndex:\n",
    "#         质心要重新计算\n",
    "                clusterChanged = True\n",
    "#     更新样本的簇\n",
    "                clusterData[i,0] = minIndex\n",
    "#     更新质心\n",
    "     for j in range(k):\n",
    "#             获取第j个簇所在的样本所在的索引\n",
    "                cluster_index = np.nonzero(clusterData[:,0]==j)\n",
    "#     第j个簇所有的样本点\n",
    "                pointsInCluster = data[cluster_index]\n",
    "#     计算质心\n",
    "                centroids[j,:] = np.mean(pointsInCluster,axis=0)\n",
    "#                 showCluster(data,k,centroids,clusterData)\n",
    "     return centroids,clusterData"
   ]
  },
  {
   "cell_type": "code",
   "execution_count": 128,
   "metadata": {},
   "outputs": [],
   "source": [
    "# 显示结果\n",
    "def showCluster(data,k,centroids,clusterData):\n",
    "        numSamples,dim = data.shape\n",
    "        if dim != 2:\n",
    "            print(\"dimension of your data is not 2!\")\n",
    "            return 1\n",
    "#         用不同颜色形状来表示各个类别\n",
    "        mark = ['or','ob','og','ok','-r','+r','sr','dr','<r','pr']\n",
    "        if k > len(mark):\n",
    "            print(\"your k is too large\")\n",
    "            return 1\n",
    "#         画样本点\n",
    "        for i in range(numSamples):\n",
    "            markIndex = int(clusterData[i,0])\n",
    "            plt.plot(data[i,0],data[i,1],mark[markIndex])\n",
    "#             用不同颜色形状来表示各个类别\n",
    "        mark=['*r','*b','*g','*k','b','+b','db','<b','pb']\n",
    "#     画质心点\n",
    "        for i in range(k):\n",
    "            plt.plot(centroids[i,0],centroids[i,1],mark[i],markersize=20)\n",
    "        plt.show()"
   ]
  },
  {
   "cell_type": "code",
   "execution_count": 129,
   "metadata": {},
   "outputs": [
    {
     "name": "stdout",
     "output_type": "stream",
     "text": [
      "Error\n"
     ]
    },
    {
     "name": "stderr",
     "output_type": "stream",
     "text": [
      "C:\\Users\\admin\\Anaconda3\\envs\\tensorflow\\lib\\site-packages\\numpy\\core\\fromnumeric.py:2920: RuntimeWarning: Mean of empty slice.\n",
      "  out=out, **kwargs)\n",
      "C:\\Users\\admin\\Anaconda3\\envs\\tensorflow\\lib\\site-packages\\numpy\\core\\_methods.py:78: RuntimeWarning: invalid value encountered in true_divide\n",
      "  ret, rcount, out=ret, casting='unsafe', subok=False)\n"
     ]
    },
    {
     "data": {
      "image/png": "[encoded data removed]",
      "text/plain": [
       "<Figure size 432x288 with 1 Axes>"
      ]
     },
     "metadata": {},
     "output_type": "display_data"
    }
   ],
   "source": [
    "k = 4\n",
    "centroids,clusterData = Kmeans(data,k)\n",
    "if np.isnan(centroids).any():\n",
    "    print('Error')\n",
    "else:\n",
    "    print('cluster complete!')\n",
    "\n",
    "showCluster(data,k,centroids,clusterData)"
   ]
  },
  {
   "cell_type": "code",
   "execution_count": 110,
   "metadata": {},
   "outputs": [
    {
     "data": {
      "text/plain": [
       "array([[-0.86404255, -0.06489362],\n",
       "       [        nan,         nan],\n",
       "       [        nan,         nan],\n",
       "       [        nan,         nan]])"
      ]
     },
     "execution_count": 110,
     "metadata": {},
     "output_type": "execute_result"
    }
   ],
   "source": [
    "centroids"
   ]
  },
  {
   "cell_type": "code",
   "execution_count": null,
   "metadata": {},
   "outputs": [],
   "source": []
  },
  {
   "cell_type": "code",
   "execution_count": null,
   "metadata": {},
   "outputs": [],
   "source": []
  }
 ],
 "metadata": {
  "kernelspec": {
   "display_name": "Python 3",
   "language": "python",
   "name": "python3"
  },
  "language_info": {
   "codemirror_mode": {
    "name": "ipython",
    "version": 3
   },
   "file_extension": ".py",
   "mimetype": "text/x-python",
   "name": "python",
   "nbconvert_exporter": "python",
   "pygments_lexer": "ipython3",
   "version": "3.6.6"
  }
 },
 "nbformat": 4,
 "nbformat_minor": 2
}
