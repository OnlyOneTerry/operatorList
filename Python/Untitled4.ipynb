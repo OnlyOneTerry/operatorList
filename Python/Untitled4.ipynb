{
 "cells": [
  {
   "cell_type": "code",
   "execution_count": 5,
   "metadata": {},
   "outputs": [
    {
     "name": "stdout",
     "output_type": "stream",
     "text": [
      "Extracting MnistData/train-images-idx3-ubyte.gz\n",
      "Extracting MnistData/train-labels-idx1-ubyte.gz\n",
      "Extracting MnistData/t10k-images-idx3-ubyte.gz\n",
      "Extracting MnistData/t10k-labels-idx1-ubyte.gz\n",
      "accuracy: 0.172\n",
      "accuracy: 0.7772\n",
      "accuracy: 0.815\n",
      "accuracy: 0.8387\n",
      "accuracy: 0.8434\n",
      "accuracy: 0.851\n",
      "accuracy: 0.8571\n",
      "accuracy: 0.8605\n",
      "accuracy: 0.8662\n",
      "accuracy: 0.8689\n"
     ]
    }
   ],
   "source": [
    "import tensorflow as tf\n",
    "import tensorflow.examples.tutorials.mnist.input_data as input_data\n",
    "mnist = input_data.read_data_sets(\"MnistData/\",one_hot = True)\n",
    "x = tf.placeholder(tf.float32,[None,784])\n",
    "y_actual = tf.placeholder(tf.float32,shape=[None,10])\n",
    "W = tf.Variable(tf.zeros([784,10]))\n",
    "b = tf.Variable(tf.zeros([10]))\n",
    "y_predict = tf.nn.softmax(tf.matmul(x,W)+b)\n",
    "cross_entroy = tf.reduce_mean(-tf.reduce_sum(y_actual*tf.log(y_predict),reduction_indices=1))\n",
    "train_step  = tf.train.GradientDescentOptimizer(0.01).minimize(cross_entroy)\n",
    "\n",
    "correct_prediction = tf.equal(tf.argmax(y_predict,1),tf.argmax(y_actual,1))\n",
    "accuracy = tf.reduce_mean(tf.cast(correct_prediction,\"float\"))\n",
    "\n",
    "init = tf.initialize_all_variables()\n",
    "with tf.Session() as sess:\n",
    "    sess.run(init)\n",
    "    for i in range(1000):\n",
    "        batch_xs,batch_ys = mnist.train.next_batch(100)\n",
    "        sess.run(train_step,feed_dict={x:batch_xs,y_actual:batch_ys})\n",
    "        if(i%100==0):\n",
    "           print(\"accuracy:\",sess.run(accuracy,feed_dict={x:mnist.test.images,y_actual:mnist.test.labels}))"
   ]
  },
  {
   "cell_type": "code",
   "execution_count": null,
   "metadata": {},
   "outputs": [],
   "source": []
  }
 ],
 "metadata": {
  "kernelspec": {
   "display_name": "Python 3",
   "language": "python",
   "name": "python3"
  },
  "language_info": {
   "codemirror_mode": {
    "name": "ipython",
    "version": 3
   },
   "file_extension": ".py",
   "mimetype": "text/x-python",
   "name": "python",
   "nbconvert_exporter": "python",
   "pygments_lexer": "ipython3",
   "version": "3.6.6"
  }
 },
 "nbformat": 4,
 "nbformat_minor": 2
}
