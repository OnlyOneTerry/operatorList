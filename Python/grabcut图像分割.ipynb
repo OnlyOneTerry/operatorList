{
 "cells": [
  {
   "cell_type": "code",
   "execution_count": null,
   "metadata": {},
   "outputs": [],
   "source": [
    "import numpy as np\n",
    "import cv2\n",
    "from matplotlib import  pyplot as plt"
   ]
  },
  {
   "cell_type": "code",
   "execution_count": 13,
   "metadata": {},
   "outputs": [],
   "source": [
    "# 首先加载图片，然后创建一个与所加载图片同形状的掩模，并用0填充\n",
    "img = cv2.imread(\"D:/images/mushroom.jpg\")\n",
    "mask = np.zeros(img.shape[:2],np.uint8)"
   ]
  },
  {
   "cell_type": "code",
   "execution_count": 18,
   "metadata": {},
   "outputs": [
    {
     "data": {
      "image/png": "[encoded data removed]",
      "text/plain": [
       "<Figure size 432x288 with 2 Axes>"
      ]
     },
     "metadata": {},
     "output_type": "display_data"
    }
   ],
   "source": [
    "# 然后创建以0填充的前景和背景模型\n",
    "bgdModel = np.zeros((1,65),np.float64)\n",
    "fgdModel = np.zeros((1,65),np.float64)\n",
    "# 在实现Grabcut算法前，先用一个标识出想要隔离的对象的矩形来初始化它，这个矩形我们用下面的一行代码定义（x,y,w,h):\n",
    "rect = (100,50,821,958)\n",
    "# 接下来用指定的空模型和掩模来运行GrabCut算法\n",
    "cv2.grabCut(img,mask,rect,bgdModel,fgdModel,5,cv2.GC_INIT_WITH_RECT)#5是指算法迭代的次数\n",
    "mask2 = np.where((mask == 2)|(mask==0),0,1).astype(\"uint8\")\n",
    "img = img*mask2[:,:,np.newaxis]\n",
    "# 最后可视化展现分割前后的图像\n",
    "plt.subplot(1,2,1)\n",
    "# plt.imshow(img)\n",
    "plt.title(\"grabcut\"),plt.xticks([]),plt.yticks([])\n",
    "\n",
    "plt.subplot(1,2,2)\n",
    "# plt.imshow(cv2.imread(\"D:/images/mushroom.jpg\"))\n",
    "plt.title(\"original\"),plt.xticks([]),plt.yticks([])\n",
    "plt.savefig(\"D:/images/grabCut.jpg\");"
   ]
  },
  {
   "cell_type": "code",
   "execution_count": 22,
   "metadata": {},
   "outputs": [
    {
     "name": "stdout",
     "output_type": "stream",
     "text": [
      "3.4.2\n",
      "could not open video\n"
     ]
    },
    {
     "ename": "SystemExit",
     "evalue": "",
     "output_type": "error",
     "traceback": [
      "An exception has occurred, use %tb to see the full traceback.\n",
      "\u001b[1;31mSystemExit\u001b[0m\n"
     ]
    },
    {
     "name": "stderr",
     "output_type": "stream",
     "text": [
      "C:\\Users\\admin\\Anaconda3\\envs\\tensorflow\\lib\\site-packages\\IPython\\core\\interactiveshell.py:2969: UserWarning: To exit: use 'exit', 'quit', or Ctrl-D.\n",
      "  warn(\"To exit: use 'exit', 'quit', or Ctrl-D.\", stacklevel=1)\n"
     ]
    }
   ],
   "source": [
    "import cv2\n",
    "import sys\n",
    "\n",
    "print(cv2.__version__)\n",
    "if __name__ == '__main__':\n",
    "    tracker_types = ['BOOSTING','MIL','KCF','TLD','MEDIANFLOW','GOTURN']\n",
    "    tracker_type = tracker_types[2]\n",
    "    \n",
    "    if tracker_type =='BOOSTING':\n",
    "        tracker  = cv2.TrackerBoosting_create()\n",
    "    if tracker_type =='MIL':\n",
    "        tracker = cv2.TrackerMIL_create()\n",
    "    if tracker_type == 'KCF':\n",
    "        tracker = cv2.TrackerKCF_create()\n",
    "    if tracker_type == 'TLD':\n",
    "        tracker = cv2.TrackerTLD_create()\n",
    "    if tracker_type =='MEDIANFLOW':\n",
    "        tracker = cv2.TrackerMedianFlow_create()\n",
    "    if tracker_type == 'GOTURN':\n",
    "        tracker = cv2.TrackerGOTURN_create()\n",
    "        \n",
    "    video = cv2.VideoCapture(0)\n",
    "    \n",
    "    if not video.isOpened():\n",
    "        print(\"could not open video\")\n",
    "        sys.exit()\n",
    "#     read first frame\n",
    "    ok,frame = video.read()\n",
    "    if not ok:\n",
    "        print(\"cannot read video file\")\n",
    "        sys.exit()\n",
    "#     uncomment the line below to select a different bounding box\n",
    "    bbox = cv2.selectROI(frame,False)\n",
    "#   Initialize tracker with first frame and bounding box\n",
    "    ok = tracker.init(frame,bbox)\n",
    "    \n",
    "    while True:\n",
    "#         read a new frame\n",
    "        ok,frame = video.read()\n",
    "        if not ok:\n",
    "            break;\n",
    "#         start timer\n",
    "        timer = cv2.getTickCount()\n",
    "#       Update tracker\n",
    "        ok,bbox = tracker.update(frame)\n",
    "#       Calculate Frames per second\n",
    "        fps = cv2.getTickFrequency()/(cv2.getTickCount()-timer)\n",
    "        \n",
    "        if ok:\n",
    "#             tracking success\n",
    "            p1 = (int(bbox[0]),int(bbox[1]))\n",
    "            p2 = (int(bbox[0]+bbox[2]),int(bbox[1]+bbox[3]))\n",
    "            cv2.rectangle(frame,p1,p2,(255,0,0),2,1)\n",
    "        else:\n",
    "#             Tracking failure\n",
    "            cv2.putText(frame,\"tracking failure detected\",(100,80),cv2.FONT_HERSHEY_SIMPLEX,0.75,(0,0,255),2)\n",
    "    \n",
    "#       display tracker type on frame\n",
    "        cv2.putText(frame,tracker_type+\"tracker\",(100,20),cv2.FONT_HERSHEY_SIMPLEX,0.75,(50,170,50),2)\n",
    "#       display fps on frame\n",
    "        cv2.putText(frame,\"FPS:\"+str(int(fps)),(100,50),cv2.FONT_HERSHEY_SIMPLEX,0.75,(50,170,50),2)\n",
    "#      display result\n",
    "        cv2.imshow('Tracking',frame)\n",
    "#     Exit if esc pressed\n",
    "        k = cv2.waitKey(1) & 0xff\n",
    "        if k==27 :break\n",
    "            "
   ]
  },
  {
   "cell_type": "code",
   "execution_count": null,
   "metadata": {},
   "outputs": [],
   "source": []
  }
 ],
 "metadata": {
  "kernelspec": {
   "display_name": "Python 3",
   "language": "python",
   "name": "python3"
  },
  "language_info": {
   "codemirror_mode": {
    "name": "ipython",
    "version": 3
   },
   "file_extension": ".py",
   "mimetype": "text/x-python",
   "name": "python",
   "nbconvert_exporter": "python",
   "pygments_lexer": "ipython3",
   "version": "3.6.6"
  }
 },
 "nbformat": 4,
 "nbformat_minor": 2
}
