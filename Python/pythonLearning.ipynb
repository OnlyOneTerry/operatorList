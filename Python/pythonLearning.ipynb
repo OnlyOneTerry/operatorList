{
 "cells": [
  {
   "cell_type": "code",
   "execution_count": 1,
   "metadata": {},
   "outputs": [],
   "source": [
    "import json\n"
   ]
  },
  {
   "cell_type": "code",
   "execution_count": 2,
   "metadata": {},
   "outputs": [
    {
     "name": "stdout",
     "output_type": "stream",
     "text": [
      "[{\"a\": 1, \"b\": 2, \"c\": 3, \"d\": 4, \"e\": 5}]\n"
     ]
    }
   ],
   "source": [
    "data = [{'a':1,\n",
    "         'b':2,\n",
    "         'c':3,\n",
    "         'd':4,\n",
    "         'e':5}]\n",
    "json = json.dumps(data)\n",
    "print(json)"
   ]
  },
  {
   "cell_type": "code",
   "execution_count": 4,
   "metadata": {},
   "outputs": [
    {
     "ename": "ModuleNotFoundError",
     "evalue": "No module named 'demjson'",
     "output_type": "error",
     "traceback": [
      "\u001b[1;31m---------------------------------------------------------------------------\u001b[0m",
      "\u001b[1;31mModuleNotFoundError\u001b[0m                       Traceback (most recent call last)",
      "\u001b[1;32m<ipython-input-4-2fdd65d75ba8>\u001b[0m in \u001b[0;36m<module>\u001b[1;34m()\u001b[0m\n\u001b[0;32m      1\u001b[0m \u001b[1;31m# 解码json对象\u001b[0m\u001b[1;33m\u001b[0m\u001b[1;33m\u001b[0m\u001b[0m\n\u001b[1;32m----> 2\u001b[1;33m \u001b[1;32mimport\u001b[0m \u001b[0mdemjson\u001b[0m\u001b[1;33m\u001b[0m\u001b[0m\n\u001b[0m\u001b[0;32m      3\u001b[0m \u001b[0mjson\u001b[0m \u001b[1;33m=\u001b[0m\u001b[1;34m'{\"a\":1,\"b\":2,\"c\":3,\"d\":4,\"e\":5}'\u001b[0m\u001b[1;33m;\u001b[0m\u001b[1;33m\u001b[0m\u001b[0m\n\u001b[0;32m      4\u001b[0m \u001b[0mtext\u001b[0m \u001b[1;33m=\u001b[0m \u001b[0mdemjson\u001b[0m\u001b[1;33m.\u001b[0m\u001b[0mdecode\u001b[0m\u001b[1;33m(\u001b[0m\u001b[0mjson\u001b[0m\u001b[1;33m)\u001b[0m\u001b[1;33m\u001b[0m\u001b[0m\n\u001b[0;32m      5\u001b[0m \u001b[0mprint\u001b[0m\u001b[1;33m(\u001b[0m\u001b[0mtext\u001b[0m\u001b[1;33m)\u001b[0m\u001b[1;33m\u001b[0m\u001b[0m\n",
      "\u001b[1;31mModuleNotFoundError\u001b[0m: No module named 'demjson'"
     ]
    }
   ],
   "source": [
    "# 解码json对象\n",
    "import demjson\n",
    "json ='{\"a\":1,\"b\":2,\"c\":3,\"d\":4,\"e\":5}';\n",
    "text = demjson.decode(json)\n",
    "print(text)"
   ]
  },
  {
   "cell_type": "code",
   "execution_count": 7,
   "metadata": {},
   "outputs": [
    {
     "name": "stdout",
     "output_type": "stream",
     "text": [
      "32.66026079864164\n"
     ]
    }
   ],
   "source": [
    "from functools import reduce\n",
    "a = 2.0\n",
    "b = 1.0\n",
    "l =[]\n",
    "l.append(a/b)\n",
    "for n in range(1,20):\n",
    "    b,a = a,a+b\n",
    "    l.append(a/b)\n",
    "print(reduce(lambda x,y:x+y,l))#lambda匿名函数"
   ]
  },
  {
   "cell_type": "code",
   "execution_count": 10,
   "metadata": {},
   "outputs": [
    {
     "name": "stdout",
     "output_type": "stream",
     "text": [
      "6\n"
     ]
    }
   ],
   "source": [
    "def add(x,y):\n",
    "    return x+y\n",
    "print(reduce(add,range(1,4)))"
   ]
  },
  {
   "cell_type": "code",
   "execution_count": 11,
   "metadata": {},
   "outputs": [
    {
     "name": "stdout",
     "output_type": "stream",
     "text": [
      "2\n"
     ]
    }
   ],
   "source": [
    "sentences = ['The Deep Learning textbook is a resource intended to help students and practitioners enter the field of machine learning in general and deep learning in particular. '] \n",
    "word_count = reduce(lambda a,x:a+x.count(\"learning\"),sentences,0)\n",
    "print(word_count)"
   ]
  },
  {
   "cell_type": "code",
   "execution_count": 12,
   "metadata": {},
   "outputs": [],
   "source": [
    "from sys import  stdout"
   ]
  },
  {
   "cell_type": "code",
   "execution_count": 13,
   "metadata": {},
   "outputs": [
    {
     "name": "stdout",
     "output_type": "stream",
     "text": [
      "   *\n",
      "  ***\n",
      " *****\n",
      "*******\n",
      " *****\n",
      "  ***\n",
      "   *\n"
     ]
    }
   ],
   "source": [
    "for i in range(4):\n",
    "    for j in range(2-i+1):\n",
    "        stdout.write(' ')\n",
    "    for k in range(2*i+1):\n",
    "        stdout.write('*')\n",
    "    print()\n",
    "for i in range(3):\n",
    "    for j in range(i+1):\n",
    "        stdout.write(' ')\n",
    "    for k in range(4-2*i + 1):\n",
    "        stdout.write('*')\n",
    "    print()"
   ]
  },
  {
   "cell_type": "code",
   "execution_count": 14,
   "metadata": {},
   "outputs": [
    {
     "name": "stdout",
     "output_type": "stream",
     "text": [
      "2\n"
     ]
    }
   ],
   "source": [
    "# python 中一切都是对象，严格意义我们不能说值传递还是引用传递，我们应该说传不可变对象\n",
    "# 传可变对象\n",
    "def changeInt(a):\n",
    "    a = 10\n",
    "b = 2\n",
    "changeInt(b)\n",
    "print(b)"
   ]
  },
  {
   "cell_type": "code",
   "execution_count": 15,
   "metadata": {},
   "outputs": [],
   "source": [
    "def changeList(mylist):\n",
    "    mylist.append([1,2,3,4])\n",
    "    print(\"函数内取值：\",mylist)\n",
    "    return"
   ]
  },
  {
   "cell_type": "code",
   "execution_count": 17,
   "metadata": {},
   "outputs": [
    {
     "name": "stdout",
     "output_type": "stream",
     "text": [
      "函数内取值： [10, 20, 30, [1, 2, 3, 4]]\n",
      "函数外取值: [10, 20, 30, [1, 2, 3, 4]]\n"
     ]
    }
   ],
   "source": [
    "mylist = [10,20,30]\n",
    "changeList(mylist)\n",
    "print(\"函数外取值:\",mylist)"
   ]
  },
  {
   "cell_type": "code",
   "execution_count": 20,
   "metadata": {},
   "outputs": [
    {
     "name": "stdout",
     "output_type": "stream",
     "text": [
      "相加后的值为： 30\n"
     ]
    }
   ],
   "source": [
    "sum = lambda arg1,arg2:arg1+arg2\n",
    "print(\"相加后的值为：\",sum(10,20))"
   ]
  },
  {
   "cell_type": "code",
   "execution_count": 21,
   "metadata": {},
   "outputs": [
    {
     "name": "stdout",
     "output_type": "stream",
     "text": [
      "相加后的值为： 40\n"
     ]
    }
   ],
   "source": [
    "print(\"相加后的值为：\",sum(20,20))"
   ]
  },
  {
   "cell_type": "code",
   "execution_count": null,
   "metadata": {},
   "outputs": [],
   "source": [
    "# python 多线程\n",
    "import threading\n",
    "import time\n",
    "\n",
    "exitFlag = 0\n",
    "\n",
    "class myThread(threading.Thread):\n",
    "    def _init_(self,threadID,name,counter):\n",
    "        threading.Thread._init_(self)\n",
    "        self.threadID = threadID\n",
    "        self.name = name\n",
    "        self.counter = counter\n",
    "    def run(self):\n",
    "        print(\"Starting\"+self.name)\n",
    "        print_time(self.name,self.counter,5)\n",
    "        print(\"Exiting\"+self.name)\n",
    "\n",
    "def print_time(threadName,delay,counter):\n",
    "    while counter:\n",
    "        if exitFlag:\n",
    "            (threading.Thread).exit()\n",
    "        time.sleep(delay)\n",
    "        print(\"%s:%s\"(threadName,time.ctime(time.time())))\n",
    "        counter -=1\n",
    "# 创建新线程\n",
    "# thread1 = myThread(1,\"thread-1\",1)\n",
    "# thread2 = myThread(2,\"thread-2\",2)\n",
    "# 开启线程\n",
    "# thread1.start()\n",
    "# thread2.start()"
   ]
  },
  {
   "cell_type": "code",
   "execution_count": null,
   "metadata": {},
   "outputs": [
    {
     "name": "stdout",
     "output_type": "stream",
     "text": [
      "error:unable to start thread\n"
     ]
    }
   ],
   "source": [
    "# import thread\n",
    "import time\n",
    "\n",
    "def print_time(threadName,delay):\n",
    "    count = 0\n",
    "    while count < 5:\n",
    "        time.sleep(delay)\n",
    "        count+=1\n",
    "        print(\"%s:%s\"%(threadName,time.ctime(time.time())))\n",
    "try:\n",
    "    thread.start_new_thread(print_time,(\"Thread-1\",2,))\n",
    "    thread.start_new_thread(print_time,(\"Thread-2\",4,))\n",
    "except:\n",
    "    print(\"error:unable to start thread\")\n",
    "\n",
    "while(1):\n",
    "    pass"
   ]
  },
  {
   "cell_type": "code",
   "execution_count": 10,
   "metadata": {},
   "outputs": [
    {
     "name": "stdout",
     "output_type": "stream",
     "text": [
      "[ 11.    19.    14.    22.    14.    28.    13.    81.    12.    43.\n",
      "  11.    16.    31.    16.    23.42  22.    26.    17.    22.    13.\n",
      "  27.   180.    16.    43.    82.    14.    11.    51.    76.    28.\n",
      "  66.    29.    14.    14.    65.    37.    16.    37.    35.    39.\n",
      "  27.    14.    17.    13.    38.    28.    40.    85.    32.    25.\n",
      "  26.    16.    12.    54.    40.    18.    27.    16.    14.    33.\n",
      "  29.    77.    50.    19.  ]\n"
     ]
    }
   ],
   "source": [
    "import numpy as np\n",
    "import pandas as pd\n",
    "pay=np.array([11,19,14,22,14,28,13,81,12,43,11,16,31,16,23.42,22,26,17,22,13,27,180,16,43,82,14,11,51,76,28,66,29,14,14,65,37,16,37,35,39,27,14,17,13,38,28,40,85,32,25,26,16,12,54,40,18,27,16,14,33,29,77,50,19])\n",
    "pay.reshape([32,2])\n",
    "print(pay)\n"
   ]
  },
  {
   "cell_type": "code",
   "execution_count": null,
   "metadata": {},
   "outputs": [],
   "source": []
  }
 ],
 "metadata": {
  "kernelspec": {
   "display_name": "Python 3",
   "language": "python",
   "name": "python3"
  },
  "language_info": {
   "codemirror_mode": {
    "name": "ipython",
    "version": 3
   },
   "file_extension": ".py",
   "mimetype": "text/x-python",
   "name": "python",
   "nbconvert_exporter": "python",
   "pygments_lexer": "ipython3",
   "version": "3.6.6"
  }
 },
 "nbformat": 4,
 "nbformat_minor": 2
}
