{
 "cells": [
  {
   "cell_type": "markdown",
   "metadata": {},
   "source": [
    "#### 1.tf.Variable()：只要使用该函数，一律创建新的variable，如果出现重名，变量名后面会自动加上后缀1，2….\n",
    "#### 2.tf.get_variable()：如果变量存在，则使用以前创建的变量，如果不存在，则新创建一个变量。"
   ]
  },
  {
   "cell_type": "code",
   "execution_count": 1,
   "metadata": {},
   "outputs": [],
   "source": [
    "import tensorflow as tf"
   ]
  },
  {
   "cell_type": "code",
   "execution_count": 2,
   "metadata": {},
   "outputs": [
    {
     "name": "stdout",
     "output_type": "stream",
     "text": [
      "cltdevelop/var_1:0\n",
      "cltdevelop/var_1_1:0\n",
      "cltdevelop/var_1_2:0\n"
     ]
    }
   ],
   "source": [
    "with tf.name_scope('cltdevelop'):\n",
    "     var_1 = tf.Variable(initial_value=[0],name='var_1')\n",
    "     var_2 = tf.Variable(initial_value=[0],name='var_1')\n",
    "     var_3 = tf.Variable(initial_value=[0],name='var_1')\n",
    "print(var_1.name)\n",
    "print(var_2.name)\n",
    "print(var_3.name)"
   ]
  },
  {
   "cell_type": "markdown",
   "metadata": {},
   "source": [
    "#### 1.命名域 name_scope()\n",
    "#### 2.变量域 variable_scope()"
   ]
  },
  {
   "cell_type": "code",
   "execution_count": 3,
   "metadata": {},
   "outputs": [],
   "source": [
    "import tensorflow as tf"
   ]
  },
  {
   "cell_type": "code",
   "execution_count": 4,
   "metadata": {},
   "outputs": [],
   "source": [
    "with tf.name_scope('cltdevelop'):\n",
    "    var_1 = tf.Variable(initial_value=[0],name='var_1')\n",
    "    var_2 = tf.get_variable(name='var_2',shape=[1,])\n",
    "with tf.variable_scope('aaa'):\n",
    "    var_3 = tf.Variable(initial_value=[0],name='var_3')\n",
    "    var_4 = tf.get_variable(name='var_4',shape=[1,])"
   ]
  },
  {
   "cell_type": "code",
   "execution_count": 6,
   "metadata": {},
   "outputs": [
    {
     "name": "stdout",
     "output_type": "stream",
     "text": [
      "cltdevelop_1/var_1:0\n",
      "var_2:0\n",
      "aaa/var_3:0\n",
      "aaa/var_4:0\n"
     ]
    }
   ],
   "source": [
    "print(var_1.name)\n",
    "print(var_2.name)\n",
    "print(var_3.name)\n",
    "print(var_4.name)"
   ]
  },
  {
   "cell_type": "markdown",
   "metadata": {},
   "source": [
    "####  tensorflow中变量共享机制的实现"
   ]
  },
  {
   "cell_type": "code",
   "execution_count": 7,
   "metadata": {},
   "outputs": [],
   "source": [
    "import tensorflow as tf"
   ]
  },
  {
   "cell_type": "markdown",
   "metadata": {},
   "source": [
    "#### 当 reuse 设置为 True 或者 tf.AUTO_REUSE 时，表示这个scope下的变量是重用的或者共享的，也说明这个变量以前就已经创建好了。但如果这个变量以前没有被创建过，则在tf.variable_scope下调用tf.get_variable创建这个变量会报错"
   ]
  },
  {
   "cell_type": "code",
   "execution_count": 8,
   "metadata": {},
   "outputs": [
    {
     "name": "stdout",
     "output_type": "stream",
     "text": [
      "cltdevelop/var_1_3:0\n",
      "cltdevelop/var_1_3:0\n"
     ]
    }
   ],
   "source": [
    "with tf.variable_scope('cltdevelop'):\n",
    "    var_1 = tf.get_variable('var_1',shape=[1,])\n",
    "with tf.variable_scope('cltdevelop',reuse=True):\n",
    "    var_2 = tf.get_variable('var_1',shape=[1,])\n",
    "    \n",
    "print(var_1.name)\n",
    "print(var_2.name)"
   ]
  },
  {
   "cell_type": "code",
   "execution_count": 9,
   "metadata": {},
   "outputs": [],
   "source": [
    "import tensorflow as tf"
   ]
  },
  {
   "cell_type": "code",
   "execution_count": 11,
   "metadata": {},
   "outputs": [],
   "source": [
    "with tf.variable_scope('cltdevelop',reuse=True):\n",
    "    var_1 = tf.get_variable('var_1',shape=[1,])"
   ]
  },
  {
   "cell_type": "code",
   "execution_count": null,
   "metadata": {},
   "outputs": [],
   "source": []
  }
 ],
 "metadata": {
  "kernelspec": {
   "display_name": "Python 3",
   "language": "python",
   "name": "python3"
  },
  "language_info": {
   "codemirror_mode": {
    "name": "ipython",
    "version": 3
   },
   "file_extension": ".py",
   "mimetype": "text/x-python",
   "name": "python",
   "nbconvert_exporter": "python",
   "pygments_lexer": "ipython3",
   "version": "3.6.6"
  }
 },
 "nbformat": 4,
 "nbformat_minor": 2
}
