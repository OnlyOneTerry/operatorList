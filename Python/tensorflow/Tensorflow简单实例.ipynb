{
 "cells": [
  {
   "cell_type": "code",
   "execution_count": 1,
   "metadata": {},
   "outputs": [],
   "source": [
    "import tensorflow as tf\n",
    "import numpy as np"
   ]
  },
  {
   "cell_type": "code",
   "execution_count": 4,
   "metadata": {},
   "outputs": [
    {
     "name": "stdout",
     "output_type": "stream",
     "text": [
      "0 [0.31358814, 0.60824037]\n",
      "20 [0.110340886, 0.19509214]\n",
      "40 [0.10661726, 0.19685884]\n",
      "60 [0.10423459, 0.19798988]\n",
      "80 [0.10270985, 0.19871366]\n",
      "100 [0.10173413, 0.19917682]\n",
      "120 [0.10110973, 0.19947322]\n",
      "140 [0.10071017, 0.1996629]\n",
      "160 [0.10045445, 0.19978428]\n",
      "180 [0.10029083, 0.19986196]\n",
      "200 [0.100186095, 0.19991167]\n"
     ]
    }
   ],
   "source": [
    "# 使用numpy生成100个随机点\n",
    "x_data = np.random.rand(100)\n",
    "y_data = x_data*0.1+0.2\n",
    "\n",
    "# 构造一个线性模型\n",
    "b = tf.Variable(1.0)\n",
    "k = tf.Variable(0.5)\n",
    "y = k*x_data + b \n",
    "\n",
    "# 二次代价函数\n",
    "loss = tf.reduce_mean(tf.square(y_data - y))\n",
    "# 定义一个梯度下降法来进行训练优化器\n",
    "optimizer = tf.train.GradientDescentOptimizer(0.2)\n",
    "# 最小化代价函数\n",
    "train = optimizer.minimize(loss)\n",
    "\n",
    "# 初始化变量\n",
    "init = tf.global_variables_initializer()\n",
    "\n",
    "with tf.Session() as sess:\n",
    "    sess.run(init)\n",
    "    for step in range(201):\n",
    "         sess.run(train)\n",
    "         if step%20==0 :\n",
    "            print(step,sess.run([k,b]))"
   ]
  },
  {
   "cell_type": "code",
   "execution_count": null,
   "metadata": {},
   "outputs": [],
   "source": []
  }
 ],
 "metadata": {
  "kernelspec": {
   "display_name": "Python 3",
   "language": "python",
   "name": "python3"
  },
  "language_info": {
   "codemirror_mode": {
    "name": "ipython",
    "version": 3
   },
   "file_extension": ".py",
   "mimetype": "text/x-python",
   "name": "python",
   "nbconvert_exporter": "python",
   "pygments_lexer": "ipython3",
   "version": "3.6.6"
  }
 },
 "nbformat": 4,
 "nbformat_minor": 2
}
