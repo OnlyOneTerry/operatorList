{
 "cells": [
  {
   "cell_type": "code",
   "execution_count": 1,
   "metadata": {},
   "outputs": [],
   "source": [
    "import numpy as np\n",
    "import matplotlib.pyplot as plt"
   ]
  },
  {
   "cell_type": "code",
   "execution_count": 5,
   "metadata": {},
   "outputs": [
    {
     "data": {
      "image/png": "[encoded data removed]",
      "text/plain": [
       "<Figure size 432x288 with 1 Axes>"
      ]
     },
     "metadata": {},
     "output_type": "display_data"
    }
   ],
   "source": [
    "data = np.genfromtxt(\"KMeans.txt\",delimiter=\" \")\n",
    "\n",
    "plt.scatter(data[:,0],data[:,1])\n",
    "plt.show()"
   ]
  },
  {
   "cell_type": "code",
   "execution_count": 6,
   "metadata": {},
   "outputs": [
    {
     "data": {
      "text/plain": [
       "(33, 2)"
      ]
     },
     "execution_count": 6,
     "metadata": {},
     "output_type": "execute_result"
    }
   ],
   "source": [
    "data.shape"
   ]
  },
  {
   "cell_type": "markdown",
   "metadata": {},
   "source": [
    "#### 训练模型"
   ]
  },
  {
   "cell_type": "code",
   "execution_count": 10,
   "metadata": {},
   "outputs": [],
   "source": [
    "# 计算距离\n",
    "def distance(vector1,vector2):\n",
    "    return np.sqrt(sum((vector1-vector2)**2))\n",
    "\n",
    "def initCentroids(data,k):\n",
    "# 初始化质心\n",
    "    numSamples,dim = data.shape\n",
    "#     k个质心，列数跟样本的列数一样\n",
    "    centroids = np.zeros((k,dim))\n",
    "#     随机选出k个质心\n",
    "    for i in range(k):\n",
    "#         随机选取一个样本的索引\n",
    "        index = int(np.random.uniform(0,numSamples))\n",
    "#     作为初始化的质心\n",
    "        centroids[i,:] = data[index,:]\n",
    "    return centroids"
   ]
  },
  {
   "cell_type": "code",
   "execution_count": null,
   "metadata": {},
   "outputs": [],
   "source": [
    "def Kmeans(data,k):\n",
    "#     计算样本个数\n",
    "     numSamples = data.shape[0]\n",
    "#     样本的属性，第一列保存该样本属于哪个簇，第二列保存该样本跟它所属簇的误差\n",
    "     clusterData = np.array(np.zeros((numSamples,2)))\n",
    "#    决定质心是否要改变的变量\n",
    "     clusterChanged = True\n",
    "# 初始化质心\n",
    "    centroids = initCentroids(data,k)\n",
    "    \n",
    "    while clusterChanged:\n",
    "           clusterChanged = False\n",
    "#         循环每一个样本\n",
    "            for i in range(numSamples):\n",
    "#         最小距离\n",
    "                minDist = 100000.0\n",
    "#     定义样本所属的簇\n",
    "                minIndex = 0\n",
    "                for j in range(k):\n",
    "#                循环每一个质心和样本，计算距离\n",
    "                     distance = distance(centroids[j,:],data[i,:])\n",
    "#     如果计算的距离小于最小距离，则更新最小距离\n",
    "                     if distance < minDist:\n",
    "                        minDist = distance\n",
    "#             更新最小距离\n",
    "                        clusterData[i,1] = minDist\n",
    "#     更新样本所属的簇\n",
    "                        minIndex = j\n",
    "#     如果样本的所属的簇发生变化\n",
    "            if clusterData[i,0] != minIndex:\n",
    "#         质心要重新计算\n",
    "                clusterChanged = True\n",
    "#     更新样本的簇\n",
    "    "
   ]
  }
 ],
 "metadata": {
  "kernelspec": {
   "display_name": "Python 3",
   "language": "python",
   "name": "python3"
  },
  "language_info": {
   "codemirror_mode": {
    "name": "ipython",
    "version": 3
   },
   "file_extension": ".py",
   "mimetype": "text/x-python",
   "name": "python",
   "nbconvert_exporter": "python",
   "pygments_lexer": "ipython3",
   "version": "3.6.6"
  }
 },
 "nbformat": 4,
 "nbformat_minor": 2
}
