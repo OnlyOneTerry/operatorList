{
 "cells": [
  {
   "cell_type": "code",
   "execution_count": 12,
   "metadata": {},
   "outputs": [],
   "source": [
    "import numpy as np\n",
    "from sklearn import  datasets\n",
    "from sklearn.model_selection import  train_test_split\n",
    "from sklearn.metrics import  classification_report,confusion_matrix\n",
    "import operator\n",
    "import random"
   ]
  },
  {
   "cell_type": "code",
   "execution_count": 13,
   "metadata": {},
   "outputs": [],
   "source": [
    "def knn(x_test,x_data,y_data,k):\n",
    "    x_data_size = x_data.shape[0]\n",
    "    np.tile(x_test,(x_data_size,1))\n",
    "    diffMat = np.tile(x_test,(x_data_size,1))-x_data\n",
    "    sqDiffMat = diffMat**2\n",
    "    sqDistance = sqDiffMat.sum(axis=1)\n",
    "    distance = sqDistance**0.5\n",
    "    sortedDistance = distance.argsort()\n",
    "    classCount={}\n",
    "    for i in rnage(k):\n",
    "        voteLabel = y_data[sortedDistance[i]]\n",
    "#         统计标签数量\n",
    "        classCount[voteLabel] = classCount.get(voteLabel,0)+1\n",
    "    sortedClassCount = sorted(classCount.items(),key=operator.itemgetter(1),reverse=True )\n",
    "#     获取数量最多的标签\n",
    "    return sortedClassCount[0][0]\n"
   ]
  },
  {
   "cell_type": "code",
   "execution_count": 16,
   "metadata": {},
   "outputs": [],
   "source": [
    "# 载入数据\n",
    "iris = datasets.load_iris()"
   ]
  },
  {
   "cell_type": "code",
   "execution_count": null,
   "metadata": {},
   "outputs": [],
   "source": []
  },
  {
   "cell_type": "code",
   "execution_count": 15,
   "metadata": {},
   "outputs": [],
   "source": [
    "data_size  = iris.data.shape[0]\n",
    "index = [i for i in range(data_size)]\n",
    "iris.data = iris.data[index]\n",
    "iris.target = iris.target[index]"
   ]
  },
  {
   "cell_type": "code",
   "execution_count": null,
   "metadata": {},
   "outputs": [],
   "source": [
    "# 切分数据集\n",
    "test_size = 40\n",
    "x_train = iris.data[test_size:]\n",
    "x_test = iris.data[:test_size]\n",
    "y_train = iris.target[test_size:]\n",
    "y_test = iris.target[:test_size]\n",
    "\n",
    "predictions=[]\n",
    "for i in range(x_test.shape[0]):\n",
    "    predictions.append(knn(x_test[i],x_train,y_train,5))"
   ]
  }
 ],
 "metadata": {
  "kernelspec": {
   "display_name": "Python 3",
   "language": "python",
   "name": "python3"
  },
  "language_info": {
   "codemirror_mode": {
    "name": "ipython",
    "version": 3
   },
   "file_extension": ".py",
   "mimetype": "text/x-python",
   "name": "python",
   "nbconvert_exporter": "python",
   "pygments_lexer": "ipython3",
   "version": "3.6.6"
  }
 },
 "nbformat": 4,
 "nbformat_minor": 2
}
