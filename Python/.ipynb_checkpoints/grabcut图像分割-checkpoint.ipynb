{
 "cells": [
  {
   "cell_type": "code",
   "execution_count": null,
   "metadata": {},
   "outputs": [],
   "source": [
    "import numpy as np\n",
    "import cv2\n",
    "from matplotlib import  pyplot as plt"
   ]
  },
  {
   "cell_type": "code",
   "execution_count": 3,
   "metadata": {},
   "outputs": [],
   "source": [
    "# 首先加载图片，然后创建一个与所加载图片同形状的掩模，并用0填充\n",
    "img = cv2.imread(\"D:/images/cat.jpg\")\n",
    "mask = np.zeros(img.shape[:2],np.uint8)"
   ]
  },
  {
   "cell_type": "code",
   "execution_count": null,
   "metadata": {},
   "outputs": [],
   "source": [
    "# 然后创建以0填充的前景和背景模型\n",
    "bgdModel = np.zeros((1,65),np.float64)\n",
    "fgdModel = np.zeros((1,65),np.float64)\n",
    "# 在实现Grabcut算法前，先用一个标识出想要隔离的对象的矩形来初始化它，这个矩形我们用下面的一行代码定义（x,y,w,h):\n",
    "rect = (100,50,421,378)\n",
    "# 接下来用指定的空模型和掩模来运行GrabCut算法\n",
    "cv2.grabCut(img,mask,rect,bgdModel,fgdModel,5,cv2.GC_INIT_WITH_RECT)#5是指算法迭代的次数\n",
    "mask2 = np.where((mask == 2)|(mask==0),0,1).astype(\"uint8\")\n",
    "img = img*mask2[:,:,np.newaxis]\n",
    "# 最后可视化展现分割前后的图像\n",
    "plt.subplot(1,2,1)\n",
    "plt.imshow(img)\n",
    "plt.title(\"grabcut\"),plt.xticks([]),plt.yticks([])\n",
    "\n",
    "plt.subplot(1,2,2)\n",
    "plt.imshow(cv2.imread(\"D:/images/cat.jpg\"))\n",
    "plt.title(A\"original\"),plt.xticks([]),plt.yticks([])\n",
    "plt.savefig(\"D:/images/grabCut.jpg\");"
   ]
  }
 ],
 "metadata": {
  "kernelspec": {
   "display_name": "Python 3",
   "language": "python",
   "name": "python3"
  },
  "language_info": {
   "codemirror_mode": {
    "name": "ipython",
    "version": 3
   },
   "file_extension": ".py",
   "mimetype": "text/x-python",
   "name": "python",
   "nbconvert_exporter": "python",
   "pygments_lexer": "ipython3",
   "version": "3.6.6"
  }
 },
 "nbformat": 4,
 "nbformat_minor": 2
}
