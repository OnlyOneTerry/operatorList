{
 "cells": [
  {
   "cell_type": "code",
   "execution_count": 1,
   "metadata": {},
   "outputs": [],
   "source": [
    "import numpy as np\n",
    "import matplotlib.pyplot as plt\n",
    "from sklearn import svm"
   ]
  },
  {
   "cell_type": "code",
   "execution_count": 10,
   "metadata": {},
   "outputs": [
    {
     "name": "stdout",
     "output_type": "stream",
     "text": [
      "[-2.]\n"
     ]
    },
    {
     "data": {
      "image/png": "[encoded data removed]",
      "text/plain": [
       "<Figure size 432x288 with 1 Axes>"
      ]
     },
     "metadata": {},
     "output_type": "display_data"
    },
    {
     "name": "stdout",
     "output_type": "stream",
     "text": [
      "[ 1.   1.5 -1. ]\n"
     ]
    }
   ],
   "source": [
    "#we create 40 separate points\n",
    "np.random.seed(0)\n",
    "\n",
    "X = np.array([[3,3],[4,3],[1,1]])\n",
    "y = np.array([1,1,-1])\n",
    "\n",
    "#fit the model\n",
    "clf = svm.SVC(kernel='linear')\n",
    "clf.fit(X,y)\n",
    "\n",
    "#get the separating hyperplane\n",
    "w = clf.coef_[0]\n",
    "a = -w[0]/w[1]\n",
    "xx = np.linspace(-5,5)\n",
    "yy = a*xx -(clf.intercept_[0])/w[1]\n",
    "#plot the parallels to the separating hyperplane that pass through the support vectors\n",
    "b = clf.support_vectors_[0]\n",
    "yy_down = a*xx +(b[1]-a*b[0])\n",
    "b = clf.support_vectors_[-1]\n",
    "yy_up = a*xx +(b[1]-a*b[0])\n",
    "#plot the line,the points,and the nearest vectors to the plane\n",
    "plt.plot(xx,yy,'k-')\n",
    "plt.plot(xx,yy_down,'k--')\n",
    "\n",
    "plt.scatter(clf.support_vectors_[:,0],clf.support_vectors_[:,1],s=80,\n",
    "           facecolors='none')\n",
    "plt.scatter(X[:,0],X[:,1],c=y,cmap=plt.cm.Paired)\n",
    "\n",
    "plt.axis('tight')\n",
    "plt.show()\n",
    "\n",
    "print(clf.decision_function(X) )"
   ]
  },
  {
   "cell_type": "code",
   "execution_count": 7,
   "metadata": {},
   "outputs": [
    {
     "data": {
      "text/plain": [
       "array([0.5488135 , 0.71518937, 0.60276338, 0.54488318])"
      ]
     },
     "execution_count": 7,
     "metadata": {},
     "output_type": "execute_result"
    }
   ],
   "source": [
    "import numpy as np\n",
    "np.random.seed(0)\n",
    "np.random.rand(4)#np.random.seed(0)的作用是使得随机数据可预测，当我们设置相同的seed，每次生成的随机数相同。"
   ]
  },
  {
   "cell_type": "code",
   "execution_count": 8,
   "metadata": {},
   "outputs": [
    {
     "data": {
      "text/plain": [
       "array([0.5488135 , 0.71518937, 0.60276338, 0.54488318])"
      ]
     },
     "execution_count": 8,
     "metadata": {},
     "output_type": "execute_result"
    }
   ],
   "source": [
    "np.random.seed(0)\n",
    "np.random.rand(4)"
   ]
  },
  {
   "cell_type": "code",
   "execution_count": null,
   "metadata": {},
   "outputs": [],
   "source": []
  }
 ],
 "metadata": {
  "kernelspec": {
   "display_name": "Python 3",
   "language": "python",
   "name": "python3"
  },
  "language_info": {
   "codemirror_mode": {
    "name": "ipython",
    "version": 3
   },
   "file_extension": ".py",
   "mimetype": "text/x-python",
   "name": "python",
   "nbconvert_exporter": "python",
   "pygments_lexer": "ipython3",
   "version": "3.6.6"
  }
 },
 "nbformat": 4,
 "nbformat_minor": 2
}
