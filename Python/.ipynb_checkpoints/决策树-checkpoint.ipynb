{
 "cells": [
  {
   "cell_type": "code",
   "execution_count": 28,
   "metadata": {},
   "outputs": [],
   "source": [
    "from sklearn.feature_extraction import DictVectorizer\n",
    "from sklearn import  tree\n",
    "from sklearn import  preprocessing\n",
    "import pandas as pd\n",
    "import csv"
   ]
  },
  {
   "cell_type": "code",
   "execution_count": 52,
   "metadata": {},
   "outputs": [
    {
     "name": "stdout",
     "output_type": "stream",
     "text": [
      "['RID，age，income，student，credit_rate，class_buys_computer']\n"
     ]
    }
   ],
   "source": [
    "Dtree = open('decision.csv','r')\n",
    "reader = csv.reader(Dtree)\n",
    "headers = next(reader)\n",
    "print(headers)"
   ]
  },
  {
   "cell_type": "code",
   "execution_count": 54,
   "metadata": {},
   "outputs": [
    {
     "name": "stdout",
     "output_type": "stream",
     "text": [
      "[]\n"
     ]
    }
   ],
   "source": [
    "# 定义两个列表\n",
    "featureList=[]\n",
    "labelList=[]\n",
    "for row in reader :\n",
    "    labelList.append(row[-1])\n",
    "    rowDict={}\n",
    "    for i in range(1,len(row)-1):\n",
    "        rowDict[headers[i]]=row[i]\n",
    "        print(row[i])\n",
    "    featureList.append(rowDict)\n",
    "print(featureList)"
   ]
  },
  {
   "cell_type": "code",
   "execution_count": 55,
   "metadata": {},
   "outputs": [
    {
     "name": "stdout",
     "output_type": "stream",
     "text": [
      "2 ['1，youth，high，no，fair，no']\n",
      "3 ['2，youth，high，no，excellent，no']\n",
      "4 ['3 ，middle_age，high，no，fair，yes']\n",
      "5 ['4，senior，medium，no，fair，yes']\n",
      "6 ['5，senior，low，yes，fair，yes']\n",
      "7 ['6，senior，low，yes，excellent，no']\n",
      "8 ['7，middle_age，low，yes，excellent，yes']\n",
      "9 ['8，youth，medium，no，fair，no']\n",
      "10 ['9，youth，low，yes，fair，yes']\n",
      "11 ['10，senior，medium，yes，fair，yes']\n",
      "12 ['11，youth，medium，yes，excellent，yes']\n",
      "13 ['12，middle_age，medium，no，excellent，yes']\n",
      "14 ['13，middle_age，high，yes，fair，yes']\n",
      "15 ['14，senior，medium，no，excellent，no']\n"
     ]
    }
   ],
   "source": [
    "filename = 'decision.csv'\n",
    "# 定义两个列表\n",
    "featureList=[]\n",
    "labelList=[]\n",
    "with open(filename) as f:\n",
    "    reader = csv.reader(f)\n",
    "#读取一行，下面的reader中已经没有该行了\n",
    "    head_row = next(reader)\n",
    "    for row in reader:\n",
    "#         行号从2开始\n",
    "        print(reader.line_num,row)"
   ]
  },
  {
   "cell_type": "code",
   "execution_count": 66,
   "metadata": {},
   "outputs": [
    {
     "name": "stdout",
     "output_type": "stream",
     "text": [
      "2 ['1，youth，high，no，fair，no'] 1\n",
      "3 ['2，youth，high，no，excellent，no'] 1\n",
      "4 ['3 ，middle_age，high，no，fair，yes'] 1\n",
      "5 ['4，senior，medium，no，fair，yes'] 1\n",
      "6 ['5，senior，low，yes，fair，yes'] 1\n",
      "7 ['6，senior，low，yes，excellent，no'] 1\n",
      "8 ['7，middle_age，low，yes，excellent，yes'] 1\n",
      "9 ['8，youth，medium，no，fair，no'] 1\n",
      "10 ['9，youth，low，yes，fair，yes'] 1\n",
      "11 ['10，senior，medium，yes，fair，yes'] 1\n",
      "12 ['11，youth，medium，yes，excellent，yes'] 1\n",
      "13 ['12，middle_age，medium，no，excellent，yes'] 1\n",
      "14 ['13，middle_age，high，yes，fair，yes'] 1\n",
      "15 ['14，senior，medium，no，excellent，no'] 1\n"
     ]
    }
   ],
   "source": [
    "filename = 'decision.csv'\n",
    "# 定义两个列表\n",
    "featureList=[]\n",
    "labelList=[]\n",
    "with open(filename) as f:\n",
    "    reader = csv.reader(f)\n",
    "#读取一行，下面的reader中已经没有该行了\n",
    "    head_row = next(reader)\n",
    "    for row in reader:\n",
    "#         行号从2开始\n",
    "#          labelList.append(row[-1])\n",
    "         rowDict={}\n",
    "         for i in range(1,len(row)-1):\n",
    "            rowDict[head_row[i]]=row[i]\n",
    "    featureList.append(rowDict)"
   ]
  },
  {
   "cell_type": "code",
   "execution_count": 64,
   "metadata": {},
   "outputs": [
    {
     "name": "stdout",
     "output_type": "stream",
     "text": [
      "[{}]\n"
     ]
    }
   ],
   "source": [
    "print(featureList)"
   ]
  },
  {
   "cell_type": "code",
   "execution_count": null,
   "metadata": {},
   "outputs": [],
   "source": []
  }
 ],
 "metadata": {
  "kernelspec": {
   "display_name": "Python 3",
   "language": "python",
   "name": "python3"
  },
  "language_info": {
   "codemirror_mode": {
    "name": "ipython",
    "version": 3
   },
   "file_extension": ".py",
   "mimetype": "text/x-python",
   "name": "python",
   "nbconvert_exporter": "python",
   "pygments_lexer": "ipython3",
   "version": "3.6.6"
  }
 },
 "nbformat": 4,
 "nbformat_minor": 2
}
