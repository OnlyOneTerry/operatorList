{
 "cells": [
  {
   "cell_type": "code",
   "execution_count": 15,
   "metadata": {},
   "outputs": [
    {
     "name": "stdout",
     "output_type": "stream",
     "text": [
      "[1.         0.93333333 1.         0.93333333 0.93333333 0.86666667\n",
      " 0.93333333 1.         1.         1.        ]\n"
     ]
    }
   ],
   "source": [
    "from sklearn.model_selection import cross_val_score\n",
    "from sklearn.tree import DecisionTreeClassifier\n",
    "from sklearn.datasets import load_iris\n",
    "import pandas as pd\n",
    "clf = DecisionTreeClassifier(random_state = 0)\n",
    "iris =  load_iris()\n",
    "model = clf.fit(iris.data,iris.target)\n",
    "predicted = model.predict(iris.data)\n",
    "score = cross_val_score(clf,iris.data,iris.target,cv=10)\n",
    "print(score)"
   ]
  },
  {
   "cell_type": "code",
   "execution_count": 17,
   "metadata": {},
   "outputs": [],
   "source": [
    "from sklearn.cluster import  KMeans\n",
    "X = iris.data\n",
    "y = iris.target\n",
    "\n",
    "clf = KMeans(n_clusters = 3)\n",
    "model = clf.fit(X)\n",
    "\n",
    "predicted = model.predict(X)"
   ]
  },
  {
   "cell_type": "code",
   "execution_count": 32,
   "metadata": {},
   "outputs": [
    {
     "ename": "SyntaxError",
     "evalue": "unexpected EOF while parsing (<ipython-input-32-11d74d7aaa66>, line 18)",
     "output_type": "error",
     "traceback": [
      "\u001b[1;36m  File \u001b[1;32m\"<ipython-input-32-11d74d7aaa66>\"\u001b[1;36m, line \u001b[1;32m18\u001b[0m\n\u001b[1;33m    for name,est in estimators.items():\u001b[0m\n\u001b[1;37m                                       ^\u001b[0m\n\u001b[1;31mSyntaxError\u001b[0m\u001b[1;31m:\u001b[0m unexpected EOF while parsing\n"
     ]
    }
   ],
   "source": [
    "import numpy as np\n",
    "import matplotlib.pyplot as plt\n",
    "from mpl_toolkits.mplot3d import  Axes3D\n",
    "from sklearn.cluster import  KMeans\n",
    "from sklearn import  datasets\n",
    "\n",
    "np.random.seed(5)\n",
    "centers = [[1,1],[-1,-1],[1,-1]]\n",
    "iris = datasets.load_iris()\n",
    "X = iris.data\n",
    "y = iris.target\n",
    "\n",
    "estimators = {'k_means_iris_3':KMeans(n_clusters=3),\n",
    "             'k_means_iris_8':KMeans(n_clusters=8),\n",
    "             'k_means_iris_bad_init':KMeans(n_clusters=3,n_init=1,init='random')}\n",
    "\n",
    "fignum = 1\n",
    "for name,est in estimators.items():\n",
    "        fig = plt.figure(fignum,figsize=(4,3))\n",
    "        plt.clf()\n"
   ]
  },
  {
   "cell_type": "code",
   "execution_count": 28,
   "metadata": {},
   "outputs": [
    {
     "name": "stdout",
     "output_type": "stream",
     "text": [
      "[2 9 6 4 0 3 1 7 8 5]\n",
      "[2 9 6 4 0 3 1 7 8 5]\n",
      "[2 9 6 4 0 3 1 7 8 5]\n",
      "[2 9 6 4 0 3 1 7 8 5]\n",
      "[2 9 6 4 0 3 1 7 8 5]\n"
     ]
    }
   ],
   "source": [
    "import numpy as np\n",
    "for i in range(5):\n",
    "    np.random.seed(1)\n",
    "    perm  = np.random.permutation(10)\n",
    "    print(perm)"
   ]
  },
  {
   "cell_type": "code",
   "execution_count": null,
   "metadata": {},
   "outputs": [],
   "source": []
  },
  {
   "cell_type": "code",
   "execution_count": null,
   "metadata": {},
   "outputs": [],
   "source": []
  }
 ],
 "metadata": {
  "kernelspec": {
   "display_name": "Python 3",
   "language": "python",
   "name": "python3"
  },
  "language_info": {
   "codemirror_mode": {
    "name": "ipython",
    "version": 3
   },
   "file_extension": ".py",
   "mimetype": "text/x-python",
   "name": "python",
   "nbconvert_exporter": "python",
   "pygments_lexer": "ipython3",
   "version": "3.6.6"
  }
 },
 "nbformat": 4,
 "nbformat_minor": 2
}
