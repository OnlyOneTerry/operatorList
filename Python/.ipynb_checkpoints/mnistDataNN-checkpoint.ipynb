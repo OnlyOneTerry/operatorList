{
 "cells": [
  {
   "cell_type": "code",
   "execution_count": 3,
   "metadata": {},
   "outputs": [
    {
     "name": "stdout",
     "output_type": "stream",
     "text": [
      "Extracting MNIST_data/train-images-idx3-ubyte.gz\n",
      "Extracting MNIST_data/train-labels-idx1-ubyte.gz\n",
      "Extracting MNIST_data/t10k-images-idx3-ubyte.gz\n",
      "Extracting MNIST_data/t10k-labels-idx1-ubyte.gz\n"
     ]
    }
   ],
   "source": [
    "import tensorflow as tf\n",
    "import tensorflow.examples.tutorials.mnist.input_data as input_data\n",
    "mnist = input_data.read_data_sets(\"MNIST_data/\", one_hot=True)\n"
   ]
  },
  {
   "cell_type": "code",
   "execution_count": 28,
   "metadata": {},
   "outputs": [
    {
     "name": "stdout",
     "output_type": "stream",
     "text": [
      "Iter 0,Testing Accuracy 0.8349\n",
      "Iter 1,Testing Accuracy 0.8949\n",
      "Iter 2,Testing Accuracy 0.9024\n",
      "Iter 3,Testing Accuracy 0.9061\n",
      "Iter 4,Testing Accuracy 0.9087\n",
      "Iter 5,Testing Accuracy 0.9109\n",
      "Iter 6,Testing Accuracy 0.9116\n",
      "Iter 7,Testing Accuracy 0.9148\n",
      "Iter 8,Testing Accuracy 0.9166\n",
      "Iter 9,Testing Accuracy 0.9165\n",
      "Iter 10,Testing Accuracy 0.918\n",
      "Iter 11,Testing Accuracy 0.9179\n",
      "Iter 12,Testing Accuracy 0.9194\n",
      "Iter 13,Testing Accuracy 0.9184\n",
      "Iter 14,Testing Accuracy 0.9197\n",
      "Iter 15,Testing Accuracy 0.9202\n",
      "Iter 16,Testing Accuracy 0.9207\n",
      "Iter 17,Testing Accuracy 0.922\n",
      "Iter 18,Testing Accuracy 0.9225\n",
      "Iter 19,Testing Accuracy 0.9209\n",
      "Iter 20,Testing Accuracy 0.922\n"
     ]
    }
   ],
   "source": [
    "#每个批次的大小\n",
    "batch_size = 100\n",
    "#计算一共有多少个批次\n",
    "n_batch = mnist.train.num_examples // batch_size\n",
    "\n",
    "#定义两个placeholder\n",
    "x = tf.placeholder(tf.float32,[None,784])#28*28大小的图片，展开一行784像素大小数组，行数不确定\n",
    "y = tf.placeholder(tf.float32,[None,10])#one-hot ,得到的结果是one-hot格式，大小为10的数组，行数不确定\n",
    "\n",
    "#创建一个简单的神经网络\n",
    "W = tf.Variable(tf.zeros([784,10]))\n",
    "b = tf.Variable(tf.zeros([10]))\n",
    "prediction = tf.nn.softmax(tf.matmul(x,W)+b)\n",
    "#二次代价函数\n",
    "# loss = tf.reduce_mean(tf.square(y-prediction))\n",
    "loss = tf.reduce_mean(tf.nn.softmax_cross_entropy_with_logits(labels=y,logits=prediction));#交叉熵的方式\n",
    "#使用梯度下降法\n",
    "train_step = tf.train.GradientDescentOptimizer(0.2).minimize(loss)\n",
    "#初始化变量\n",
    "init = tf.global_variables_initializer()\n",
    "\n",
    "#结果存放在一个布尔型列表中\n",
    "correct_prediction = tf.equal(tf.argmax(y,1),tf.argmax(prediction,1))#argmax返回一维张量中最大的值所在的位置\n",
    "#求准确率\n",
    "accuracy = tf.reduce_mean(tf.cast(correct_prediction,tf.float32))\n",
    "\n",
    "with tf.Session() as sess:\n",
    "    sess.run(init)\n",
    "    for epoch in range(21):\n",
    "        for batch in range(n_batch):\n",
    "            batch_xs,batch_ys =  mnist.train.next_batch(batch_size)\n",
    "            sess.run(train_step,feed_dict={x:batch_xs,y:batch_ys})\n",
    "        \n",
    "        acc = sess.run(accuracy,feed_dict={x:mnist.test.images,y:mnist.test.labels})\n",
    "        print(\"Iter \" + str(epoch) + \",Testing Accuracy \" + str(acc))\n",
    "\n",
    "\n",
    "\n"
   ]
  },
  {
   "cell_type": "code",
   "execution_count": 24,
   "metadata": {},
   "outputs": [
    {
     "name": "stdout",
     "output_type": "stream",
     "text": [
      "[2 2 2 1]\n"
     ]
    }
   ],
   "source": [
    "import numpy as np\n",
    "a = np.array([[1,5,5,2],\n",
    "             [1,6,2,8],\n",
    "             [3,7,9,1]])\n",
    "print(np.argmax(a,axis=0))#argmax（数据，axis） 返回最大值索引,axis =0 表示按列中最大值的索引，axis=1 表示按行中最大值的索引"
   ]
  },
  {
   "cell_type": "code",
   "execution_count": 23,
   "metadata": {},
   "outputs": [
    {
     "name": "stdout",
     "output_type": "stream",
     "text": [
      "1.5\n"
     ]
    }
   ],
   "source": [
    "import tensorflow as tf\n",
    "x = tf.constant([[1.,1.],\n",
    "                 [2.,2.]])\n",
    "m = tf.reduce_mean(x)\n",
    "\n",
    "with tf.Session() as sess:\n",
    "    sess.run(tf.global_variables_initializer())\n",
    "    print(sess.run(m))"
   ]
  },
  {
   "cell_type": "code",
   "execution_count": 26,
   "metadata": {},
   "outputs": [
    {
     "name": "stdout",
     "output_type": "stream",
     "text": [
      "[ True False False  True  True]\n"
     ]
    }
   ],
   "source": [
    "import tensorflow as tf\n",
    "a = tf.Variable([1,0,0,1,1])\n",
    "b = tf.cast(a,dtype=tf.bool)\n",
    "sess = tf.Session()\n",
    "sess.run(tf.global_variables_initializer())\n",
    "print(sess.run(b))"
   ]
  },
  {
   "cell_type": "code",
   "execution_count": null,
   "metadata": {},
   "outputs": [],
   "source": [
    "# 二次代价函数\n",
    "Iter 0,Testing Accuracy 0.8358\n",
    "Iter 1,Testing Accuracy 0.8707\n",
    "Iter 2,Testing Accuracy 0.882\n",
    "Iter 3,Testing Accuracy 0.8877\n",
    "Iter 4,Testing Accuracy 0.8945\n",
    "Iter 5,Testing Accuracy 0.8968\n",
    "Iter 6,Testing Accuracy 0.8997\n",
    "Iter 7,Testing Accuracy 0.9012\n",
    "Iter 8,Testing Accuracy 0.9033\n",
    "Iter 9,Testing Accuracy 0.9052\n",
    "Iter 10,Testing Accuracy 0.9063\n",
    "Iter 11,Testing Accuracy 0.9073\n",
    "Iter 12,Testing Accuracy 0.9083\n",
    "Iter 13,Testing Accuracy 0.9093\n",
    "Iter 14,Testing Accuracy 0.9099\n",
    "Iter 15,Testing Accuracy 0.9104\n",
    "Iter 16,Testing Accuracy 0.9119\n",
    "Iter 17,Testing Accuracy 0.9126\n",
    "Iter 18,Testing Accuracy 0.9128\n",
    "Iter 19,Testing Accuracy 0.9135\n",
    "Iter 20,Testing Accuracy 0.9139\n",
    "# 交叉熵\n",
    "Iter 0,Testing Accuracy 0.8349\n",
    "Iter 1,Testing Accuracy 0.8949\n",
    "Iter 2,Testing Accuracy 0.9024\n",
    "Iter 3,Testing Accuracy 0.9061\n",
    "Iter 4,Testing Accuracy 0.9087\n",
    "Iter 5,Testing Accuracy 0.9109\n",
    "Iter 6,Testing Accuracy 0.9116\n",
    "Iter 7,Testing Accuracy 0.9148\n",
    "Iter 8,Testing Accuracy 0.9166\n",
    "Iter 9,Testing Accuracy 0.9165\n",
    "Iter 10,Testing Accuracy 0.918\n",
    "Iter 11,Testing Accuracy 0.9179\n",
    "Iter 12,Testing Accuracy 0.9194\n",
    "Iter 13,Testing Accuracy 0.9184\n",
    "Iter 14,Testing Accuracy 0.9197\n",
    "Iter 15,Testing Accuracy 0.9202\n",
    "Iter 16,Testing Accuracy 0.9207\n",
    "Iter 17,Testing Accuracy 0.922\n",
    "Iter 18,Testing Accuracy 0.9225\n",
    "Iter 19,Testing Accuracy 0.9209\n",
    "Iter 20,Testing Accuracy 0.922"
   ]
  }
 ],
 "metadata": {
  "kernelspec": {
   "display_name": "Python 3",
   "language": "python",
   "name": "python3"
  },
  "language_info": {
   "codemirror_mode": {
    "name": "ipython",
    "version": 3
   },
   "file_extension": ".py",
   "mimetype": "text/x-python",
   "name": "python",
   "nbconvert_exporter": "python",
   "pygments_lexer": "ipython3",
   "version": "3.6.6"
  }
 },
 "nbformat": 4,
 "nbformat_minor": 2
}
