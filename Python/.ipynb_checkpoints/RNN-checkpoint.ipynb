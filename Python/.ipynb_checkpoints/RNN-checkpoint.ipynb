{
 "cells": [
  {
   "cell_type": "code",
   "execution_count": 1,
   "metadata": {},
   "outputs": [],
   "source": [
    "import tensorflow as tf\n",
    "import numpy as np"
   ]
  },
  {
   "cell_type": "code",
   "execution_count": 5,
   "metadata": {},
   "outputs": [],
   "source": [
    "int2binary ={}#int2binary[3]=[0,0,0,0,0,0,1,1]\n",
    "binary_dim = 8\n",
    "\n",
    "largest_number = pow(2,binary_dim)\n",
    "\n",
    "binary = np.unpackbits(\n",
    "           np.array([range(largest_number)],dtype=np.uint8).T,axis = 1)\n",
    "#建立字典\n",
    "for i in range(largest_number):\n",
    "    int2binary[i] = binary[i]\n",
    "    \n",
    "def binary_generation(numbers,reverse = False):\n",
    "    binary_x = np.array([int2binary[num] for num in numbers],dtype=np.uint8)\n",
    "    \n",
    "    if reverse:\n",
    "        binary_x = np.fliplr(binary_x)\n",
    "    return binary_x\n",
    "\n",
    "def batch_generation(batch_size,largest_number):\n",
    "#     随机生成batch_size 个数\n",
    "        n1 = np.random.randint(0,largest_number//2,batch_size)\n",
    "        n2 = np.random.randint(0,largest_number//2,batch_size)\n",
    "        add = n1 + n2\n",
    "        \n",
    "        binary_n1 = binary_generation(n1,True)\n",
    "        binary_n2 = binary_generation(n2,True)\n",
    "        binary_n3 = binary_generation(add,True)\n",
    "        batch_y = binary_generation(add,True)\n",
    "        \n",
    "        batch_x = np.dstack((binary_n1,binary_n2))\n",
    "        return batch_x,batch_y,n1,n2,add\n",
    "\n",
    "def binary2int(binary_array):\n",
    "    out = 0\n",
    "    for index,x in enumerate(reversed(binary_array)):\n",
    "        out += x*pow(2,index)\n",
    "    return out"
   ]
  },
  {
   "cell_type": "code",
   "execution_count": 6,
   "metadata": {},
   "outputs": [],
   "source": [
    "batch_size  = 64\n",
    "lstm_size = 20\n",
    "lstm_layers = 2"
   ]
  },
  {
   "cell_type": "code",
   "execution_count": 7,
   "metadata": {},
   "outputs": [],
   "source": [
    "x = tf.placeholder(tf.float32,[None,binary_dim,2],name='input_x')\n",
    "\n",
    "y_ = tf.placeholder(tf.float32,[None,binary_dim],name='input_y')\n",
    "\n",
    "keep_prob = tf.placeholder(tf.float32,name='keep_prob')"
   ]
  },
  {
   "cell_type": "code",
   "execution_count": 9,
   "metadata": {},
   "outputs": [],
   "source": [
    "#建立模型\n",
    "lstm = tf.contrib.rnn.BasicLSTMCell(lstm_size)\n",
    "\n",
    "drop = tf.contrib.rnn.DropoutWrapper(lstm,output_keep_prob=keep_prob)\n",
    "\n",
    "def lstm_cell():\n",
    "    return tf.contrib.rnn.BasicLSTMCell(lstm_size)\n",
    "cell = tf.contrib.rnn.MultiRNNCell([lstm_cell() for _ in range(lstm_layers)])\n",
    "\n",
    "initial_state = cell.zero_state(batch_size,tf.float32)\n",
    "\n",
    "outputs, final_state = tf.nn.dynamic_rnn(cell,x,initial_state=initial_state)\n",
    "\n",
    "# build output layer\n",
    "weights  = tf.Variable(tf.truncated_normal([lstm_size,1],stddev=0.01))\n",
    "bias = tf.zeros([1])\n",
    "\n",
    "outputs = tf.reshape(outputs,[-1,lstm_size])\n",
    "\n",
    "logits = tf.sigmoid(tf.matmul(outputs,weights))\n",
    "\n",
    "predictions = tf.reshape(logits,[-1,binary_dim])\n"
   ]
  },
  {
   "cell_type": "code",
   "execution_count": null,
   "metadata": {},
   "outputs": [],
   "source": []
  }
 ],
 "metadata": {
  "kernelspec": {
   "display_name": "Python 3",
   "language": "python",
   "name": "python3"
  },
  "language_info": {
   "codemirror_mode": {
    "name": "ipython",
    "version": 3
   },
   "file_extension": ".py",
   "mimetype": "text/x-python",
   "name": "python",
   "nbconvert_exporter": "python",
   "pygments_lexer": "ipython3",
   "version": "3.6.6"
  }
 },
 "nbformat": 4,
 "nbformat_minor": 2
}
