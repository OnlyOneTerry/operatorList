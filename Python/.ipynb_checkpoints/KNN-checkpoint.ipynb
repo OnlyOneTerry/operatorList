{
 "cells": [
  {
   "cell_type": "code",
   "execution_count": 12,
   "metadata": {},
   "outputs": [
    {
     "name": "stdout",
     "output_type": "stream",
     "text": [
      "distances: [106.06601718  96.87620967  36.01388621  46.01086828]\n",
      "sortDistance: [2 3 1 0]\n",
      "第%d个voteLabel=%s 0 爱情片\n",
      "第%d个voteLabel=%s 1 爱情片\n",
      "第%d个voteLabel=%s 2 动作片\n",
      "sortedClassCount: [('爱情片', 2), ('动作片', 1)]\n"
     ]
    }
   ],
   "source": [
    "import numpy as np\n",
    "import operator\n",
    "\n",
    "def createDataset():\n",
    "#     四组二维特征\n",
    "    group = np.array([[5,115],[7,106],[56,11],[66,9]])\n",
    "#   四组对应标签\n",
    "    labels = ('动作片','动作片','爱情片','爱情片')\n",
    "    return group,labels\n",
    "\n",
    "def classify(intX,dataSet,labels,k):\n",
    "#     numpy中shape[0]返回数组的行数，shape[1]返回列数\n",
    "    dataSetSize = dataSet.shape[0]\n",
    "#   将intX在横向重复dataSetSize次，纵向重复1次\n",
    "#   例如 intX = {[1,2]---->{[[1,2],[1,2],[1,2],[1,2]]}}\n",
    "    diffMat = np.tile(intX,(dataSetSize,1))-dataSet\n",
    "# 二维特征相减后乘方\n",
    "    sqdifMax = diffMat**2\n",
    "# 计算距离\n",
    "    seqDistance = sqdifMax.sum(axis = 1)\n",
    "    distance = seqDistance**0.5\n",
    "    print(\"distances:\",distance)\n",
    "#  返回distance中元素从小到大排序后的索引\n",
    "    sortDistance = distance.argsort()\n",
    "    print(\"sortDistance:\",sortDistance)\n",
    "    classCount = {}\n",
    "    for i in range(k):\n",
    "#         取出前k个元素的类别\n",
    "        voteLabel = labels[sortDistance[i]]\n",
    "        print(\"第%d个voteLabel=%s\",i,voteLabel)\n",
    "        classCount[voteLabel] = classCount.get(voteLabel,0)+1\n",
    "#         dict.get(key,default=None),字典的get()方法，返回指定键的值，如果值不在字典中返回默认值\n",
    "# 计算类别次数\n",
    "# key = operator.itemgetter(1)根据字典的值进行排序\n",
    "# key  = operator.itemgetter(0)根据字典的键进行排序\n",
    "# reverse降序排序字典\n",
    "    sortedClassCount = sorted(classCount.items(),key = operator.itemgetter(1),reverse=True)\n",
    "# 结果sortedClassCount = [('动作片'，2)，（‘爱情片’，1）]\n",
    "    print('sortedClassCount:',sortedClassCount)\n",
    "    return sortedClassCount[0][0]\n",
    "\n",
    "if __name__ == '__main__':\n",
    "    group,labels = createDataset()\n",
    "    test = [20,10]\n",
    "    test_class = classify(test,group,labels,3)"
   ]
  },
  {
   "cell_type": "code",
   "execution_count": 19,
   "metadata": {},
   "outputs": [
    {
     "name": "stdout",
     "output_type": "stream",
     "text": [
      "range(1, 3)\n"
     ]
    },
    {
     "data": {
      "text/plain": [
       "array([1, 2, 1, 2, 1, 2])"
      ]
     },
     "execution_count": 19,
     "metadata": {},
     "output_type": "execute_result"
    }
   ],
   "source": [
    "import numpy as np\n",
    "import operator\n",
    "\n",
    "a = range(1,3)\n",
    "print (a)\n",
    "\n",
    "np.tile(a,3)\n",
    "\n",
    "# np.tile(a,3).shape"
   ]
  },
  {
   "cell_type": "code",
   "execution_count": 25,
   "metadata": {},
   "outputs": [
    {
     "data": {
      "text/plain": [
       "2"
      ]
     },
     "execution_count": 25,
     "metadata": {},
     "output_type": "execute_result"
    }
   ],
   "source": [
    "dict = {'a':1,'b':2}\n",
    "del dict['a']\n",
    "dict['b']"
   ]
  },
  {
   "cell_type": "code",
   "execution_count": 30,
   "metadata": {},
   "outputs": [
    {
     "name": "stdout",
     "output_type": "stream",
     "text": [
      "[[1 2 3]\n",
      " [4 5 6]\n",
      " [7 8 9]]\n"
     ]
    }
   ],
   "source": [
    "import numpy as np\n",
    "A = np.array([[1,2,3],[4,5,6],[7,8,9]])\n",
    "print (A)"
   ]
  },
  {
   "cell_type": "code",
   "execution_count": 36,
   "metadata": {},
   "outputs": [
    {
     "name": "stdout",
     "output_type": "stream",
     "text": [
      "[[ 30  36  42]\n",
      " [ 66  81  96]\n",
      " [102 126 150]]\n"
     ]
    }
   ],
   "source": [
    "A**2\n",
    "M = np.mat(A)\n",
    "Ma = M**2\n",
    "print (Ma)"
   ]
  },
  {
   "cell_type": "code",
   "execution_count": 38,
   "metadata": {},
   "outputs": [],
   "source": [
    "# 读取数据，获取数据集合标签\n",
    "import numpy as np\n",
    "\n",
    "def file2matrix(filename):\n",
    "    fr = open(filename)\n",
    "    arraylines = fr.readlines()\n",
    "#     获取行数\n",
    "    numberoflines = len(arraylines)\n",
    "#     返回numpy的数据矩阵，目前矩阵数据为0\n",
    "    returnMat = np.zeros([numberoflines,3])\n",
    "#     返回分类标签\n",
    "    classLabelVector = []\n",
    "#     行的索引\n",
    "    index = 0\n",
    "    for line in arraylines:\n",
    "         line = line.strip()\n",
    "         listFromLine  = line.split('\\t')\n",
    "#   取出前三列数据存放到returnMat\n",
    "    returnMat[index,:] = listFromLine[0:3]\n",
    "#   根据文本中标记的喜欢程度进行分类\n",
    "    if listFromLine[-1] == \"didntLike\":\n",
    "        classLabelVector.append(1)\n",
    "    else if listFromLine[-1]==\"smallDoses\":\n",
    "        classLabelVector.append(2)\n",
    "    else:\n",
    "        classLabelVector.append(3)\n",
    "    index +=1\n",
    "return  returnMat,classLabelVector"
   ]
  },
  {
   "cell_type": "code",
   "execution_count": 39,
   "metadata": {},
   "outputs": [
    {
     "ename": "SyntaxError",
     "evalue": "invalid syntax (<ipython-input-39-05617053ef2e>, line 9)",
     "output_type": "error",
     "traceback": [
      "\u001b[1;36m  File \u001b[1;32m\"<ipython-input-39-05617053ef2e>\"\u001b[1;36m, line \u001b[1;32m9\u001b[0m\n\u001b[1;33m    fig,axs =\u001b[0m\n\u001b[1;37m              ^\u001b[0m\n\u001b[1;31mSyntaxError\u001b[0m\u001b[1;31m:\u001b[0m invalid syntax\n"
     ]
    }
   ],
   "source": [
    "from matplotlib.font_manager import FontProperties\n",
    "import numpy as np\n",
    "import matplotlib.pyplot as plt\n",
    "from prepareData_1 import  file2matrix\n",
    "import matplotlib.lines as mlines\n",
    "\n",
    "def showDatas(datingdataMat,datingLabels):\n",
    "    font = FontProperties(fname=r\"D:\\sample.txt\",size = 14)\n",
    "    fig,axs = plt.subplots(nrow=2,ncols=2,sharex=False,sharey=False,figsize=(13,8))\n",
    "    numberofLabels = len(datingLabels)\n",
    "    LabelColors = []\n",
    "    for i in datingLabels:\n",
    "        if i == 1:\n",
    "            LabelColors.append('black')\n",
    "        if i == 2:\n",
    "            LabelColors.append('orange')\n",
    "        if i == 3\n",
    "            LabelColors.append('red')\n",
    "    #画散点图，以数据矩阵的第一列（飞行常客历程）、第二列（玩游戏）数据话散点图\n",
    "31  #散点大小为15 透明度为0.5  \n",
    "    axs[0][0].sctter(x=datingdataMat[:,0],y=datingdataMat[:,1],color=LabelColors,s=1,alpha=0.5)\n",
    "    axs0_title_text = axs[0][0].set_title(u\"每年获得的飞行里程数与玩视频游戏消耗时间占比\",FontProperties=font)\n",
    "    axs0_xlabel_text = axs[0][0].set_xlabel(\"每年获得的飞行常客里程数\",FontProperties=font)\n",
    "    axs0_ylabel_text = axs[0][0].set_ylabel(\"玩游戏消耗的时间\",FontProperties = font)\n",
    "    plt.setp(axs0_title_text,size = 9,weight='bold',color = 'red')\n",
    "#     画散点图，以数据矩阵的第二列(飞行常客历程），第三列（冰激凌公斤数）数据画散点图\n",
    "#     散点大小为15 透明度为0.5\n",
    "    axs[0][1].sctter(x=datingdataMat[:,0],y=datingdataMat[:,2],color = LabelColors,s=15,alpha = 0.5)\n",
    "    axs0_title_text = axs[0][0].set_title(u\"每年获得的飞行里程数与冰激凌公斤数占比\",FontProperties=font)\n",
    "    axs0_xlabel_text = axs[0][0].set_xlabel(\"每年获得的飞行常客里程数\",FontProperties=font)\n",
    "    axs0_ylabel_text = axs[0][0].set_ylabel(\"冰激凌公斤数\",FontProperties = font)\n",
    "    plt.setp(axs0_title_text,size = 9,weight='bold',color = 'red')\n",
    "   #画散点图，以数据矩阵的第二列（玩游戏）、第三列（冰激淋公斤数）数据话散点图\n",
    "   #散点大小为15 透明度为0.5\n",
    "    axs[1][0].scatter(x=datingDataMat[:,1],y=datingDataMat[:,2],color=LabelColors,s=15,alpha=0.5)\n",
    "    axs0_title_text=axs[0][0].set_title(\"玩游戏时间与冰激淋公斤数占比\",FontProperties=font)\n",
    "    axs0_xlabel_text=axs[0][0].set_xlabel(\"每年获得的飞行常客里程数\",FontProperties=font)\n",
    "    axs0_ylabel_text=axs[0][0].set_ylabel(\"所吃冰激淋公斤数\",FontProperties=font)\n",
    "    plt.setp(axs0_title_text,size=9,weight='bold',color='red')\n",
    "#   设置图例\n",
    "    didntLike = mlines.Line2D([],[],color='black',marker='.',makersize=6,label='didntlike')\n",
    "    smallDose = mlines.Line2D([],[],color='orange',marker='.',makersize=6,label='smallDose')\n",
    "\n"
   ]
  },
  {
   "cell_type": "code",
   "execution_count": null,
   "metadata": {},
   "outputs": [],
   "source": []
  }
 ],
 "metadata": {
  "kernelspec": {
   "display_name": "Python 3",
   "language": "python",
   "name": "python3"
  },
  "language_info": {
   "codemirror_mode": {
    "name": "ipython",
    "version": 3
   },
   "file_extension": ".py",
   "mimetype": "text/x-python",
   "name": "python",
   "nbconvert_exporter": "python",
   "pygments_lexer": "ipython3",
   "version": "3.6.6"
  }
 },
 "nbformat": 4,
 "nbformat_minor": 2
}
