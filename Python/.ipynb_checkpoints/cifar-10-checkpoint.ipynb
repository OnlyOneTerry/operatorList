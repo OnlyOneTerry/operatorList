{
 "cells": [
  {
   "cell_type": "code",
   "execution_count": 1,
   "metadata": {},
   "outputs": [
    {
     "name": "stdout",
     "output_type": "stream",
     "text": [
      "['batches.meta', 'data_batch_1', 'data_batch_2', 'data_batch_3', 'data_batch_4', 'data_batch_5', 'readme.html', 'test_batch']\n"
     ]
    }
   ],
   "source": [
    "import pickle\n",
    "import numpy as np\n",
    "import os\n",
    "import matplotlib.pyplot as plt\n",
    "\n",
    "CIFAR_DIR = \"./cifar-10-batches-py\"\n",
    "print(os.listdir(CIFAR_DIR))"
   ]
  },
  {
   "cell_type": "code",
   "execution_count": 2,
   "metadata": {},
   "outputs": [
    {
     "name": "stdout",
     "output_type": "stream",
     "text": [
      "<class 'dict'>\n",
      "dict_keys([b'batch_label', b'labels', b'data', b'filenames'])\n"
     ]
    },
    {
     "data": {
      "image/png": "[encoded data removed]",
      "text/plain": [
       "<Figure size 432x288 with 1 Axes>"
      ]
     },
     "metadata": {},
     "output_type": "display_data"
    }
   ],
   "source": [
    "with open(os.path.join(CIFAR_DIR,\"data_batch_1\"),'rb') as f:\n",
    "    data1 = pickle.load(f,encoding='bytes')\n",
    "    print(type(data1))\n",
    "    print(data1.keys())\n",
    "    image_arr = data1[b'data'][100]\n",
    "#     解析三通道\n",
    "    image_arr = image_arr.reshape((3,32,32))#32 32 3\n",
    "# 通道交换\n",
    "    image_arr = image_arr.transpose((1,2,0))\n",
    "\n",
    "    %matplotlib inline\n",
    "    plt.imshow(image_arr)"
   ]
  },
  {
   "cell_type": "code",
   "execution_count": 3,
   "metadata": {},
   "outputs": [
    {
     "name": "stdout",
     "output_type": "stream",
     "text": [
      "['batches.meta', 'data_batch_1', 'data_batch_2', 'data_batch_3', 'data_batch_4', 'data_batch_5', 'readme.html', 'test_batch']\n"
     ]
    }
   ],
   "source": [
    "import tensorflow as tf\n",
    "import os\n",
    "import pickle \n",
    "import numpy as np\n",
    "\n",
    "CIFAR_DIR = \"./cifar-10-batches-py\"\n",
    "print(os.listdir(CIFAR_DIR))"
   ]
  },
  {
   "cell_type": "code",
   "execution_count": 4,
   "metadata": {},
   "outputs": [],
   "source": [
    "def load_data(filename):\n",
    "         with open(filename,'rb') as f:\n",
    "            data = pickle.load(f,encoding=\"bytes\")\n",
    "            return data[b'data'],data[b'labels']\n",
    "        \n",
    "class CifarData:\n",
    "     def __init__(self,filenames,need_shuffle):\n",
    "            all_data = []\n",
    "            all_labels = []\n",
    "            for filename in filenames:\n",
    "                data,labels = load_data(filename)\n",
    "                for item,label in zip(data,labels):\n",
    "                    if label in [0,1]:\n",
    "                        all_data.append(item)\n",
    "                        all_labels.append(label)\n",
    "            self._data = np.vstack(all_data)\n",
    "            self._labels = np.hstack(all_labels)\n",
    "            self._num_examples = self._data.shape[0]\n",
    "            self._need_shuffle = need_shuffle\n",
    "            self._indicator = 0\n",
    "            if self._need_shuffle:\n",
    "                 self._shuffle_data()\n",
    "                    \n",
    "     def _shuffle_data(self):\n",
    "             p = np.random.permutation(self._num_examples)\n",
    "             self._data = self._data[p]\n",
    "             self._labels = self._labels[p]\n",
    "            \n",
    "     def next_batch(self,batch_size):\n",
    "        end_indicator = self._indicator + batch_size\n",
    "        if end_indicator > self._num_examples:\n",
    "            if self._need_shuffle:\n",
    "                self._shuffle_data()\n",
    "                self._indicator = 0\n",
    "                end_indicator = batch_size\n",
    "            else:\n",
    "                raise Exception(\"have no more examples\")\n",
    "        if end_indicator > self._num_examples:\n",
    "            raise Exception(\"batch size is larger than all examples\")\n",
    "        batch_data = self._data[self._indicator:end_indicator]\n",
    "        batch_labels = self._labels[self._indicator:end_indicator]\n",
    "        self._indicator = end_indicator\n",
    "        return batch_data,batch_labels\n",
    "\n"
   ]
  },
  {
   "cell_type": "code",
   "execution_count": 5,
   "metadata": {},
   "outputs": [],
   "source": [
    "#计算图\n",
    "\n",
    "x = tf.placeholder(tf.float32,[None,3072])\n",
    "y = tf.placeholder(tf.int64,[None])\n",
    "\n",
    "w = tf.get_variable('w',[x.get_shape()[-1],1],\n",
    "initializer = tf.random_normal_initializer(0,1))\n",
    "\n",
    "#(1,)\n",
    "b = tf.get_variable('b',[1],\n",
    "initializer = tf.constant_initializer(0.0))\n",
    "\n",
    "y_=tf.matmul(x,w)+b\n",
    "\n",
    "p_y_1 = tf.nn.sigmoid(y_) #变成概率值二分类\n",
    "y_reshaped = tf.reshape(y,(-1,1))#将结果值变为一列\n",
    "y_reshaped_float = tf.cast(y_reshaped,tf.float32)\n",
    "loss = tf.reduce_mean(tf.square(y_reshaped_float - p_y_1))\n",
    "predict = p_y_1 > 0.5\n",
    "correct_prediction = tf.equal(tf.cast(predict,tf.int64),y_reshaped)\n",
    "accuracy = tf.reduce_mean(tf.cast(correct_prediction,tf.float64))\n",
    "with tf.name_scope('train'):\n",
    "      train_op = tf.train.AdadeltaOptimizer(1e-3).minimize(loss)\n",
    "        \n",
    "train_filenames = [os.path.join(CIFAR_DIR,'data_batch_%d'% i) for i in range(1,6)]\n",
    "test_data_filenames = [os.path.join(CIFAR_DIR,'test_batch')]\n",
    "train_data = CifarData(train_filenames,True)\n",
    "test_data = CifarData(test_data_filenames,False)"
   ]
  },
  {
   "cell_type": "code",
   "execution_count": 8,
   "metadata": {},
   "outputs": [
    {
     "name": "stdout",
     "output_type": "stream",
     "text": [
      "[Train] Step:500,loss:0.35000,acc:0.65000\n",
      "[Train] Step:1000,loss:0.45000,acc:0.55000\n"
     ]
    }
   ],
   "source": [
    "init = tf.global_variables_initializer()\n",
    "batch_size = 20\n",
    "train_steps = 100000\n",
    "\n",
    "test_steps = 100\n",
    "\n",
    "with tf.Session() as sess:\n",
    "    sess.run(init)\n",
    "    for i in range(train_steps):\n",
    "        batch_data,batch_labels = train_data.next_batch(batch_size)\n",
    "        loss_val,acc_val,_=sess.run(\n",
    "            [loss,accuracy,train_op],\n",
    "            feed_dict={\n",
    "                x:batch_data,\n",
    "                y:batch_labels\n",
    "            }\n",
    "        )\n",
    "        if (i+1)%500==0:\n",
    "            print('[Train] Step:%d,loss:%4.5f,acc:%4.5f'\\\n",
    "                 %(i+1,loss_val,acc_val))\n",
    "        "
   ]
  },
  {
   "cell_type": "code",
   "execution_count": null,
   "metadata": {},
   "outputs": [],
   "source": [
    "import numpy as np"
   ]
  },
  {
   "cell_type": "code",
   "execution_count": null,
   "metadata": {},
   "outputs": [],
   "source": [
    "a = [1,2]\n",
    "b = [3,4]\n",
    "c = np.vstack((a,b))\n",
    "print(c)"
   ]
  },
  {
   "cell_type": "code",
   "execution_count": null,
   "metadata": {},
   "outputs": [],
   "source": [
    "a = [[1,2],\n",
    "     [3,4]]\n",
    "b = [[5],\n",
    "     [6]]\n",
    "print(np.hstack([a,b]))"
   ]
  },
  {
   "cell_type": "code",
   "execution_count": null,
   "metadata": {},
   "outputs": [],
   "source": []
  }
 ],
 "metadata": {
  "kernelspec": {
   "display_name": "Python 3",
   "language": "python",
   "name": "python3"
  },
  "language_info": {
   "codemirror_mode": {
    "name": "ipython",
    "version": 3
   },
   "file_extension": ".py",
   "mimetype": "text/x-python",
   "name": "python",
   "nbconvert_exporter": "python",
   "pygments_lexer": "ipython3",
   "version": "3.6.6"
  }
 },
 "nbformat": 4,
 "nbformat_minor": 2
}
